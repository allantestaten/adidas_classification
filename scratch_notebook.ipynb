{
 "cells": [
  {
   "cell_type": "code",
   "execution_count": 21,
   "id": "49dfb344",
   "metadata": {},
   "outputs": [],
   "source": [
    "#all imports for project \n",
    "from pathlib import Path \n",
    "from tabulate import tabulate\n",
    "\n",
    "import matplotlib.pyplot as plt\n",
    "import numpy as np\n",
    "import pandas as pd\n",
    "import seaborn as sns\n",
    "from scipy import stats\n",
    "from sklearn.model_selection import train_test_split\n",
    "from sklearn.ensemble import RandomForestClassifier\n",
    "from sklearn.neighbors import KNeighborsClassifier\n",
    "from sklearn.tree import DecisionTreeClassifier, plot_tree, export_text\n",
    "from sklearn.metrics import classification_report, confusion_matrix, plot_confusion_matrix\n",
    "import sklearn.linear_model\n",
    "from sklearn.linear_model import LogisticRegression\n",
    "\n",
    "# our own acquire script:\n",
    "#import acquire \n",
    "\n",
    "#import prep\n",
    "\n",
    "#alpha will equal .05 for all statistical tests\n",
    "a = .05\n",
    "\n",
    "np.random.seed(100)\n"
   ]
  },
  {
   "cell_type": "raw",
   "id": "9ac3e352",
   "metadata": {},
   "source": [
    "# Pre reading file into python \n",
    "\n",
    "Deleted top row to allow column names to show "
   ]
  },
  {
   "cell_type": "code",
   "execution_count": 2,
   "id": "cdf91afa",
   "metadata": {},
   "outputs": [],
   "source": [
    "# reading data into python from excel \n",
    "df = pd.read_excel('Adidas_US_Sales_Datasets.xlsx')"
   ]
  },
  {
   "cell_type": "code",
   "execution_count": 3,
   "id": "183fb9cb",
   "metadata": {
    "scrolled": true
   },
   "outputs": [
    {
     "name": "stdout",
     "output_type": "stream",
     "text": [
      "<class 'pandas.core.frame.DataFrame'>\n",
      "RangeIndex: 9648 entries, 0 to 9647\n",
      "Data columns (total 14 columns):\n",
      " #   Column            Non-Null Count  Dtype         \n",
      "---  ------            --------------  -----         \n",
      " 0   Unnamed: 0        0 non-null      float64       \n",
      " 1   Retailer          9648 non-null   object        \n",
      " 2   Retailer ID       9648 non-null   int64         \n",
      " 3   Invoice Date      9648 non-null   datetime64[ns]\n",
      " 4   Region            9648 non-null   object        \n",
      " 5   State             9648 non-null   object        \n",
      " 6   City              9648 non-null   object        \n",
      " 7   Product           9648 non-null   object        \n",
      " 8   Price per Unit    9648 non-null   float64       \n",
      " 9   Units Sold        9648 non-null   int64         \n",
      " 10  Total Sales       9648 non-null   float64       \n",
      " 11  Operating Profit  9648 non-null   float64       \n",
      " 12  Operating Margin  9648 non-null   float64       \n",
      " 13  Sales Method      9648 non-null   object        \n",
      "dtypes: datetime64[ns](1), float64(5), int64(2), object(6)\n",
      "memory usage: 1.0+ MB\n"
     ]
    }
   ],
   "source": [
    "df.info()"
   ]
  },
  {
   "cell_type": "code",
   "execution_count": 4,
   "id": "642f654b",
   "metadata": {},
   "outputs": [],
   "source": [
    "# dropping column \"Unnamed\"\n",
    "df = df.drop(columns=['Unnamed: 0'])"
   ]
  },
  {
   "cell_type": "code",
   "execution_count": 5,
   "id": "66aba89b",
   "metadata": {},
   "outputs": [],
   "source": [
    "# lowercase and replace spaces with underscore\n",
    "df.columns = [column.replace('+','_').lower() for column in df]\n",
    "#replace spaces with underscore\n",
    "df.columns = [column.replace(' ','_').lower() for column in df]"
   ]
  },
  {
   "cell_type": "code",
   "execution_count": 6,
   "id": "8ca6e56b",
   "metadata": {},
   "outputs": [
    {
     "name": "stdout",
     "output_type": "stream",
     "text": [
      "<class 'pandas.core.frame.DataFrame'>\n",
      "RangeIndex: 9648 entries, 0 to 9647\n",
      "Data columns (total 13 columns):\n",
      " #   Column            Non-Null Count  Dtype         \n",
      "---  ------            --------------  -----         \n",
      " 0   retailer          9648 non-null   object        \n",
      " 1   retailer_id       9648 non-null   int64         \n",
      " 2   invoice_date      9648 non-null   datetime64[ns]\n",
      " 3   region            9648 non-null   object        \n",
      " 4   state             9648 non-null   object        \n",
      " 5   city              9648 non-null   object        \n",
      " 6   product           9648 non-null   object        \n",
      " 7   price_per_unit    9648 non-null   float64       \n",
      " 8   units_sold        9648 non-null   int64         \n",
      " 9   total_sales       9648 non-null   float64       \n",
      " 10  operating_profit  9648 non-null   float64       \n",
      " 11  operating_margin  9648 non-null   float64       \n",
      " 12  sales_method      9648 non-null   object        \n",
      "dtypes: datetime64[ns](1), float64(4), int64(2), object(6)\n",
      "memory usage: 980.0+ KB\n"
     ]
    }
   ],
   "source": [
    "# checking for nulls, removal of unnamed column and data types \n",
    "df.info()"
   ]
  },
  {
   "cell_type": "code",
   "execution_count": 7,
   "id": "383a5954",
   "metadata": {},
   "outputs": [],
   "source": [
    "# dropping additional columns\n",
    "df = df.drop(columns=['invoice_date','operating_profit','price_per_unit','units_sold','retailer_id','total_sales'])"
   ]
  },
  {
   "cell_type": "code",
   "execution_count": 8,
   "id": "63668ef6",
   "metadata": {
    "scrolled": true
   },
   "outputs": [
    {
     "data": {
      "text/html": [
       "<div>\n",
       "<style scoped>\n",
       "    .dataframe tbody tr th:only-of-type {\n",
       "        vertical-align: middle;\n",
       "    }\n",
       "\n",
       "    .dataframe tbody tr th {\n",
       "        vertical-align: top;\n",
       "    }\n",
       "\n",
       "    .dataframe thead th {\n",
       "        text-align: right;\n",
       "    }\n",
       "</style>\n",
       "<table border=\"1\" class=\"dataframe\">\n",
       "  <thead>\n",
       "    <tr style=\"text-align: right;\">\n",
       "      <th></th>\n",
       "      <th>operating_margin</th>\n",
       "    </tr>\n",
       "  </thead>\n",
       "  <tbody>\n",
       "    <tr>\n",
       "      <th>count</th>\n",
       "      <td>9648.000000</td>\n",
       "    </tr>\n",
       "    <tr>\n",
       "      <th>mean</th>\n",
       "      <td>0.422991</td>\n",
       "    </tr>\n",
       "    <tr>\n",
       "      <th>std</th>\n",
       "      <td>0.097197</td>\n",
       "    </tr>\n",
       "    <tr>\n",
       "      <th>min</th>\n",
       "      <td>0.100000</td>\n",
       "    </tr>\n",
       "    <tr>\n",
       "      <th>25%</th>\n",
       "      <td>0.350000</td>\n",
       "    </tr>\n",
       "    <tr>\n",
       "      <th>50%</th>\n",
       "      <td>0.410000</td>\n",
       "    </tr>\n",
       "    <tr>\n",
       "      <th>75%</th>\n",
       "      <td>0.490000</td>\n",
       "    </tr>\n",
       "    <tr>\n",
       "      <th>max</th>\n",
       "      <td>0.800000</td>\n",
       "    </tr>\n",
       "  </tbody>\n",
       "</table>\n",
       "</div>"
      ],
      "text/plain": [
       "       operating_margin\n",
       "count       9648.000000\n",
       "mean           0.422991\n",
       "std            0.097197\n",
       "min            0.100000\n",
       "25%            0.350000\n",
       "50%            0.410000\n",
       "75%            0.490000\n",
       "max            0.800000"
      ]
     },
     "execution_count": 8,
     "metadata": {},
     "output_type": "execute_result"
    }
   ],
   "source": [
    "df.describe()"
   ]
  },
  {
   "cell_type": "code",
   "execution_count": 9,
   "id": "335824c1",
   "metadata": {},
   "outputs": [
    {
     "data": {
      "text/plain": [
       "retailer            0\n",
       "region              0\n",
       "state               0\n",
       "city                0\n",
       "product             0\n",
       "operating_margin    0\n",
       "sales_method        0\n",
       "dtype: int64"
      ]
     },
     "execution_count": 9,
     "metadata": {},
     "output_type": "execute_result"
    }
   ],
   "source": [
    "# No nulls \n",
    "df.isnull().sum()"
   ]
  },
  {
   "cell_type": "code",
   "execution_count": 10,
   "id": "6db67334",
   "metadata": {},
   "outputs": [
    {
     "data": {
      "text/plain": [
       "Index(['retailer', 'region', 'state', 'city', 'product', 'operating_margin',\n",
       "       'sales_method'],\n",
       "      dtype='object')"
      ]
     },
     "execution_count": 10,
     "metadata": {},
     "output_type": "execute_result"
    }
   ],
   "source": [
    "# list of column names \n",
    "df.columns"
   ]
  },
  {
   "cell_type": "code",
   "execution_count": 11,
   "id": "db8bebf0",
   "metadata": {},
   "outputs": [
    {
     "name": "stdout",
     "output_type": "stream",
     "text": [
      "retailer 6\n",
      "region 5\n",
      "state 50\n",
      "city 52\n",
      "product 6\n",
      "sales_method 3\n"
     ]
    }
   ],
   "source": [
    "obj_columns = df.columns[[df[col].dtype == 'object' for col in df.columns]]\n",
    "for col in obj_columns:\n",
    "    # printing number of unique values for each categorial variable \n",
    "    print(f'{col}',df[col].nunique())"
   ]
  },
  {
   "cell_type": "markdown",
   "id": "50e3ffb4",
   "metadata": {},
   "source": [
    "## Takeaways \n",
    "\n",
    "- All 50 states are represented in the data \n",
    "- There are 52 cities represented in the data \n",
    "- There are 6 unique retailers \n",
    "- There are 6 products \n",
    "- There are 3 unique sales methods "
   ]
  },
  {
   "cell_type": "code",
   "execution_count": 12,
   "id": "3be88260",
   "metadata": {},
   "outputs": [
    {
     "name": "stdout",
     "output_type": "stream",
     "text": [
      "retailer ['Foot Locker' 'Walmart' 'Sports Direct' 'West Gear' \"Kohl's\" 'Amazon']\n",
      "region ['Northeast' 'South' 'West' 'Midwest' 'Southeast']\n",
      "state ['New York' 'Texas' 'California' 'Illinois' 'Pennsylvania' 'Nevada'\n",
      " 'Colorado' 'Washington' 'Florida' 'Minnesota' 'Montana' 'Tennessee'\n",
      " 'Nebraska' 'Alabama' 'Maine' 'Alaska' 'Hawaii' 'Wyoming' 'Virginia'\n",
      " 'Michigan' 'Missouri' 'Utah' 'Oregon' 'Louisiana' 'Idaho' 'Arizona'\n",
      " 'New Mexico' 'Georgia' 'South Carolina' 'North Carolina' 'Ohio'\n",
      " 'Kentucky' 'Mississippi' 'Arkansas' 'Oklahoma' 'Kansas' 'South Dakota'\n",
      " 'North Dakota' 'Iowa' 'Wisconsin' 'Indiana' 'West Virginia' 'Maryland'\n",
      " 'Delaware' 'New Jersey' 'Connecticut' 'Rhode Island' 'Massachusetts'\n",
      " 'Vermont' 'New Hampshire']\n",
      "city ['New York' 'Houston' 'San Francisco' 'Los Angeles' 'Chicago' 'Dallas'\n",
      " 'Philadelphia' 'Las Vegas' 'Denver' 'Seattle' 'Miami' 'Minneapolis'\n",
      " 'Billings' 'Knoxville' 'Omaha' 'Birmingham' 'Portland' 'Anchorage'\n",
      " 'Honolulu' 'Orlando' 'Albany' 'Cheyenne' 'Richmond' 'Detroit' 'St. Louis'\n",
      " 'Salt Lake City' 'New Orleans' 'Boise' 'Phoenix' 'Albuquerque' 'Atlanta'\n",
      " 'Charleston' 'Charlotte' 'Columbus' 'Louisville' 'Jackson' 'Little Rock'\n",
      " 'Oklahoma City' 'Wichita' 'Sioux Falls' 'Fargo' 'Des Moines' 'Milwaukee'\n",
      " 'Indianapolis' 'Baltimore' 'Wilmington' 'Newark' 'Hartford' 'Providence'\n",
      " 'Boston' 'Burlington' 'Manchester']\n",
      "product [\"Men's Street Footwear\" \"Men's Athletic Footwear\"\n",
      " \"Women's Street Footwear\" \"Women's Athletic Footwear\" \"Men's Apparel\"\n",
      " \"Women's Apparel\"]\n",
      "sales_method ['In-store' 'Outlet' 'Online']\n"
     ]
    }
   ],
   "source": [
    "obj_columns = df.columns[[df[col].dtype == 'object' for col in df.columns]]\n",
    "for col in obj_columns:\n",
    "    # printing number of unique values for each categorial variable \n",
    "    print(f'{col}',df[col].unique())"
   ]
  },
  {
   "cell_type": "markdown",
   "id": "023e99a0",
   "metadata": {},
   "source": [
    "### Takeaways \n",
    "- sales methods being used in-store, outlet and online \n",
    "- cities represented in data appear to be major cities in their respective states \n",
    "- Products accounted for include men/women's footwear and men/women's apparel "
   ]
  },
  {
   "cell_type": "markdown",
   "id": "7196190b",
   "metadata": {},
   "source": [
    "## What will target variable be? \n",
    "Operating margin - How much profit a company makes on a dollar of sales after paying for variable costs of production, such as wages and raw materials, but before\n",
    "paying interest or tax."
   ]
  },
  {
   "cell_type": "markdown",
   "id": "c8111af2",
   "metadata": {},
   "source": [
    "##  Statistical Questions \n",
    "- Which retailer has the highest operating profit \n",
    "- Which retailer has the highest operating margin \n",
    "- Which region has the highest operating profit \n",
    "- Which state has the highest \n",
    "- Is there a correlation between retailer and operating profit \n",
    "- Is there a correlation between region and Operating Profit\n",
    "- Is there a correlation between State and Operating Profit \n",
    "- Is there a correlation between State and Operating Profit \n"
   ]
  },
  {
   "cell_type": "code",
   "execution_count": 14,
   "id": "cd3cc845",
   "metadata": {},
   "outputs": [
    {
     "name": "stdout",
     "output_type": "stream",
     "text": [
      "<class 'pandas.core.frame.DataFrame'>\n",
      "RangeIndex: 9648 entries, 0 to 9647\n",
      "Data columns (total 7 columns):\n",
      " #   Column            Non-Null Count  Dtype  \n",
      "---  ------            --------------  -----  \n",
      " 0   retailer          9648 non-null   object \n",
      " 1   region            9648 non-null   object \n",
      " 2   state             9648 non-null   object \n",
      " 3   city              9648 non-null   object \n",
      " 4   product           9648 non-null   object \n",
      " 5   operating_margin  9648 non-null   float64\n",
      " 6   sales_method      9648 non-null   object \n",
      "dtypes: float64(1), object(6)\n",
      "memory usage: 527.8+ KB\n"
     ]
    }
   ],
   "source": [
    "df.info()"
   ]
  },
  {
   "cell_type": "code",
   "execution_count": 16,
   "id": "b91621e6",
   "metadata": {
    "scrolled": true
   },
   "outputs": [],
   "source": [
    "# split data/ train, validate, test \n",
    "train_validate, test = train_test_split(df, test_size=.2, random_state=123)\n",
    "train, validate = train_test_split(train_validate, test_size=.3, random_state=123)  \n"
   ]
  },
  {
   "cell_type": "code",
   "execution_count": 17,
   "id": "90eba57e",
   "metadata": {},
   "outputs": [
    {
     "data": {
      "text/html": [
       "<div>\n",
       "<style scoped>\n",
       "    .dataframe tbody tr th:only-of-type {\n",
       "        vertical-align: middle;\n",
       "    }\n",
       "\n",
       "    .dataframe tbody tr th {\n",
       "        vertical-align: top;\n",
       "    }\n",
       "\n",
       "    .dataframe thead th {\n",
       "        text-align: right;\n",
       "    }\n",
       "</style>\n",
       "<table border=\"1\" class=\"dataframe\">\n",
       "  <thead>\n",
       "    <tr style=\"text-align: right;\">\n",
       "      <th></th>\n",
       "      <th>retailer</th>\n",
       "      <th>region</th>\n",
       "      <th>state</th>\n",
       "      <th>city</th>\n",
       "      <th>product</th>\n",
       "      <th>operating_margin</th>\n",
       "      <th>sales_method</th>\n",
       "    </tr>\n",
       "  </thead>\n",
       "  <tbody>\n",
       "    <tr>\n",
       "      <th>3508</th>\n",
       "      <td>Sports Direct</td>\n",
       "      <td>Northeast</td>\n",
       "      <td>New Jersey</td>\n",
       "      <td>Newark</td>\n",
       "      <td>Men's Athletic Footwear</td>\n",
       "      <td>0.35</td>\n",
       "      <td>In-store</td>\n",
       "    </tr>\n",
       "    <tr>\n",
       "      <th>2959</th>\n",
       "      <td>Sports Direct</td>\n",
       "      <td>Midwest</td>\n",
       "      <td>North Dakota</td>\n",
       "      <td>Fargo</td>\n",
       "      <td>Men's Apparel</td>\n",
       "      <td>0.35</td>\n",
       "      <td>Online</td>\n",
       "    </tr>\n",
       "    <tr>\n",
       "      <th>7826</th>\n",
       "      <td>Walmart</td>\n",
       "      <td>Northeast</td>\n",
       "      <td>New York</td>\n",
       "      <td>New York</td>\n",
       "      <td>Women's Street Footwear</td>\n",
       "      <td>0.39</td>\n",
       "      <td>Outlet</td>\n",
       "    </tr>\n",
       "    <tr>\n",
       "      <th>323</th>\n",
       "      <td>Foot Locker</td>\n",
       "      <td>Midwest</td>\n",
       "      <td>Illinois</td>\n",
       "      <td>Chicago</td>\n",
       "      <td>Women's Athletic Footwear</td>\n",
       "      <td>0.40</td>\n",
       "      <td>Outlet</td>\n",
       "    </tr>\n",
       "    <tr>\n",
       "      <th>9493</th>\n",
       "      <td>Amazon</td>\n",
       "      <td>Northeast</td>\n",
       "      <td>Massachusetts</td>\n",
       "      <td>Boston</td>\n",
       "      <td>Men's Apparel</td>\n",
       "      <td>0.29</td>\n",
       "      <td>Outlet</td>\n",
       "    </tr>\n",
       "    <tr>\n",
       "      <th>...</th>\n",
       "      <td>...</td>\n",
       "      <td>...</td>\n",
       "      <td>...</td>\n",
       "      <td>...</td>\n",
       "      <td>...</td>\n",
       "      <td>...</td>\n",
       "      <td>...</td>\n",
       "    </tr>\n",
       "    <tr>\n",
       "      <th>8588</th>\n",
       "      <td>West Gear</td>\n",
       "      <td>West</td>\n",
       "      <td>Utah</td>\n",
       "      <td>Salt Lake City</td>\n",
       "      <td>Women's Apparel</td>\n",
       "      <td>0.57</td>\n",
       "      <td>Outlet</td>\n",
       "    </tr>\n",
       "    <tr>\n",
       "      <th>3995</th>\n",
       "      <td>Walmart</td>\n",
       "      <td>South</td>\n",
       "      <td>Texas</td>\n",
       "      <td>Houston</td>\n",
       "      <td>Women's Athletic Footwear</td>\n",
       "      <td>0.60</td>\n",
       "      <td>Online</td>\n",
       "    </tr>\n",
       "    <tr>\n",
       "      <th>7003</th>\n",
       "      <td>West Gear</td>\n",
       "      <td>Midwest</td>\n",
       "      <td>Wisconsin</td>\n",
       "      <td>Milwaukee</td>\n",
       "      <td>Men's Apparel</td>\n",
       "      <td>0.61</td>\n",
       "      <td>Online</td>\n",
       "    </tr>\n",
       "    <tr>\n",
       "      <th>4451</th>\n",
       "      <td>West Gear</td>\n",
       "      <td>West</td>\n",
       "      <td>Nevada</td>\n",
       "      <td>Las Vegas</td>\n",
       "      <td>Women's Athletic Footwear</td>\n",
       "      <td>0.41</td>\n",
       "      <td>Online</td>\n",
       "    </tr>\n",
       "    <tr>\n",
       "      <th>8653</th>\n",
       "      <td>West Gear</td>\n",
       "      <td>West</td>\n",
       "      <td>Oregon</td>\n",
       "      <td>Portland</td>\n",
       "      <td>Men's Apparel</td>\n",
       "      <td>0.42</td>\n",
       "      <td>Outlet</td>\n",
       "    </tr>\n",
       "  </tbody>\n",
       "</table>\n",
       "<p>5402 rows × 7 columns</p>\n",
       "</div>"
      ],
      "text/plain": [
       "           retailer     region          state            city  \\\n",
       "3508  Sports Direct  Northeast     New Jersey          Newark   \n",
       "2959  Sports Direct    Midwest   North Dakota           Fargo   \n",
       "7826        Walmart  Northeast       New York        New York   \n",
       "323     Foot Locker    Midwest       Illinois         Chicago   \n",
       "9493         Amazon  Northeast  Massachusetts          Boston   \n",
       "...             ...        ...            ...             ...   \n",
       "8588      West Gear       West           Utah  Salt Lake City   \n",
       "3995        Walmart      South          Texas         Houston   \n",
       "7003      West Gear    Midwest      Wisconsin       Milwaukee   \n",
       "4451      West Gear       West         Nevada       Las Vegas   \n",
       "8653      West Gear       West         Oregon        Portland   \n",
       "\n",
       "                        product  operating_margin sales_method  \n",
       "3508    Men's Athletic Footwear              0.35     In-store  \n",
       "2959              Men's Apparel              0.35       Online  \n",
       "7826    Women's Street Footwear              0.39       Outlet  \n",
       "323   Women's Athletic Footwear              0.40       Outlet  \n",
       "9493              Men's Apparel              0.29       Outlet  \n",
       "...                         ...               ...          ...  \n",
       "8588            Women's Apparel              0.57       Outlet  \n",
       "3995  Women's Athletic Footwear              0.60       Online  \n",
       "7003              Men's Apparel              0.61       Online  \n",
       "4451  Women's Athletic Footwear              0.41       Online  \n",
       "8653              Men's Apparel              0.42       Outlet  \n",
       "\n",
       "[5402 rows x 7 columns]"
      ]
     },
     "execution_count": 17,
     "metadata": {},
     "output_type": "execute_result"
    }
   ],
   "source": [
    "train"
   ]
  },
  {
   "cell_type": "markdown",
   "id": "d6634588",
   "metadata": {},
   "source": [
    "### Where are highest operating margins across categorical variables? \n"
   ]
  },
  {
   "cell_type": "code",
   "execution_count": 18,
   "id": "82542d39",
   "metadata": {},
   "outputs": [
    {
     "name": "stdout",
     "output_type": "stream",
     "text": [
      "               operating_margin\n",
      "retailer                       \n",
      "Amazon                   208.72\n",
      "Foot Locker              617.26\n",
      "Kohl's                   240.59\n",
      "Sports Direct            495.77\n",
      "Walmart                  155.53\n",
      "West Gear                569.31\n",
      "           operating_margin\n",
      "region                     \n",
      "Midwest              450.99\n",
      "Northeast            543.89\n",
      "South                453.09\n",
      "Southeast            290.80\n",
      "West                 548.41\n",
      "                operating_margin\n",
      "state                           \n",
      "Alabama                    62.37\n",
      "Alaska                     26.22\n",
      "Arizona                    48.17\n",
      "Arkansas                   54.83\n",
      "California                 88.50\n",
      "Colorado                   37.14\n",
      "Connecticut                45.07\n",
      "Delaware                   40.77\n",
      "Florida                    81.41\n",
      "Georgia                    48.52\n",
      "Hawaii                     23.42\n",
      "Idaho                      54.85\n",
      "Illinois                   34.12\n",
      "Indiana                    37.74\n",
      "Iowa                       35.28\n",
      "Kansas                     31.44\n",
      "Kentucky                   36.39\n",
      "Louisiana                  53.35\n",
      "Maine                      30.14\n",
      "Maryland                   33.32\n",
      "Massachusetts              41.03\n",
      "Michigan                   39.12\n",
      "Minnesota                  35.96\n",
      "Mississippi                60.27\n",
      "Missouri                   35.42\n",
      "Montana                    36.56\n",
      "Nebraska                   33.52\n",
      "Nevada                     55.07\n",
      "New Hampshire              42.46\n",
      "New Jersey                 36.32\n",
      "New Mexico                 47.42\n",
      "New York                   78.04\n",
      "North Carolina             38.22\n",
      "North Dakota               28.30\n",
      "Ohio                       34.20\n",
      "Oklahoma                   50.88\n",
      "Oregon                     54.79\n",
      "Pennsylvania               50.57\n",
      "Rhode Island               54.00\n",
      "South Carolina             38.80\n",
      "South Dakota               32.00\n",
      "Tennessee                  57.02\n",
      "Texas                     114.37\n",
      "Utah                       53.03\n",
      "Vermont                    57.73\n",
      "Virginia                   47.46\n",
      "Washington                 28.11\n",
      "West Virginia              34.44\n",
      "Wisconsin                  37.33\n",
      "Wyoming                    31.69\n",
      "                operating_margin\n",
      "city                            \n",
      "Albany                     29.28\n",
      "Albuquerque                47.42\n",
      "Anchorage                  26.22\n",
      "Atlanta                    48.52\n",
      "Baltimore                  33.32\n",
      "Billings                   36.56\n",
      "Birmingham                 62.37\n",
      "Boise                      54.85\n",
      "Boston                     41.03\n",
      "Burlington                 57.73\n",
      "Charleston                 73.24\n",
      "Charlotte                  38.22\n",
      "Cheyenne                   31.69\n",
      "Chicago                    34.12\n",
      "Columbus                   34.20\n",
      "Dallas                     57.28\n",
      "Denver                     37.14\n",
      "Des Moines                 35.28\n",
      "Detroit                    39.12\n",
      "Fargo                      28.30\n",
      "Hartford                   45.07\n",
      "Honolulu                   23.42\n",
      "Houston                    57.09\n",
      "Indianapolis               37.74\n",
      "Jackson                    60.27\n",
      "Knoxville                  57.02\n",
      "Las Vegas                  55.07\n",
      "Little Rock                54.83\n",
      "Los Angeles                46.95\n",
      "Louisville                 36.39\n",
      "Manchester                 42.46\n",
      "Miami                      33.70\n",
      "Milwaukee                  37.33\n",
      "Minneapolis                35.96\n",
      "New Orleans                53.35\n",
      "New York                   48.76\n",
      "Newark                     36.32\n",
      "Oklahoma City              50.88\n",
      "Omaha                      33.52\n",
      "Orlando                    47.71\n",
      "Philadelphia               50.57\n",
      "Phoenix                    48.17\n",
      "Portland                   84.93\n",
      "Providence                 54.00\n",
      "Richmond                   47.46\n",
      "Salt Lake City             53.03\n",
      "San Francisco              41.55\n",
      "Seattle                    28.11\n",
      "Sioux Falls                32.00\n",
      "St. Louis                  35.42\n",
      "Wichita                    31.44\n",
      "Wilmington                 40.77\n",
      "                           operating_margin\n",
      "product                                    \n",
      "Men's Apparel                        382.68\n",
      "Men's Athletic Footwear              370.72\n",
      "Men's Street Footwear                386.70\n",
      "Women's Apparel                      403.57\n",
      "Women's Athletic Footwear            386.16\n",
      "Women's Street Footwear              357.35\n",
      "              operating_margin\n",
      "sales_method                  \n",
      "In-store                357.75\n",
      "Online                 1274.33\n",
      "Outlet                  655.10\n"
     ]
    }
   ],
   "source": [
    "# Highest operating Margin occur in Online Sales \n",
    "cat_columns =train.columns[[train[col].dtype == 'object' for col in train.columns]]\n",
    "\n",
    "for col in cat_columns:\n",
    "    # printing number of unique values for each categorial variable \n",
    "    print(train.groupby(col).sum())\n",
    "    \n",
    "#train.groupby('sales_method').sum()\n"
   ]
  },
  {
   "cell_type": "markdown",
   "id": "2474dc97",
   "metadata": {},
   "source": [
    "## What are the median and mean Operating Margins? "
   ]
  },
  {
   "cell_type": "code",
   "execution_count": 22,
   "id": "8173167b",
   "metadata": {},
   "outputs": [
    {
     "name": "stdout",
     "output_type": "stream",
     "text": [
      "Metric         Value\n",
      "----------  --------\n",
      "Median      0.41\n",
      "Mean        0.423395\n",
      "Difference  0.013395\n"
     ]
    }
   ],
   "source": [
    "# ''' This function will create a table of information '''\n",
    "    #calculating median of property values \n",
    "median = train.operating_margin.median() \n",
    "\n",
    "    #calculating mean of property values \n",
    "mean = train.operating_margin.mean()\n",
    "\n",
    "    # difference between mean and median \n",
    "difference = mean - median\n",
    "\n",
    "    #provides data for table\n",
    "df = [[\"Median\", median], \n",
    "        [\"Mean\", mean],\n",
    "        [\"Difference\", difference]]\n",
    "        \n",
    "    #define header names\n",
    "col_names = [\"Metric\", \"Value\"]\n",
    "  \n",
    "    #display table\n",
    "print(tabulate(df, headers=col_names))   "
   ]
  },
  {
   "cell_type": "markdown",
   "id": "fa2d9ce3",
   "metadata": {},
   "source": [
    "## Takeaways \n",
    "- Median and mean are not too far apart \n",
    "- For performance evaluation, significantly exceeding .423 is exceptional \n",
    "\n"
   ]
  },
  {
   "cell_type": "markdown",
   "id": "30f3839b",
   "metadata": {},
   "source": [
    "## Which region has the highest operating Margin? "
   ]
  },
  {
   "cell_type": "code",
   "execution_count": 25,
   "id": "65fcc007",
   "metadata": {},
   "outputs": [
    {
     "name": "stdout",
     "output_type": "stream",
     "text": [
      "<class 'pandas.core.frame.DataFrame'>\n",
      "Int64Index: 5402 entries, 3508 to 8653\n",
      "Data columns (total 7 columns):\n",
      " #   Column            Non-Null Count  Dtype  \n",
      "---  ------            --------------  -----  \n",
      " 0   retailer          5402 non-null   object \n",
      " 1   region            5402 non-null   object \n",
      " 2   state             5402 non-null   object \n",
      " 3   city              5402 non-null   object \n",
      " 4   product           5402 non-null   object \n",
      " 5   operating_margin  5402 non-null   float64\n",
      " 6   sales_method      5402 non-null   object \n",
      "dtypes: float64(1), object(6)\n",
      "memory usage: 337.6+ KB\n"
     ]
    }
   ],
   "source": [
    "train.info()"
   ]
  },
  {
   "cell_type": "code",
   "execution_count": 30,
   "id": "3cff497d",
   "metadata": {},
   "outputs": [
    {
     "data": {
      "text/plain": [
       "(5402, 7)"
      ]
     },
     "execution_count": 30,
     "metadata": {},
     "output_type": "execute_result"
    }
   ],
   "source": [
    "# size of train dataset \n",
    "train.shape"
   ]
  },
  {
   "cell_type": "code",
   "execution_count": 42,
   "id": "8db9fafb",
   "metadata": {
    "scrolled": true
   },
   "outputs": [
    {
     "data": {
      "text/plain": [
       "[Text(0.5, 1.0, 'Region Operating Margins')]"
      ]
     },
     "execution_count": 42,
     "metadata": {},
     "output_type": "execute_result"
    },
    {
     "data": {
      "image/png": "[encoded data removed]",
      "text/plain": [
       "<Figure size 432x288 with 1 Axes>"
      ]
     },
     "metadata": {
      "needs_background": "light"
     },
     "output_type": "display_data"
    }
   ],
   "source": [
    "# barplot of region and operating margin \n",
    "sns.barplot(data=train, x=\"region\", y=\"operating_margin\").set(title= \"Region Operating Margins\")\n"
   ]
  },
  {
   "cell_type": "code",
   "execution_count": 45,
   "id": "f41f8dc7",
   "metadata": {},
   "outputs": [
    {
     "ename": "TypeError",
     "evalue": "unsupported operand type(s) for +: 'float' and 'str'",
     "output_type": "error",
     "traceback": [
      "\u001b[0;31m---------------------------------------------------------------------------\u001b[0m",
      "\u001b[0;31mTypeError\u001b[0m                                 Traceback (most recent call last)",
      "Input \u001b[0;32mIn [45]\u001b[0m, in \u001b[0;36m<cell line: 2>\u001b[0;34m()\u001b[0m\n\u001b[1;32m      1\u001b[0m \u001b[38;5;66;03m# statistical test /#pearsonr test \u001b[39;00m\n\u001b[0;32m----> 2\u001b[0m corr, p \u001b[38;5;241m=\u001b[39m \u001b[43mstats\u001b[49m\u001b[38;5;241;43m.\u001b[39;49m\u001b[43mpearsonr\u001b[49m\u001b[43m(\u001b[49m\u001b[43mtrain\u001b[49m\u001b[43m[\u001b[49m\u001b[38;5;124;43m'\u001b[39;49m\u001b[38;5;124;43mregion\u001b[39;49m\u001b[38;5;124;43m'\u001b[39;49m\u001b[43m]\u001b[49m\u001b[43m,\u001b[49m\u001b[43m \u001b[49m\u001b[43mtrain\u001b[49m\u001b[38;5;241;43m.\u001b[39;49m\u001b[43moperating_margin\u001b[49m\u001b[43m)\u001b[49m\n\u001b[1;32m      3\u001b[0m \u001b[38;5;28mprint\u001b[39m(\u001b[38;5;124mf\u001b[39m\u001b[38;5;124m'\u001b[39m\u001b[38;5;124mCorrelation Strength = \u001b[39m\u001b[38;5;132;01m{\u001b[39;00mcorr\u001b[38;5;132;01m:\u001b[39;00m\u001b[38;5;124m.4f\u001b[39m\u001b[38;5;132;01m}\u001b[39;00m\u001b[38;5;124m'\u001b[39m)\n\u001b[1;32m      4\u001b[0m \u001b[38;5;28mprint\u001b[39m(\u001b[38;5;124mf\u001b[39m\u001b[38;5;124m'\u001b[39m\u001b[38;5;124mp = \u001b[39m\u001b[38;5;132;01m{\u001b[39;00mp\u001b[38;5;132;01m}\u001b[39;00m\u001b[38;5;124m'\u001b[39m)\n",
      "File \u001b[0;32m/opt/homebrew/anaconda3/lib/python3.9/site-packages/scipy/stats/stats.py:4029\u001b[0m, in \u001b[0;36mpearsonr\u001b[0;34m(x, y)\u001b[0m\n\u001b[1;32m   4024\u001b[0m     \u001b[38;5;28;01mreturn\u001b[39;00m np\u001b[38;5;241m.\u001b[39mnan, np\u001b[38;5;241m.\u001b[39mnan\n\u001b[1;32m   4026\u001b[0m \u001b[38;5;66;03m# dtype is the data type for the calculations.  This expression ensures\u001b[39;00m\n\u001b[1;32m   4027\u001b[0m \u001b[38;5;66;03m# that the data type is at least 64 bit floating point.  It might have\u001b[39;00m\n\u001b[1;32m   4028\u001b[0m \u001b[38;5;66;03m# more precision if the input is, for example, np.longdouble.\u001b[39;00m\n\u001b[0;32m-> 4029\u001b[0m dtype \u001b[38;5;241m=\u001b[39m \u001b[38;5;28mtype\u001b[39m(\u001b[38;5;241;43m1.0\u001b[39;49m\u001b[43m \u001b[49m\u001b[38;5;241;43m+\u001b[39;49m\u001b[43m \u001b[49m\u001b[43mx\u001b[49m\u001b[43m[\u001b[49m\u001b[38;5;241;43m0\u001b[39;49m\u001b[43m]\u001b[49m \u001b[38;5;241m+\u001b[39m y[\u001b[38;5;241m0\u001b[39m])\n\u001b[1;32m   4031\u001b[0m \u001b[38;5;28;01mif\u001b[39;00m n \u001b[38;5;241m==\u001b[39m \u001b[38;5;241m2\u001b[39m:\n\u001b[1;32m   4032\u001b[0m     \u001b[38;5;28;01mreturn\u001b[39;00m dtype(np\u001b[38;5;241m.\u001b[39msign(x[\u001b[38;5;241m1\u001b[39m] \u001b[38;5;241m-\u001b[39m x[\u001b[38;5;241m0\u001b[39m])\u001b[38;5;241m*\u001b[39mnp\u001b[38;5;241m.\u001b[39msign(y[\u001b[38;5;241m1\u001b[39m] \u001b[38;5;241m-\u001b[39m y[\u001b[38;5;241m0\u001b[39m])), \u001b[38;5;241m1.0\u001b[39m\n",
      "\u001b[0;31mTypeError\u001b[0m: unsupported operand type(s) for +: 'float' and 'str'"
     ]
    }
   ],
   "source": [
    "# statistical test /#pearsonr test \n",
    "corr, p = stats.pearsonr(train['region'], train.operating_margin)\n",
    "print(f'Correlation Strength = {corr:.4f}')\n",
    "print(f'p = {p}')"
   ]
  },
  {
   "cell_type": "markdown",
   "id": "8379510f",
   "metadata": {},
   "source": [
    "##  Takeaways \n",
    "\n",
    "- South region has the highest operating margin "
   ]
  },
  {
   "cell_type": "code",
   "execution_count": null,
   "id": "575a8fe8",
   "metadata": {},
   "outputs": [],
   "source": []
  }
 ],
 "metadata": {
  "kernelspec": {
   "display_name": "Python 3 (ipykernel)",
   "language": "python",
   "name": "python3"
  },
  "language_info": {
   "codemirror_mode": {
    "name": "ipython",
    "version": 3
   },
   "file_extension": ".py",
   "mimetype": "text/x-python",
   "name": "python",
   "nbconvert_exporter": "python",
   "pygments_lexer": "ipython3",
   "version": "3.9.12"
  }
 },
 "nbformat": 4,
 "nbformat_minor": 5
}
