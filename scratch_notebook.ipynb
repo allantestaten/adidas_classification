{
 "cells": [
  {
   "cell_type": "code",
   "execution_count": 21,
   "id": "49dfb344",
   "metadata": {},
   "outputs": [],
   "source": [
    "#all imports for project \n",
    "from pathlib import Path \n",
    "from tabulate import tabulate\n",
    "\n",
    "import matplotlib.pyplot as plt\n",
    "import numpy as np\n",
    "import pandas as pd\n",
    "import seaborn as sns\n",
    "from scipy import stats\n",
    "from sklearn.model_selection import train_test_split\n",
    "from sklearn.ensemble import RandomForestClassifier\n",
    "from sklearn.neighbors import KNeighborsClassifier\n",
    "from sklearn.tree import DecisionTreeClassifier, plot_tree, export_text\n",
    "from sklearn.metrics import classification_report, confusion_matrix, plot_confusion_matrix\n",
    "import sklearn.linear_model\n",
    "from sklearn.linear_model import LogisticRegression\n",
    "\n",
    "# our own acquire script:\n",
    "#import acquire \n",
    "\n",
    "#import prep\n",
    "\n",
    "#alpha will equal .05 for all statistical tests\n",
    "a = .05\n",
    "\n",
    "np.random.seed(100)\n"
   ]
  },
  {
   "cell_type": "raw",
   "id": "fa01bdbc",
   "metadata": {},
   "source": [
    "# Pre reading file into python \n",
    "\n",
    "Deleted top row to allow column names to show "
   ]
  },
  {
   "cell_type": "code",
   "execution_count": 2,
   "id": "cdf91afa",
   "metadata": {},
   "outputs": [],
   "source": [
    "# reading data into python from excel \n",
    "df = pd.read_excel('Adidas_US_Sales_Datasets.xlsx')"
   ]
  },
  {
   "cell_type": "code",
   "execution_count": 3,
   "id": "183fb9cb",
   "metadata": {
    "scrolled": true
   },
   "outputs": [
    {
     "name": "stdout",
     "output_type": "stream",
     "text": [
      "<class 'pandas.core.frame.DataFrame'>\n",
      "RangeIndex: 9648 entries, 0 to 9647\n",
      "Data columns (total 14 columns):\n",
      " #   Column            Non-Null Count  Dtype         \n",
      "---  ------            --------------  -----         \n",
      " 0   Unnamed: 0        0 non-null      float64       \n",
      " 1   Retailer          9648 non-null   object        \n",
      " 2   Retailer ID       9648 non-null   int64         \n",
      " 3   Invoice Date      9648 non-null   datetime64[ns]\n",
      " 4   Region            9648 non-null   object        \n",
      " 5   State             9648 non-null   object        \n",
      " 6   City              9648 non-null   object        \n",
      " 7   Product           9648 non-null   object        \n",
      " 8   Price per Unit    9648 non-null   float64       \n",
      " 9   Units Sold        9648 non-null   int64         \n",
      " 10  Total Sales       9648 non-null   float64       \n",
      " 11  Operating Profit  9648 non-null   float64       \n",
      " 12  Operating Margin  9648 non-null   float64       \n",
      " 13  Sales Method      9648 non-null   object        \n",
      "dtypes: datetime64[ns](1), float64(5), int64(2), object(6)\n",
      "memory usage: 1.0+ MB\n"
     ]
    }
   ],
   "source": [
    "df.info()"
   ]
  },
  {
   "cell_type": "code",
   "execution_count": 4,
   "id": "642f654b",
   "metadata": {},
   "outputs": [],
   "source": [
    "# dropping column \"Unnamed\"\n",
    "df = df.drop(columns=['Unnamed: 0'])"
   ]
  },
  {
   "cell_type": "code",
   "execution_count": 5,
   "id": "116d1e7f",
   "metadata": {},
   "outputs": [],
   "source": [
    "# lowercase and replace spaces with underscore\n",
    "df.columns = [column.replace('+','_').lower() for column in df]\n",
    "#replace spaces with underscore\n",
    "df.columns = [column.replace(' ','_').lower() for column in df]"
   ]
  },
  {
   "cell_type": "code",
   "execution_count": 6,
   "id": "8ca6e56b",
   "metadata": {},
   "outputs": [
    {
     "name": "stdout",
     "output_type": "stream",
     "text": [
      "<class 'pandas.core.frame.DataFrame'>\n",
      "RangeIndex: 9648 entries, 0 to 9647\n",
      "Data columns (total 13 columns):\n",
      " #   Column            Non-Null Count  Dtype         \n",
      "---  ------            --------------  -----         \n",
      " 0   retailer          9648 non-null   object        \n",
      " 1   retailer_id       9648 non-null   int64         \n",
      " 2   invoice_date      9648 non-null   datetime64[ns]\n",
      " 3   region            9648 non-null   object        \n",
      " 4   state             9648 non-null   object        \n",
      " 5   city              9648 non-null   object        \n",
      " 6   product           9648 non-null   object        \n",
      " 7   price_per_unit    9648 non-null   float64       \n",
      " 8   units_sold        9648 non-null   int64         \n",
      " 9   total_sales       9648 non-null   float64       \n",
      " 10  operating_profit  9648 non-null   float64       \n",
      " 11  operating_margin  9648 non-null   float64       \n",
      " 12  sales_method      9648 non-null   object        \n",
      "dtypes: datetime64[ns](1), float64(4), int64(2), object(6)\n",
      "memory usage: 980.0+ KB\n"
     ]
    }
   ],
   "source": [
    "# checking for nulls, removal of unnamed column and data types \n",
    "df.info()"
   ]
  },
  {
   "cell_type": "code",
   "execution_count": 7,
   "id": "0bb17778",
   "metadata": {},
   "outputs": [],
   "source": [
    "# dropping additional columns\n",
    "df = df.drop(columns=['invoice_date','operating_profit','price_per_unit','units_sold','retailer_id','total_sales'])"
   ]
  },
  {
   "cell_type": "code",
   "execution_count": 8,
   "id": "25b14f12",
   "metadata": {
    "scrolled": true
   },
   "outputs": [
    {
     "data": {
      "text/html": [
       "<div>\n",
       "<style scoped>\n",
       "    .dataframe tbody tr th:only-of-type {\n",
       "        vertical-align: middle;\n",
       "    }\n",
       "\n",
       "    .dataframe tbody tr th {\n",
       "        vertical-align: top;\n",
       "    }\n",
       "\n",
       "    .dataframe thead th {\n",
       "        text-align: right;\n",
       "    }\n",
       "</style>\n",
       "<table border=\"1\" class=\"dataframe\">\n",
       "  <thead>\n",
       "    <tr style=\"text-align: right;\">\n",
       "      <th></th>\n",
       "      <th>operating_margin</th>\n",
       "    </tr>\n",
       "  </thead>\n",
       "  <tbody>\n",
       "    <tr>\n",
       "      <th>count</th>\n",
       "      <td>9648.000000</td>\n",
       "    </tr>\n",
       "    <tr>\n",
       "      <th>mean</th>\n",
       "      <td>0.422991</td>\n",
       "    </tr>\n",
       "    <tr>\n",
       "      <th>std</th>\n",
       "      <td>0.097197</td>\n",
       "    </tr>\n",
       "    <tr>\n",
       "      <th>min</th>\n",
       "      <td>0.100000</td>\n",
       "    </tr>\n",
       "    <tr>\n",
       "      <th>25%</th>\n",
       "      <td>0.350000</td>\n",
       "    </tr>\n",
       "    <tr>\n",
       "      <th>50%</th>\n",
       "      <td>0.410000</td>\n",
       "    </tr>\n",
       "    <tr>\n",
       "      <th>75%</th>\n",
       "      <td>0.490000</td>\n",
       "    </tr>\n",
       "    <tr>\n",
       "      <th>max</th>\n",
       "      <td>0.800000</td>\n",
       "    </tr>\n",
       "  </tbody>\n",
       "</table>\n",
       "</div>"
      ],
      "text/plain": [
       "       operating_margin\n",
       "count       9648.000000\n",
       "mean           0.422991\n",
       "std            0.097197\n",
       "min            0.100000\n",
       "25%            0.350000\n",
       "50%            0.410000\n",
       "75%            0.490000\n",
       "max            0.800000"
      ]
     },
     "execution_count": 8,
     "metadata": {},
     "output_type": "execute_result"
    }
   ],
   "source": [
    "df.describe()"
   ]
  },
  {
   "cell_type": "code",
   "execution_count": 9,
   "id": "554b3208",
   "metadata": {},
   "outputs": [
    {
     "data": {
      "text/plain": [
       "retailer            0\n",
       "region              0\n",
       "state               0\n",
       "city                0\n",
       "product             0\n",
       "operating_margin    0\n",
       "sales_method        0\n",
       "dtype: int64"
      ]
     },
     "execution_count": 9,
     "metadata": {},
     "output_type": "execute_result"
    }
   ],
   "source": [
    "# No nulls \n",
    "df.isnull().sum()"
   ]
  },
  {
   "cell_type": "code",
   "execution_count": 10,
   "id": "7e5b07b8",
   "metadata": {},
   "outputs": [
    {
     "data": {
      "text/plain": [
       "Index(['retailer', 'region', 'state', 'city', 'product', 'operating_margin',\n",
       "       'sales_method'],\n",
       "      dtype='object')"
      ]
     },
     "execution_count": 10,
     "metadata": {},
     "output_type": "execute_result"
    }
   ],
   "source": [
    "# list of column names \n",
    "df.columns"
   ]
  },
  {
   "cell_type": "code",
   "execution_count": 11,
   "id": "5c2ccea1",
   "metadata": {},
   "outputs": [
    {
     "name": "stdout",
     "output_type": "stream",
     "text": [
      "retailer 6\n",
      "region 5\n",
      "state 50\n",
      "city 52\n",
      "product 6\n",
      "sales_method 3\n"
     ]
    }
   ],
   "source": [
    "obj_columns = df.columns[[df[col].dtype == 'object' for col in df.columns]]\n",
    "for col in obj_columns:\n",
    "    # printing number of unique values for each categorial variable \n",
    "    print(f'{col}',df[col].nunique())"
   ]
  },
  {
   "cell_type": "markdown",
   "id": "e8df8f90",
   "metadata": {},
   "source": [
    "## Takeaways \n",
    "\n",
    "- All 50 states are represented in the data \n",
    "- There are 52 cities represented in the data \n",
    "- There are 6 unique retailers \n",
    "- There are 6 products \n",
    "- There are 3 unique sales methods "
   ]
  },
  {
   "cell_type": "code",
   "execution_count": 12,
   "id": "0182df21",
   "metadata": {},
   "outputs": [
    {
     "name": "stdout",
     "output_type": "stream",
     "text": [
      "retailer ['Foot Locker' 'Walmart' 'Sports Direct' 'West Gear' \"Kohl's\" 'Amazon']\n",
      "region ['Northeast' 'South' 'West' 'Midwest' 'Southeast']\n",
      "state ['New York' 'Texas' 'California' 'Illinois' 'Pennsylvania' 'Nevada'\n",
      " 'Colorado' 'Washington' 'Florida' 'Minnesota' 'Montana' 'Tennessee'\n",
      " 'Nebraska' 'Alabama' 'Maine' 'Alaska' 'Hawaii' 'Wyoming' 'Virginia'\n",
      " 'Michigan' 'Missouri' 'Utah' 'Oregon' 'Louisiana' 'Idaho' 'Arizona'\n",
      " 'New Mexico' 'Georgia' 'South Carolina' 'North Carolina' 'Ohio'\n",
      " 'Kentucky' 'Mississippi' 'Arkansas' 'Oklahoma' 'Kansas' 'South Dakota'\n",
      " 'North Dakota' 'Iowa' 'Wisconsin' 'Indiana' 'West Virginia' 'Maryland'\n",
      " 'Delaware' 'New Jersey' 'Connecticut' 'Rhode Island' 'Massachusetts'\n",
      " 'Vermont' 'New Hampshire']\n",
      "city ['New York' 'Houston' 'San Francisco' 'Los Angeles' 'Chicago' 'Dallas'\n",
      " 'Philadelphia' 'Las Vegas' 'Denver' 'Seattle' 'Miami' 'Minneapolis'\n",
      " 'Billings' 'Knoxville' 'Omaha' 'Birmingham' 'Portland' 'Anchorage'\n",
      " 'Honolulu' 'Orlando' 'Albany' 'Cheyenne' 'Richmond' 'Detroit' 'St. Louis'\n",
      " 'Salt Lake City' 'New Orleans' 'Boise' 'Phoenix' 'Albuquerque' 'Atlanta'\n",
      " 'Charleston' 'Charlotte' 'Columbus' 'Louisville' 'Jackson' 'Little Rock'\n",
      " 'Oklahoma City' 'Wichita' 'Sioux Falls' 'Fargo' 'Des Moines' 'Milwaukee'\n",
      " 'Indianapolis' 'Baltimore' 'Wilmington' 'Newark' 'Hartford' 'Providence'\n",
      " 'Boston' 'Burlington' 'Manchester']\n",
      "product [\"Men's Street Footwear\" \"Men's Athletic Footwear\"\n",
      " \"Women's Street Footwear\" \"Women's Athletic Footwear\" \"Men's Apparel\"\n",
      " \"Women's Apparel\"]\n",
      "sales_method ['In-store' 'Outlet' 'Online']\n"
     ]
    }
   ],
   "source": [
    "obj_columns = df.columns[[df[col].dtype == 'object' for col in df.columns]]\n",
    "for col in obj_columns:\n",
    "    # printing number of unique values for each categorial variable \n",
    "    print(f'{col}',df[col].unique())"
   ]
  },
  {
   "cell_type": "markdown",
   "id": "82eb388d",
   "metadata": {},
   "source": [
    "### Takeaways \n",
    "- sales methods being used in-store, outlet and online \n",
    "- cities represented in data appear to be major cities in their respective states \n",
    "- Products accounted for include men/women's footwear and men/women's apparel "
   ]
  },
  {
   "cell_type": "markdown",
   "id": "7196190b",
   "metadata": {},
   "source": [
    "## What will target variable be? \n",
    "Operating margin - How much profit a company makes on a dollar of sales after paying for variable costs of production, such as wages and raw materials, but before\n",
    "paying interest or tax."
   ]
  },
  {
   "cell_type": "markdown",
   "id": "c8111af2",
   "metadata": {},
   "source": [
    "##  Statistical Questions \n",
    "- What are the median and mean operating profit\n",
    "- Which retailer has the highest sales \n",
    "- Which retailer has the highest operating profit \n",
    "- Which region has the highest operating profit \n",
    "- Which state has the highest operating margin\n",
    "- Is there a correlation between State and Operating margin\n",
    "\n"
   ]
  },
  {
   "cell_type": "code",
   "execution_count": 14,
   "id": "467f49e9",
   "metadata": {},
   "outputs": [
    {
     "name": "stdout",
     "output_type": "stream",
     "text": [
      "<class 'pandas.core.frame.DataFrame'>\n",
      "RangeIndex: 9648 entries, 0 to 9647\n",
      "Data columns (total 7 columns):\n",
      " #   Column            Non-Null Count  Dtype  \n",
      "---  ------            --------------  -----  \n",
      " 0   retailer          9648 non-null   object \n",
      " 1   region            9648 non-null   object \n",
      " 2   state             9648 non-null   object \n",
      " 3   city              9648 non-null   object \n",
      " 4   product           9648 non-null   object \n",
      " 5   operating_margin  9648 non-null   float64\n",
      " 6   sales_method      9648 non-null   object \n",
      "dtypes: float64(1), object(6)\n",
      "memory usage: 527.8+ KB\n"
     ]
    }
   ],
   "source": [
    "df.info()"
   ]
  },
  {
   "cell_type": "code",
   "execution_count": 16,
   "id": "b91621e6",
   "metadata": {
    "scrolled": true
   },
   "outputs": [],
   "source": [
    "# split data/ train, validate, test \n",
    "train_validate, test = train_test_split(df, test_size=.2, random_state=123)\n",
    "train, validate = train_test_split(train_validate, test_size=.3, random_state=123)  \n"
   ]
  },
  {
   "cell_type": "code",
   "execution_count": 17,
   "id": "90eba57e",
   "metadata": {},
   "outputs": [
    {
     "data": {
      "text/html": [
       "<div>\n",
       "<style scoped>\n",
       "    .dataframe tbody tr th:only-of-type {\n",
       "        vertical-align: middle;\n",
       "    }\n",
       "\n",
       "    .dataframe tbody tr th {\n",
       "        vertical-align: top;\n",
       "    }\n",
       "\n",
       "    .dataframe thead th {\n",
       "        text-align: right;\n",
       "    }\n",
       "</style>\n",
       "<table border=\"1\" class=\"dataframe\">\n",
       "  <thead>\n",
       "    <tr style=\"text-align: right;\">\n",
       "      <th></th>\n",
       "      <th>retailer</th>\n",
       "      <th>region</th>\n",
       "      <th>state</th>\n",
       "      <th>city</th>\n",
       "      <th>product</th>\n",
       "      <th>operating_margin</th>\n",
       "      <th>sales_method</th>\n",
       "    </tr>\n",
       "  </thead>\n",
       "  <tbody>\n",
       "    <tr>\n",
       "      <th>3508</th>\n",
       "      <td>Sports Direct</td>\n",
       "      <td>Northeast</td>\n",
       "      <td>New Jersey</td>\n",
       "      <td>Newark</td>\n",
       "      <td>Men's Athletic Footwear</td>\n",
       "      <td>0.35</td>\n",
       "      <td>In-store</td>\n",
       "    </tr>\n",
       "    <tr>\n",
       "      <th>2959</th>\n",
       "      <td>Sports Direct</td>\n",
       "      <td>Midwest</td>\n",
       "      <td>North Dakota</td>\n",
       "      <td>Fargo</td>\n",
       "      <td>Men's Apparel</td>\n",
       "      <td>0.35</td>\n",
       "      <td>Online</td>\n",
       "    </tr>\n",
       "    <tr>\n",
       "      <th>7826</th>\n",
       "      <td>Walmart</td>\n",
       "      <td>Northeast</td>\n",
       "      <td>New York</td>\n",
       "      <td>New York</td>\n",
       "      <td>Women's Street Footwear</td>\n",
       "      <td>0.39</td>\n",
       "      <td>Outlet</td>\n",
       "    </tr>\n",
       "    <tr>\n",
       "      <th>323</th>\n",
       "      <td>Foot Locker</td>\n",
       "      <td>Midwest</td>\n",
       "      <td>Illinois</td>\n",
       "      <td>Chicago</td>\n",
       "      <td>Women's Athletic Footwear</td>\n",
       "      <td>0.40</td>\n",
       "      <td>Outlet</td>\n",
       "    </tr>\n",
       "    <tr>\n",
       "      <th>9493</th>\n",
       "      <td>Amazon</td>\n",
       "      <td>Northeast</td>\n",
       "      <td>Massachusetts</td>\n",
       "      <td>Boston</td>\n",
       "      <td>Men's Apparel</td>\n",
       "      <td>0.29</td>\n",
       "      <td>Outlet</td>\n",
       "    </tr>\n",
       "    <tr>\n",
       "      <th>...</th>\n",
       "      <td>...</td>\n",
       "      <td>...</td>\n",
       "      <td>...</td>\n",
       "      <td>...</td>\n",
       "      <td>...</td>\n",
       "      <td>...</td>\n",
       "      <td>...</td>\n",
       "    </tr>\n",
       "    <tr>\n",
       "      <th>8588</th>\n",
       "      <td>West Gear</td>\n",
       "      <td>West</td>\n",
       "      <td>Utah</td>\n",
       "      <td>Salt Lake City</td>\n",
       "      <td>Women's Apparel</td>\n",
       "      <td>0.57</td>\n",
       "      <td>Outlet</td>\n",
       "    </tr>\n",
       "    <tr>\n",
       "      <th>3995</th>\n",
       "      <td>Walmart</td>\n",
       "      <td>South</td>\n",
       "      <td>Texas</td>\n",
       "      <td>Houston</td>\n",
       "      <td>Women's Athletic Footwear</td>\n",
       "      <td>0.60</td>\n",
       "      <td>Online</td>\n",
       "    </tr>\n",
       "    <tr>\n",
       "      <th>7003</th>\n",
       "      <td>West Gear</td>\n",
       "      <td>Midwest</td>\n",
       "      <td>Wisconsin</td>\n",
       "      <td>Milwaukee</td>\n",
       "      <td>Men's Apparel</td>\n",
       "      <td>0.61</td>\n",
       "      <td>Online</td>\n",
       "    </tr>\n",
       "    <tr>\n",
       "      <th>4451</th>\n",
       "      <td>West Gear</td>\n",
       "      <td>West</td>\n",
       "      <td>Nevada</td>\n",
       "      <td>Las Vegas</td>\n",
       "      <td>Women's Athletic Footwear</td>\n",
       "      <td>0.41</td>\n",
       "      <td>Online</td>\n",
       "    </tr>\n",
       "    <tr>\n",
       "      <th>8653</th>\n",
       "      <td>West Gear</td>\n",
       "      <td>West</td>\n",
       "      <td>Oregon</td>\n",
       "      <td>Portland</td>\n",
       "      <td>Men's Apparel</td>\n",
       "      <td>0.42</td>\n",
       "      <td>Outlet</td>\n",
       "    </tr>\n",
       "  </tbody>\n",
       "</table>\n",
       "<p>5402 rows × 7 columns</p>\n",
       "</div>"
      ],
      "text/plain": [
       "           retailer     region          state            city  \\\n",
       "3508  Sports Direct  Northeast     New Jersey          Newark   \n",
       "2959  Sports Direct    Midwest   North Dakota           Fargo   \n",
       "7826        Walmart  Northeast       New York        New York   \n",
       "323     Foot Locker    Midwest       Illinois         Chicago   \n",
       "9493         Amazon  Northeast  Massachusetts          Boston   \n",
       "...             ...        ...            ...             ...   \n",
       "8588      West Gear       West           Utah  Salt Lake City   \n",
       "3995        Walmart      South          Texas         Houston   \n",
       "7003      West Gear    Midwest      Wisconsin       Milwaukee   \n",
       "4451      West Gear       West         Nevada       Las Vegas   \n",
       "8653      West Gear       West         Oregon        Portland   \n",
       "\n",
       "                        product  operating_margin sales_method  \n",
       "3508    Men's Athletic Footwear              0.35     In-store  \n",
       "2959              Men's Apparel              0.35       Online  \n",
       "7826    Women's Street Footwear              0.39       Outlet  \n",
       "323   Women's Athletic Footwear              0.40       Outlet  \n",
       "9493              Men's Apparel              0.29       Outlet  \n",
       "...                         ...               ...          ...  \n",
       "8588            Women's Apparel              0.57       Outlet  \n",
       "3995  Women's Athletic Footwear              0.60       Online  \n",
       "7003              Men's Apparel              0.61       Online  \n",
       "4451  Women's Athletic Footwear              0.41       Online  \n",
       "8653              Men's Apparel              0.42       Outlet  \n",
       "\n",
       "[5402 rows x 7 columns]"
      ]
     },
     "execution_count": 17,
     "metadata": {},
     "output_type": "execute_result"
    }
   ],
   "source": [
    "train"
   ]
  },
  {
   "cell_type": "markdown",
   "id": "3dc492d2",
   "metadata": {},
   "source": [
    "### Where are highest operating margins across categorical variables? \n"
   ]
  },
  {
   "cell_type": "code",
   "execution_count": 18,
   "id": "da9cff0f",
   "metadata": {},
   "outputs": [
    {
     "name": "stdout",
     "output_type": "stream",
     "text": [
      "               operating_margin\n",
      "retailer                       \n",
      "Amazon                   208.72\n",
      "Foot Locker              617.26\n",
      "Kohl's                   240.59\n",
      "Sports Direct            495.77\n",
      "Walmart                  155.53\n",
      "West Gear                569.31\n",
      "           operating_margin\n",
      "region                     \n",
      "Midwest              450.99\n",
      "Northeast            543.89\n",
      "South                453.09\n",
      "Southeast            290.80\n",
      "West                 548.41\n",
      "                operating_margin\n",
      "state                           \n",
      "Alabama                    62.37\n",
      "Alaska                     26.22\n",
      "Arizona                    48.17\n",
      "Arkansas                   54.83\n",
      "California                 88.50\n",
      "Colorado                   37.14\n",
      "Connecticut                45.07\n",
      "Delaware                   40.77\n",
      "Florida                    81.41\n",
      "Georgia                    48.52\n",
      "Hawaii                     23.42\n",
      "Idaho                      54.85\n",
      "Illinois                   34.12\n",
      "Indiana                    37.74\n",
      "Iowa                       35.28\n",
      "Kansas                     31.44\n",
      "Kentucky                   36.39\n",
      "Louisiana                  53.35\n",
      "Maine                      30.14\n",
      "Maryland                   33.32\n",
      "Massachusetts              41.03\n",
      "Michigan                   39.12\n",
      "Minnesota                  35.96\n",
      "Mississippi                60.27\n",
      "Missouri                   35.42\n",
      "Montana                    36.56\n",
      "Nebraska                   33.52\n",
      "Nevada                     55.07\n",
      "New Hampshire              42.46\n",
      "New Jersey                 36.32\n",
      "New Mexico                 47.42\n",
      "New York                   78.04\n",
      "North Carolina             38.22\n",
      "North Dakota               28.30\n",
      "Ohio                       34.20\n",
      "Oklahoma                   50.88\n",
      "Oregon                     54.79\n",
      "Pennsylvania               50.57\n",
      "Rhode Island               54.00\n",
      "South Carolina             38.80\n",
      "South Dakota               32.00\n",
      "Tennessee                  57.02\n",
      "Texas                     114.37\n",
      "Utah                       53.03\n",
      "Vermont                    57.73\n",
      "Virginia                   47.46\n",
      "Washington                 28.11\n",
      "West Virginia              34.44\n",
      "Wisconsin                  37.33\n",
      "Wyoming                    31.69\n",
      "                operating_margin\n",
      "city                            \n",
      "Albany                     29.28\n",
      "Albuquerque                47.42\n",
      "Anchorage                  26.22\n",
      "Atlanta                    48.52\n",
      "Baltimore                  33.32\n",
      "Billings                   36.56\n",
      "Birmingham                 62.37\n",
      "Boise                      54.85\n",
      "Boston                     41.03\n",
      "Burlington                 57.73\n",
      "Charleston                 73.24\n",
      "Charlotte                  38.22\n",
      "Cheyenne                   31.69\n",
      "Chicago                    34.12\n",
      "Columbus                   34.20\n",
      "Dallas                     57.28\n",
      "Denver                     37.14\n",
      "Des Moines                 35.28\n",
      "Detroit                    39.12\n",
      "Fargo                      28.30\n",
      "Hartford                   45.07\n",
      "Honolulu                   23.42\n",
      "Houston                    57.09\n",
      "Indianapolis               37.74\n",
      "Jackson                    60.27\n",
      "Knoxville                  57.02\n",
      "Las Vegas                  55.07\n",
      "Little Rock                54.83\n",
      "Los Angeles                46.95\n",
      "Louisville                 36.39\n",
      "Manchester                 42.46\n",
      "Miami                      33.70\n",
      "Milwaukee                  37.33\n",
      "Minneapolis                35.96\n",
      "New Orleans                53.35\n",
      "New York                   48.76\n",
      "Newark                     36.32\n",
      "Oklahoma City              50.88\n",
      "Omaha                      33.52\n",
      "Orlando                    47.71\n",
      "Philadelphia               50.57\n",
      "Phoenix                    48.17\n",
      "Portland                   84.93\n",
      "Providence                 54.00\n",
      "Richmond                   47.46\n",
      "Salt Lake City             53.03\n",
      "San Francisco              41.55\n",
      "Seattle                    28.11\n",
      "Sioux Falls                32.00\n",
      "St. Louis                  35.42\n",
      "Wichita                    31.44\n",
      "Wilmington                 40.77\n",
      "                           operating_margin\n",
      "product                                    \n",
      "Men's Apparel                        382.68\n",
      "Men's Athletic Footwear              370.72\n",
      "Men's Street Footwear                386.70\n",
      "Women's Apparel                      403.57\n",
      "Women's Athletic Footwear            386.16\n",
      "Women's Street Footwear              357.35\n",
      "              operating_margin\n",
      "sales_method                  \n",
      "In-store                357.75\n",
      "Online                 1274.33\n",
      "Outlet                  655.10\n"
     ]
    }
   ],
   "source": [
    "# Highest operating Margin occur in Online Sales \n",
    "cat_columns =train.columns[[train[col].dtype == 'object' for col in train.columns]]\n",
    "\n",
    "for col in cat_columns:\n",
    "    # printing number of unique values for each categorial variable \n",
    "    print(train.groupby(col).sum())\n",
    "    \n",
    "#train.groupby('sales_method').sum()\n"
   ]
  },
  {
   "cell_type": "markdown",
   "id": "39fbd03b",
   "metadata": {},
   "source": [
    "## What are the median and mean Operating Margins? "
   ]
  },
  {
   "cell_type": "code",
   "execution_count": 22,
   "id": "a76347db",
   "metadata": {},
   "outputs": [
    {
     "name": "stdout",
     "output_type": "stream",
     "text": [
      "Metric         Value\n",
      "----------  --------\n",
      "Median      0.41\n",
      "Mean        0.423395\n",
      "Difference  0.013395\n"
     ]
    }
   ],
   "source": [
    "# ''' This function will create a table of information '''\n",
    "    #calculating median of property values \n",
    "median = train.operating_margin.median() \n",
    "\n",
    "    #calculating mean of property values \n",
    "mean = train.operating_margin.mean()\n",
    "\n",
    "    # difference between mean and median \n",
    "difference = mean - median\n",
    "\n",
    "    #provides data for table\n",
    "df = [[\"Median\", median], \n",
    "        [\"Mean\", mean],\n",
    "        [\"Difference\", difference]]\n",
    "        \n",
    "    #define header names\n",
    "col_names = [\"Metric\", \"Value\"]\n",
    "  \n",
    "    #display table\n",
    "print(tabulate(df, headers=col_names))   "
   ]
  },
  {
   "cell_type": "markdown",
   "id": "2b0f6a42",
   "metadata": {},
   "source": [
    "## Takeaways \n",
    "- Median and mean are not too far apart \n",
    "- For performance evaluation, significantly exceeding .423 is exceptional \n",
    "\n"
   ]
  },
  {
   "cell_type": "markdown",
   "id": "6f65e60a",
   "metadata": {},
   "source": [
    "## Does region have a relationship with operating margin? "
   ]
  },
  {
   "cell_type": "code",
   "execution_count": 25,
   "id": "93cc1462",
   "metadata": {},
   "outputs": [
    {
     "name": "stdout",
     "output_type": "stream",
     "text": [
      "<class 'pandas.core.frame.DataFrame'>\n",
      "Int64Index: 5402 entries, 3508 to 8653\n",
      "Data columns (total 7 columns):\n",
      " #   Column            Non-Null Count  Dtype  \n",
      "---  ------            --------------  -----  \n",
      " 0   retailer          5402 non-null   object \n",
      " 1   region            5402 non-null   object \n",
      " 2   state             5402 non-null   object \n",
      " 3   city              5402 non-null   object \n",
      " 4   product           5402 non-null   object \n",
      " 5   operating_margin  5402 non-null   float64\n",
      " 6   sales_method      5402 non-null   object \n",
      "dtypes: float64(1), object(6)\n",
      "memory usage: 337.6+ KB\n"
     ]
    }
   ],
   "source": [
    "train.info()"
   ]
  },
  {
   "cell_type": "code",
   "execution_count": 30,
   "id": "0d5ecd6d",
   "metadata": {},
   "outputs": [
    {
     "data": {
      "text/plain": [
       "(5402, 7)"
      ]
     },
     "execution_count": 30,
     "metadata": {},
     "output_type": "execute_result"
    }
   ],
   "source": [
    "# size of train dataset \n",
    "train.shape"
   ]
  },
  {
   "cell_type": "code",
   "execution_count": 42,
   "id": "4174268d",
   "metadata": {
    "scrolled": true
   },
   "outputs": [
    {
     "data": {
      "text/plain": [
       "[Text(0.5, 1.0, 'Region Operating Margins')]"
      ]
     },
     "execution_count": 42,
     "metadata": {},
     "output_type": "execute_result"
    },
    {
     "data": {
      "image/png": "[encoded data removed]",
      "text/plain": [
       "<Figure size 432x288 with 1 Axes>"
      ]
     },
     "metadata": {
      "needs_background": "light"
     },
     "output_type": "display_data"
    }
   ],
   "source": [
    "# barplot of region and operating margin \n",
    "sns.barplot(data=train, x=\"region\", y=\"operating_margin\").set(title= \"Region Operating Margins\")\n"
   ]
  },
  {
   "cell_type": "code",
   "execution_count": 67,
   "id": "e4bbfe6b",
   "metadata": {},
   "outputs": [],
   "source": [
    "# create dataframes of regions with their operating margin \n",
    "n_east = train[train.region == 'Northeast'].operating_margin\n",
    "midwest = train[train.region == 'Midwest'].operating_margin\n",
    "south = train[train.region == 'South'].operating_margin\n",
    "west = train[train.region == 'West'].operating_margin\n",
    "s_east= train[train.region == 'Southeast'].operating_margin\n"
   ]
  },
  {
   "cell_type": "code",
   "execution_count": 80,
   "id": "8ec9b7cd",
   "metadata": {},
   "outputs": [
    {
     "name": "stdout",
     "output_type": "stream",
     "text": [
      "0.007178412959294219\n",
      "0.008362610341547937\n",
      "0.008031537348525937\n",
      "0.01162099602313808\n",
      "0.008713136029953118\n"
     ]
    }
   ],
   "source": [
    "# find variances of each region \n",
    "for df in (n_east,midwest,south,west,s_east):\n",
    "    # printing number of unique values for each categorial variable \n",
    "    print( df.var())"
   ]
  },
  {
   "cell_type": "code",
   "execution_count": 81,
   "id": "58ea5ced",
   "metadata": {},
   "outputs": [
    {
     "name": "stdout",
     "output_type": "stream",
     "text": [
      "Kruska Result = 309.2166\n",
      "p = 1.113012461973387e-65\n"
     ]
    }
   ],
   "source": [
    "# statistical test /#pearsonr test \n",
    "results, p = stats.kruskal(n_east,midwest,south,west,s_east)\n",
    "\n",
    "# print results of statistical test \n",
    "print(f'Kruska Result = {results:.4f}')\n",
    "print(f'p = {p}')"
   ]
  },
  {
   "cell_type": "markdown",
   "id": "421148db",
   "metadata": {},
   "source": [
    "##  Takeaways \n",
    "\n",
    "- South region has the highest operating margin \n",
    "- There is a significant relationship between region and operating margin\n",
    "- Region should be a factor considered for modeling\n",
    "- Business takeaway, south region may be best region to continue to expand in\n",
    "\n",
    "## come backs \n",
    "- place values on the bar charts \n",
    "- figure out how to better present region names next to variances "
   ]
  },
  {
   "cell_type": "markdown",
   "id": "1f5721e8",
   "metadata": {},
   "source": [
    "## Is there a relationship between Retailer and operating margin? \n"
   ]
  },
  {
   "cell_type": "code",
   "execution_count": 82,
   "id": "5f407cec",
   "metadata": {},
   "outputs": [
    {
     "data": {
      "text/plain": [
       "[Text(0.5, 1.0, 'Retailer Operating Margins')]"
      ]
     },
     "execution_count": 82,
     "metadata": {},
     "output_type": "execute_result"
    },
    {
     "data": {
      "image/png": "[encoded data removed]",
      "text/plain": [
       "<Figure size 432x288 with 1 Axes>"
      ]
     },
     "metadata": {
      "needs_background": "light"
     },
     "output_type": "display_data"
    }
   ],
   "source": [
    "# Bar chart of operating margin for retailers\n",
    "sns.barplot(data=train, x=\"retailer\", y=\"operating_margin\").set(title= \"Retailer Operating Margins\")\n"
   ]
  },
  {
   "cell_type": "code",
   "execution_count": 105,
   "id": "c4d7f5bf",
   "metadata": {},
   "outputs": [],
   "source": [
    "# create dataframes of retailers with their operating margin \n",
    "sports_direct = train[train.retailer == 'Sports Direct'].operating_margin\n",
    "walmart = train[train.retailer == 'Walmart'].operating_margin\n",
    "foot_locker = train[train.retailer == 'Foot Locker'].operating_margin\n",
    "amazon = train[train.retailer == 'Amazon'].operating_margin\n",
    "west_gear= train[train.retailer == 'West Gear'].operating_margin\n",
    "kohls= train[train['retailer'] == \"Kohl's\"].operating_margin"
   ]
  },
  {
   "cell_type": "code",
   "execution_count": 106,
   "id": "1ac81ce8",
   "metadata": {},
   "outputs": [
    {
     "name": "stdout",
     "output_type": "stream",
     "text": [
      "0.011077350410776501\n",
      "0.00890312197817378\n",
      "0.007938101668489381\n",
      "0.00723961479431575\n",
      "0.010254278301748836\n",
      "0.00985620178760795\n"
     ]
    }
   ],
   "source": [
    "# find variances of each region \n",
    "for df in (sports_direct,walmart,foot_locker,amazon,west_gear,kohls):\n",
    "    # printing number of unique values for each categorial variable \n",
    "    print( df.var())"
   ]
  },
  {
   "cell_type": "code",
   "execution_count": 107,
   "id": "d461c577",
   "metadata": {},
   "outputs": [
    {
     "name": "stdout",
     "output_type": "stream",
     "text": [
      "Kruska Result = 48.8301\n",
      "p = 2.403965243243204e-09\n"
     ]
    }
   ],
   "source": [
    "# statistical test /#pearsonr test \n",
    "results, p = stats.kruskal(sports_direct,walmart,foot_locker,amazon,west_gear,kohls)\n",
    "\n",
    "# print results of statistical test \n",
    "print(f'Kruska Result = {results:.4f}')\n",
    "print(f'p = {p}')"
   ]
  },
  {
   "cell_type": "markdown",
   "id": "e6b64605",
   "metadata": {},
   "source": [
    "## Takeaways \n",
    "- The retailer with the highest operating margin is sports_direct\n",
    "- The remaining retailers have a similar operating margin \n",
    "- Walmart appears to be underperforming relative to its peers \n",
    "- retailer is a feature that should be considered for modeling "
   ]
  },
  {
   "cell_type": "markdown",
   "id": "65f4cbfd",
   "metadata": {},
   "source": [
    "## Is there a relationship between sales method and operating margin? \n"
   ]
  },
  {
   "cell_type": "code",
   "execution_count": 122,
   "id": "ff596990",
   "metadata": {},
   "outputs": [
    {
     "data": {
      "text/plain": [
       "<AxesSubplot:xlabel='sales_method', ylabel='operating_margin'>"
      ]
     },
     "execution_count": 122,
     "metadata": {},
     "output_type": "execute_result"
    },
    {
     "data": {
      "image/png": "[encoded data removed]",
      "text/plain": [
       "<Figure size 432x288 with 1 Axes>"
      ]
     },
     "metadata": {
      "needs_background": "light"
     },
     "output_type": "display_data"
    }
   ],
   "source": [
    "# Bar chart of operating margin for retailers\n",
    "sns.barplot(data=train,\n",
    "    x=\"sales_method\", y=\"operating_margin\")"
   ]
  },
  {
   "cell_type": "code",
   "execution_count": 114,
   "id": "a80ce887",
   "metadata": {},
   "outputs": [],
   "source": [
    "# create dataframes of sales-method with their operating margin \n",
    "in_store = train[train.sales_method == 'In-store'].operating_margin\n",
    "online = train[train.sales_method == 'Online'].operating_margin\n",
    "outlet = train[train.sales_method == 'Outlet'].operating_margin\n"
   ]
  },
  {
   "cell_type": "code",
   "execution_count": 123,
   "id": "973a9fa0",
   "metadata": {},
   "outputs": [
    {
     "name": "stdout",
     "output_type": "stream",
     "text": [
      "0.00519943845734698\n",
      "0.00785635451027821\n",
      "0.008511333987704333\n"
     ]
    }
   ],
   "source": [
    "# find variances of each region \n",
    "for df in (in_store,online,outlet):\n",
    "    # printing number of unique values for each categorial variable \n",
    "    print( df.var())"
   ]
  },
  {
   "cell_type": "code",
   "execution_count": 124,
   "id": "67005cee",
   "metadata": {},
   "outputs": [
    {
     "name": "stdout",
     "output_type": "stream",
     "text": [
      "Kruska Result = 1168.4619\n",
      "p = 1.8695019652572764e-254\n"
     ]
    }
   ],
   "source": [
    "# statistical test /#pearsonr test \n",
    "results, p = stats.kruskal(in_store,online,outlet)\n",
    "\n",
    "# print results of statistical test \n",
    "print(f'Kruska Result = {results:.4f}')\n",
    "print(f'p = {p}')"
   ]
  },
  {
   "cell_type": "markdown",
   "id": "ccf79330",
   "metadata": {},
   "source": [
    "## Takeaways \n",
    "- Online Sales appears to have the highest operating margin \n",
    "- Sales method appears to have a signficant relationship with operating margin \n",
    "- Sales method should be a feature considered for modeling "
   ]
  },
  {
   "cell_type": "markdown",
   "id": "b6863e36",
   "metadata": {},
   "source": [
    "## Is there a correlation between products and operating margin"
   ]
  },
  {
   "cell_type": "code",
   "execution_count": 149,
   "id": "b3e11e44",
   "metadata": {},
   "outputs": [],
   "source": [
    "# categories of products\n",
    "# create dataframes of products with their operating margin \n",
    "men_athletic_footwear = train[train['product'] == \"Men's Athletic Footwear\"].operating_margin\n",
    "men_apparel = train[train['product'] == \"Men's Apparel\"].operating_margin\n",
    "women_street_footwear = train[train['product'] == \"Women's Street Footwear\"].operating_margin\n",
    "women_athletic_footwear = train[train['product'] == \"Women's Athletic Footwear\"].operating_margin\n",
    "men_street_footwear= train[train['product'] == \"Men's Street Footwear\"].operating_margin\n",
    "women_apparel= train[train['product'] == \"Women's Apparel\"].operating_margin"
   ]
  },
  {
   "cell_type": "code",
   "execution_count": 150,
   "id": "0155ac12",
   "metadata": {},
   "outputs": [
    {
     "data": {
      "text/plain": [
       "<AxesSubplot:xlabel='operating_margin', ylabel='product'>"
      ]
     },
     "execution_count": 150,
     "metadata": {},
     "output_type": "execute_result"
    },
    {
     "data": {
      "image/png": "[encoded data removed]",
      "text/plain": [
       "<Figure size 432x288 with 1 Axes>"
      ]
     },
     "metadata": {
      "needs_background": "light"
     },
     "output_type": "display_data"
    }
   ],
   "source": [
    "sns.barplot(data=train,\n",
    "    x=\"operating_margin\", y=\"product\")"
   ]
  },
  {
   "cell_type": "code",
   "execution_count": 151,
   "id": "814a379b",
   "metadata": {},
   "outputs": [
    {
     "name": "stdout",
     "output_type": "stream",
     "text": [
      "0.006873635895635922\n",
      "0.010847679758434843\n",
      "0.006440051395693449\n",
      "0.007837634332371796\n",
      "0.006645535681142026\n",
      "0.016536256603682378\n"
     ]
    }
   ],
   "source": [
    "# find variances of each region \n",
    "for df in (men_athletic_footwear,men_apparel,women_street_footwear,women_athletic_footwear,men_street_footwear,women_apparel):\n",
    "    # printing number of unique values for each categorial variable \n",
    "    print( df.var())"
   ]
  },
  {
   "cell_type": "code",
   "execution_count": 152,
   "id": "0c9c7757",
   "metadata": {},
   "outputs": [
    {
     "name": "stdout",
     "output_type": "stream",
     "text": [
      "Kruska Result = 167.5372\n",
      "p = 2.4462474817537047e-34\n"
     ]
    }
   ],
   "source": [
    "# statistical test /#pearsonr test \n",
    "results, p = stats.kruskal(men_athletic_footwear,men_apparel,women_street_footwear,women_athletic_footwear,men_street_footwear,women_apparel)\n",
    "\n",
    "# print results of statistical test \n",
    "print(f'Kruska Result = {results:.4f}')\n",
    "print(f'p = {p}')"
   ]
  },
  {
   "cell_type": "markdown",
   "id": "9d120696",
   "metadata": {},
   "source": [
    "## Takeaways \n",
    "- there is a relationship between apparel and operating margin \n",
    "- Apparel will be considered for modeling \n",
    "- Women's apparel and men's street footwear appear to have the highest profit margins"
   ]
  },
  {
   "cell_type": "code",
   "execution_count": null,
   "id": "cfa9d1c2",
   "metadata": {},
   "outputs": [],
   "source": []
  }
 ],
 "metadata": {
  "kernelspec": {
   "display_name": "Python 3 (ipykernel)",
   "language": "python",
   "name": "python3"
  },
  "language_info": {
   "codemirror_mode": {
    "name": "ipython",
    "version": 3
   },
   "file_extension": ".py",
   "mimetype": "text/x-python",
   "name": "python",
   "nbconvert_exporter": "python",
   "pygments_lexer": "ipython3",
   "version": "3.9.12"
  }
 },
 "nbformat": 4,
 "nbformat_minor": 5
}
