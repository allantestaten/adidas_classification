{
 "cells": [
  {
   "cell_type": "code",
   "execution_count": 2,
   "id": "49dfb344",
   "metadata": {},
   "outputs": [],
   "source": [
    "#all imports for project \n",
    "from pathlib import Path \n",
    "from tabulate import tabulate\n",
    "\n",
    "import matplotlib.pyplot as plt\n",
    "import numpy as np\n",
    "import pandas as pd\n",
    "import seaborn as sns\n",
    "from scipy import stats\n",
    "from sklearn.model_selection import train_test_split\n",
    "from sklearn.ensemble import RandomForestClassifier\n",
    "from sklearn.neighbors import KNeighborsClassifier\n",
    "from sklearn.tree import DecisionTreeClassifier, plot_tree, export_text\n",
    "from sklearn.metrics import classification_report, confusion_matrix, plot_confusion_matrix\n",
    "import sklearn.linear_model\n",
    "from sklearn.linear_model import LogisticRegression\n",
    "\n",
    "import wrangle as w\n",
    "import explore as e \n",
    "import models as m\n",
    "\n",
    "\n",
    "np.random.seed(100)\n"
   ]
  },
  {
   "cell_type": "code",
   "execution_count": 21,
   "id": "10d1e44e",
   "metadata": {},
   "outputs": [],
   "source": [
    "def get_split_data():\n",
    "    '''this function will retrieve, clean and split the data'''\n",
    "    # reading data into python from excel \n",
    "    df = pd.read_excel('Adidas_US_Sales_Datasets.xlsx')\n",
    "\n",
    "    #replace spaces with underscore\n",
    "    df.columns = [column.replace(' ','_').lower() for column in df]\n",
    "    # dropping columns \n",
    "    df = df.drop(columns= ['unnamed:_0','invoice_date','operating_profit','price_per_unit','units_sold','retailer_id','total_sales'])\n",
    "    # have to get dummys for categorical variables \n",
    "\n",
    "    # Uses one-hot encoding to create dummies of string columns for future modeling \n",
    "    dummy_df = pd.get_dummies(df[['region','retailer','product','sales_method']], dummy_na=False, drop_first=[False])\n",
    "    df = pd.concat([df, dummy_df], axis=1)\n",
    "\n",
    "    #replace spaces with underscore\n",
    "    df.columns = [column.replace(' ','_').lower() for column in df]\n",
    "    \n",
    "    # split data/ train, validate, test \n",
    "    train_validate, test = train_test_split(df, test_size=.2, random_state=123)\n",
    "    train, validate = train_test_split(train_validate, test_size=.3, random_state=123) \n",
    "\n",
    "    \n"
   ]
  },
  {
   "cell_type": "code",
   "execution_count": 22,
   "id": "120e85dd",
   "metadata": {},
   "outputs": [],
   "source": [
    "#creating data set ready for statistical questions\n",
    "w.get_split_data()"
   ]
  },
  {
   "cell_type": "markdown",
   "id": "7196190b",
   "metadata": {},
   "source": [
    "## Target variable - Operating Margin\n",
    "How much profit company makes on a dollar of sales after paying variable costs but before paying interest or tax."
   ]
  },
  {
   "cell_type": "markdown",
   "id": "ab5bbb7f",
   "metadata": {},
   "source": [
    "## Data Dictionary \n",
    "\n",
    "| Feature | Definition |\n",
    "|:--------|:-----------|\n",
    "|Retailer| Specific store: Amazon, Foot Locker, Kohl's, Sports Direct, Walmart, West Gear|\n",
    "|Region| Geographic Region in United States: Northeast, Midwest South, Southeast, West |\n",
    "|Product| Products sold by retailer: men and women's footwear and apparel|\n",
    "|Operating Margin| operating income/revenue|\n",
    "|Sales Method | The method of sale: In Store, Online and Outlet |"
   ]
  },
  {
   "cell_type": "markdown",
   "id": "80c4f1b8",
   "metadata": {},
   "source": [
    "## What are the median and mean Operating Margins? "
   ]
  },
  {
   "cell_type": "code",
   "execution_count": 25,
   "id": "b88ec151",
   "metadata": {},
   "outputs": [],
   "source": [
    "def table():\n",
    "    ''' This function will create a table of information '''\n",
    "    #calculating median of property values \n",
    "    median = train.operating_margin.median() \n",
    "\n",
    "    #calculating mean of property values \n",
    "    mean = train.operating_margin.mean()\n",
    "\n",
    "    # difference between mean and median \n",
    "    difference = mean - median\n",
    "\n",
    "    #provides data for table\n",
    "    df = [[\"Median\", median], \n",
    "        [\"Mean\", mean],\n",
    "        [\"Difference\", difference]]\n",
    "        \n",
    "    #define header names\n",
    "    col_names = [\"Metric\", \"Value\"]\n",
    "  \n",
    "    #display table\n",
    "    print(tabulate(df, headers=col_names))   "
   ]
  },
  {
   "cell_type": "code",
   "execution_count": 26,
   "id": "22629750",
   "metadata": {},
   "outputs": [
    {
     "name": "stdout",
     "output_type": "stream",
     "text": [
      "Metric         Value\n",
      "----------  --------\n",
      "Median      0.41\n",
      "Mean        0.423395\n",
      "Difference  0.013395\n"
     ]
    }
   ],
   "source": [
    "w.table()"
   ]
  },
  {
   "cell_type": "markdown",
   "id": "0ff0b6ef",
   "metadata": {},
   "source": [
    "## Takeaways \n",
    "- Median and mean are not too far apart \n",
    "- For performance evaluation, significantly exceeding .423 is exceptional \n",
    "\n"
   ]
  },
  {
   "cell_type": "markdown",
   "id": "f0028fc4",
   "metadata": {},
   "source": [
    "## Does region have a relationship with operating margin? "
   ]
  },
  {
   "cell_type": "code",
   "execution_count": 47,
   "id": "1785867c",
   "metadata": {
    "scrolled": true
   },
   "outputs": [],
   "source": [
    "def barplot(data,x,y,title):\n",
    "    '''this function will create a barplot'''\n",
    "    # barplot of region and operating margin \n",
    "    sns.barplot(data=data, x=x, y=y).set(title= title)\n"
   ]
  },
  {
   "cell_type": "code",
   "execution_count": 49,
   "id": "eee2c579",
   "metadata": {},
   "outputs": [
    {
     "data": {
      "image/png": "[encoded data removed]",
      "text/plain": [
       "<Figure size 432x288 with 1 Axes>"
      ]
     },
     "metadata": {
      "needs_background": "light"
     },
     "output_type": "display_data"
    }
   ],
   "source": [
    "# barplot visual\n",
    "e.barplot(train,\"region\",\"operating_margin\",\"Region with Operating Margin\")"
   ]
  },
  {
   "cell_type": "code",
   "execution_count": 31,
   "id": "3de0538e",
   "metadata": {},
   "outputs": [],
   "source": [
    "# create dataframes of regions with their operating margin \n",
    "n_east = train[train.region == 'Northeast'].operating_margin\n",
    "midwest = train[train.region == 'Midwest'].operating_margin\n",
    "south = train[train.region == 'South'].operating_margin\n",
    "west = train[train.region == 'West'].operating_margin\n",
    "s_east= train[train.region == 'Southeast'].operating_margin\n"
   ]
  },
  {
   "cell_type": "markdown",
   "id": "f64dfbfe",
   "metadata": {},
   "source": [
    "## Hypothesis\n",
    "\n",
    "Ho: There is not a significant difference in the operating margin mean across Regions.<br>\n",
    "Ha: Is there a significant difference in the operating margin mean across the Regions."
   ]
  },
  {
   "cell_type": "code",
   "execution_count": 38,
   "id": "57348bd5",
   "metadata": {},
   "outputs": [],
   "source": [
    "def anova_test(a,b,c,d,e):\n",
    "    '''this function will provide the results of the ANOVA test'''\n",
    "    # statistical test /#pearsonr test \n",
    "    results, p = stats.kruskal(a,b,c,d,e)\n",
    "\n",
    "    # print results of statistical test \n",
    "    print(f'Kruska Result = {results:.4f}')\n",
    "    print(f'p = {p}')"
   ]
  },
  {
   "cell_type": "code",
   "execution_count": 39,
   "id": "bdae4ba9",
   "metadata": {},
   "outputs": [
    {
     "name": "stdout",
     "output_type": "stream",
     "text": [
      "Kruska Result = 309.2166\n",
      "p = 1.113012461973387e-65\n"
     ]
    }
   ],
   "source": [
    "# statistical test evaluation\n",
    "e.anova_test(n_east,midwest,south,west,s_east)"
   ]
  },
  {
   "cell_type": "markdown",
   "id": "1e4d3e47",
   "metadata": {},
   "source": [
    "##  Takeaways \n",
    "\n",
    "- South region has the highest operating margin \n",
    "- There is a significant relationship between region and operating margin\n",
    "- Region should be a factor considered for modeling\n",
    "- Business takeaway, south region may be best region to continue to expand in\n",
    "\n",
    "\n",
    "## come backs \n",
    "- place values on the bar charts \n",
    "- figure out how to better present region names next to variances "
   ]
  },
  {
   "cell_type": "markdown",
   "id": "3ff3ac92",
   "metadata": {},
   "source": [
    "## Is there a relationship between operating margin and Retailers? "
   ]
  },
  {
   "cell_type": "code",
   "execution_count": 50,
   "id": "04829440",
   "metadata": {},
   "outputs": [
    {
     "data": {
      "image/png": "[encoded data removed]",
      "text/plain": [
       "<Figure size 432x288 with 1 Axes>"
      ]
     },
     "metadata": {
      "needs_background": "light"
     },
     "output_type": "display_data"
    }
   ],
   "source": [
    "# barplot visual\n",
    "e.barplot(train,\"retailer\", \"operating_margin\",\"Retailer Operating Margins\")\n"
   ]
  },
  {
   "cell_type": "code",
   "execution_count": 53,
   "id": "c732d580",
   "metadata": {},
   "outputs": [],
   "source": [
    "# create dataframes of retailers with their operating margin \n",
    "sports_direct = train[train.retailer == 'Sports Direct'].operating_margin\n",
    "walmart = train[train.retailer == 'Walmart'].operating_margin\n",
    "foot_locker = train[train.retailer == 'Foot Locker'].operating_margin\n",
    "amazon = train[train.retailer == 'Amazon'].operating_margin\n",
    "west_gear= train[train.retailer == 'West Gear'].operating_margin\n",
    "kohls= train[train['retailer'] == \"Kohl's\"].operating_margin"
   ]
  },
  {
   "cell_type": "markdown",
   "id": "450ec9f0",
   "metadata": {},
   "source": [
    "## Hypothesis\n",
    "\n",
    "Ho: There is not a significant difference in the mean operating margin across Retailers.<br>\n",
    "Ha: Is there a significant difference in the operating margin mean across Retailers."
   ]
  },
  {
   "cell_type": "code",
   "execution_count": 60,
   "id": "f23745af",
   "metadata": {},
   "outputs": [],
   "source": [
    "def anova_test_retailer(a,b,c,d,e,f):\n",
    "    \"\"\"this function will run ANOVA test\"\"\"\n",
    "    # statistical test \n",
    "    results, p = stats.kruskal(a,b,c,d,e,f)\n",
    "    # print results of statistical test \n",
    "    print(f'Kruska Result = {results:.4f}')\n",
    "    print(f'p = {p}')"
   ]
  },
  {
   "cell_type": "code",
   "execution_count": 61,
   "id": "6a38a82c",
   "metadata": {},
   "outputs": [
    {
     "name": "stdout",
     "output_type": "stream",
     "text": [
      "Kruska Result = 48.8301\n",
      "p = 2.403965243243204e-09\n"
     ]
    }
   ],
   "source": [
    "e.anova_test_retailer(sports_direct,walmart,foot_locker,amazon,west_gear,kohls)"
   ]
  },
  {
   "cell_type": "markdown",
   "id": "1a86c941",
   "metadata": {},
   "source": [
    "## Takeaways \n",
    "- The retailer with the highest operating margin is sports_direct\n",
    "- The remaining retailers have a similar operating margin \n",
    "- Walmart appears to be underperforming relative to its peers \n",
    "- retailer is a feature that should be considered for modeling \n",
    "\n"
   ]
  },
  {
   "cell_type": "markdown",
   "id": "5b7242ef",
   "metadata": {},
   "source": [
    "## Is there a relationship between operating margin and sales method?"
   ]
  },
  {
   "cell_type": "code",
   "execution_count": 63,
   "id": "379bcdeb",
   "metadata": {
    "collapsed": true
   },
   "outputs": [
    {
     "ename": "AttributeError",
     "evalue": "'Rectangle' object has no property 'title'",
     "output_type": "error",
     "traceback": [
      "\u001b[0;31m---------------------------------------------------------------------------\u001b[0m",
      "\u001b[0;31mAttributeError\u001b[0m                            Traceback (most recent call last)",
      "Input \u001b[0;32mIn [63]\u001b[0m, in \u001b[0;36m<cell line: 2>\u001b[0;34m()\u001b[0m\n\u001b[1;32m      1\u001b[0m \u001b[38;5;66;03m# Bar chart of operating margin for retailers\u001b[39;00m\n\u001b[0;32m----> 2\u001b[0m \u001b[43msns\u001b[49m\u001b[38;5;241;43m.\u001b[39;49m\u001b[43mbarplot\u001b[49m\u001b[43m(\u001b[49m\u001b[43mdata\u001b[49m\u001b[38;5;241;43m=\u001b[39;49m\u001b[43mtrain\u001b[49m\u001b[43m,\u001b[49m\u001b[43mx\u001b[49m\u001b[38;5;241;43m=\u001b[39;49m\u001b[38;5;124;43m\"\u001b[39;49m\u001b[38;5;124;43msales_method\u001b[39;49m\u001b[38;5;124;43m\"\u001b[39;49m\u001b[43m,\u001b[49m\u001b[43m \u001b[49m\u001b[43my\u001b[49m\u001b[38;5;241;43m=\u001b[39;49m\u001b[38;5;124;43m\"\u001b[39;49m\u001b[38;5;124;43moperating_margin\u001b[39;49m\u001b[38;5;124;43m\"\u001b[39;49m\u001b[43m,\u001b[49m\u001b[43m \u001b[49m\u001b[43mtitle\u001b[49m\u001b[43m \u001b[49m\u001b[38;5;241;43m=\u001b[39;49m\u001b[43m \u001b[49m\u001b[38;5;124;43m\"\u001b[39;49m\u001b[38;5;124;43mOperating margin by Sales Method\u001b[39;49m\u001b[38;5;124;43m\"\u001b[39;49m\u001b[43m)\u001b[49m\n",
      "File \u001b[0;32m/opt/homebrew/anaconda3/lib/python3.9/site-packages/seaborn/_decorators.py:46\u001b[0m, in \u001b[0;36m_deprecate_positional_args.<locals>.inner_f\u001b[0;34m(*args, **kwargs)\u001b[0m\n\u001b[1;32m     36\u001b[0m     warnings\u001b[38;5;241m.\u001b[39mwarn(\n\u001b[1;32m     37\u001b[0m         \u001b[38;5;124m\"\u001b[39m\u001b[38;5;124mPass the following variable\u001b[39m\u001b[38;5;132;01m{}\u001b[39;00m\u001b[38;5;124m as \u001b[39m\u001b[38;5;132;01m{}\u001b[39;00m\u001b[38;5;124mkeyword arg\u001b[39m\u001b[38;5;132;01m{}\u001b[39;00m\u001b[38;5;124m: \u001b[39m\u001b[38;5;132;01m{}\u001b[39;00m\u001b[38;5;124m. \u001b[39m\u001b[38;5;124m\"\u001b[39m\n\u001b[1;32m     38\u001b[0m         \u001b[38;5;124m\"\u001b[39m\u001b[38;5;124mFrom version 0.12, the only valid positional argument \u001b[39m\u001b[38;5;124m\"\u001b[39m\n\u001b[0;32m   (...)\u001b[0m\n\u001b[1;32m     43\u001b[0m         \u001b[38;5;167;01mFutureWarning\u001b[39;00m\n\u001b[1;32m     44\u001b[0m     )\n\u001b[1;32m     45\u001b[0m kwargs\u001b[38;5;241m.\u001b[39mupdate({k: arg \u001b[38;5;28;01mfor\u001b[39;00m k, arg \u001b[38;5;129;01min\u001b[39;00m \u001b[38;5;28mzip\u001b[39m(sig\u001b[38;5;241m.\u001b[39mparameters, args)})\n\u001b[0;32m---> 46\u001b[0m \u001b[38;5;28;01mreturn\u001b[39;00m \u001b[43mf\u001b[49m\u001b[43m(\u001b[49m\u001b[38;5;241;43m*\u001b[39;49m\u001b[38;5;241;43m*\u001b[39;49m\u001b[43mkwargs\u001b[49m\u001b[43m)\u001b[49m\n",
      "File \u001b[0;32m/opt/homebrew/anaconda3/lib/python3.9/site-packages/seaborn/categorical.py:3190\u001b[0m, in \u001b[0;36mbarplot\u001b[0;34m(x, y, hue, data, order, hue_order, estimator, ci, n_boot, units, seed, orient, color, palette, saturation, errcolor, errwidth, capsize, dodge, ax, **kwargs)\u001b[0m\n\u001b[1;32m   3187\u001b[0m \u001b[38;5;28;01mif\u001b[39;00m ax \u001b[38;5;129;01mis\u001b[39;00m \u001b[38;5;28;01mNone\u001b[39;00m:\n\u001b[1;32m   3188\u001b[0m     ax \u001b[38;5;241m=\u001b[39m plt\u001b[38;5;241m.\u001b[39mgca()\n\u001b[0;32m-> 3190\u001b[0m \u001b[43mplotter\u001b[49m\u001b[38;5;241;43m.\u001b[39;49m\u001b[43mplot\u001b[49m\u001b[43m(\u001b[49m\u001b[43max\u001b[49m\u001b[43m,\u001b[49m\u001b[43m \u001b[49m\u001b[43mkwargs\u001b[49m\u001b[43m)\u001b[49m\n\u001b[1;32m   3191\u001b[0m \u001b[38;5;28;01mreturn\u001b[39;00m ax\n",
      "File \u001b[0;32m/opt/homebrew/anaconda3/lib/python3.9/site-packages/seaborn/categorical.py:1639\u001b[0m, in \u001b[0;36m_BarPlotter.plot\u001b[0;34m(self, ax, bar_kws)\u001b[0m\n\u001b[1;32m   1637\u001b[0m \u001b[38;5;28;01mdef\u001b[39;00m \u001b[38;5;21mplot\u001b[39m(\u001b[38;5;28mself\u001b[39m, ax, bar_kws):\n\u001b[1;32m   1638\u001b[0m     \u001b[38;5;124;03m\"\"\"Make the plot.\"\"\"\u001b[39;00m\n\u001b[0;32m-> 1639\u001b[0m     \u001b[38;5;28;43mself\u001b[39;49m\u001b[38;5;241;43m.\u001b[39;49m\u001b[43mdraw_bars\u001b[49m\u001b[43m(\u001b[49m\u001b[43max\u001b[49m\u001b[43m,\u001b[49m\u001b[43m \u001b[49m\u001b[43mbar_kws\u001b[49m\u001b[43m)\u001b[49m\n\u001b[1;32m   1640\u001b[0m     \u001b[38;5;28mself\u001b[39m\u001b[38;5;241m.\u001b[39mannotate_axes(ax)\n\u001b[1;32m   1641\u001b[0m     \u001b[38;5;28;01mif\u001b[39;00m \u001b[38;5;28mself\u001b[39m\u001b[38;5;241m.\u001b[39morient \u001b[38;5;241m==\u001b[39m \u001b[38;5;124m\"\u001b[39m\u001b[38;5;124mh\u001b[39m\u001b[38;5;124m\"\u001b[39m:\n",
      "File \u001b[0;32m/opt/homebrew/anaconda3/lib/python3.9/site-packages/seaborn/categorical.py:1604\u001b[0m, in \u001b[0;36m_BarPlotter.draw_bars\u001b[0;34m(self, ax, kws)\u001b[0m\n\u001b[1;32m   1599\u001b[0m barpos \u001b[38;5;241m=\u001b[39m np\u001b[38;5;241m.\u001b[39marange(\u001b[38;5;28mlen\u001b[39m(\u001b[38;5;28mself\u001b[39m\u001b[38;5;241m.\u001b[39mstatistic))\n\u001b[1;32m   1601\u001b[0m \u001b[38;5;28;01mif\u001b[39;00m \u001b[38;5;28mself\u001b[39m\u001b[38;5;241m.\u001b[39mplot_hues \u001b[38;5;129;01mis\u001b[39;00m \u001b[38;5;28;01mNone\u001b[39;00m:\n\u001b[1;32m   1602\u001b[0m \n\u001b[1;32m   1603\u001b[0m     \u001b[38;5;66;03m# Draw the bars\u001b[39;00m\n\u001b[0;32m-> 1604\u001b[0m     \u001b[43mbarfunc\u001b[49m\u001b[43m(\u001b[49m\u001b[43mbarpos\u001b[49m\u001b[43m,\u001b[49m\u001b[43m \u001b[49m\u001b[38;5;28;43mself\u001b[39;49m\u001b[38;5;241;43m.\u001b[39;49m\u001b[43mstatistic\u001b[49m\u001b[43m,\u001b[49m\u001b[43m \u001b[49m\u001b[38;5;28;43mself\u001b[39;49m\u001b[38;5;241;43m.\u001b[39;49m\u001b[43mwidth\u001b[49m\u001b[43m,\u001b[49m\n\u001b[1;32m   1605\u001b[0m \u001b[43m            \u001b[49m\u001b[43mcolor\u001b[49m\u001b[38;5;241;43m=\u001b[39;49m\u001b[38;5;28;43mself\u001b[39;49m\u001b[38;5;241;43m.\u001b[39;49m\u001b[43mcolors\u001b[49m\u001b[43m,\u001b[49m\u001b[43m \u001b[49m\u001b[43malign\u001b[49m\u001b[38;5;241;43m=\u001b[39;49m\u001b[38;5;124;43m\"\u001b[39;49m\u001b[38;5;124;43mcenter\u001b[39;49m\u001b[38;5;124;43m\"\u001b[39;49m\u001b[43m,\u001b[49m\u001b[43m \u001b[49m\u001b[38;5;241;43m*\u001b[39;49m\u001b[38;5;241;43m*\u001b[39;49m\u001b[43mkws\u001b[49m\u001b[43m)\u001b[49m\n\u001b[1;32m   1607\u001b[0m     \u001b[38;5;66;03m# Draw the confidence intervals\u001b[39;00m\n\u001b[1;32m   1608\u001b[0m     errcolors \u001b[38;5;241m=\u001b[39m [\u001b[38;5;28mself\u001b[39m\u001b[38;5;241m.\u001b[39merrcolor] \u001b[38;5;241m*\u001b[39m \u001b[38;5;28mlen\u001b[39m(barpos)\n",
      "File \u001b[0;32m/opt/homebrew/anaconda3/lib/python3.9/site-packages/matplotlib/__init__.py:1412\u001b[0m, in \u001b[0;36m_preprocess_data.<locals>.inner\u001b[0;34m(ax, data, *args, **kwargs)\u001b[0m\n\u001b[1;32m   1409\u001b[0m \u001b[38;5;129m@functools\u001b[39m\u001b[38;5;241m.\u001b[39mwraps(func)\n\u001b[1;32m   1410\u001b[0m \u001b[38;5;28;01mdef\u001b[39;00m \u001b[38;5;21minner\u001b[39m(ax, \u001b[38;5;241m*\u001b[39margs, data\u001b[38;5;241m=\u001b[39m\u001b[38;5;28;01mNone\u001b[39;00m, \u001b[38;5;241m*\u001b[39m\u001b[38;5;241m*\u001b[39mkwargs):\n\u001b[1;32m   1411\u001b[0m     \u001b[38;5;28;01mif\u001b[39;00m data \u001b[38;5;129;01mis\u001b[39;00m \u001b[38;5;28;01mNone\u001b[39;00m:\n\u001b[0;32m-> 1412\u001b[0m         \u001b[38;5;28;01mreturn\u001b[39;00m \u001b[43mfunc\u001b[49m\u001b[43m(\u001b[49m\u001b[43max\u001b[49m\u001b[43m,\u001b[49m\u001b[43m \u001b[49m\u001b[38;5;241;43m*\u001b[39;49m\u001b[38;5;28;43mmap\u001b[39;49m\u001b[43m(\u001b[49m\u001b[43msanitize_sequence\u001b[49m\u001b[43m,\u001b[49m\u001b[43m \u001b[49m\u001b[43margs\u001b[49m\u001b[43m)\u001b[49m\u001b[43m,\u001b[49m\u001b[43m \u001b[49m\u001b[38;5;241;43m*\u001b[39;49m\u001b[38;5;241;43m*\u001b[39;49m\u001b[43mkwargs\u001b[49m\u001b[43m)\u001b[49m\n\u001b[1;32m   1414\u001b[0m     bound \u001b[38;5;241m=\u001b[39m new_sig\u001b[38;5;241m.\u001b[39mbind(ax, \u001b[38;5;241m*\u001b[39margs, \u001b[38;5;241m*\u001b[39m\u001b[38;5;241m*\u001b[39mkwargs)\n\u001b[1;32m   1415\u001b[0m     auto_label \u001b[38;5;241m=\u001b[39m (bound\u001b[38;5;241m.\u001b[39marguments\u001b[38;5;241m.\u001b[39mget(label_namer)\n\u001b[1;32m   1416\u001b[0m                   \u001b[38;5;129;01mor\u001b[39;00m bound\u001b[38;5;241m.\u001b[39mkwargs\u001b[38;5;241m.\u001b[39mget(label_namer))\n",
      "File \u001b[0;32m/opt/homebrew/anaconda3/lib/python3.9/site-packages/matplotlib/axes/_axes.py:2403\u001b[0m, in \u001b[0;36mAxes.bar\u001b[0;34m(self, x, height, width, bottom, align, **kwargs)\u001b[0m\n\u001b[1;32m   2394\u001b[0m \u001b[38;5;28;01mfor\u001b[39;00m l, b, w, h, c, e, lw, htch \u001b[38;5;129;01min\u001b[39;00m args:\n\u001b[1;32m   2395\u001b[0m     r \u001b[38;5;241m=\u001b[39m mpatches\u001b[38;5;241m.\u001b[39mRectangle(\n\u001b[1;32m   2396\u001b[0m         xy\u001b[38;5;241m=\u001b[39m(l, b), width\u001b[38;5;241m=\u001b[39mw, height\u001b[38;5;241m=\u001b[39mh,\n\u001b[1;32m   2397\u001b[0m         facecolor\u001b[38;5;241m=\u001b[39mc,\n\u001b[0;32m   (...)\u001b[0m\n\u001b[1;32m   2401\u001b[0m         hatch\u001b[38;5;241m=\u001b[39mhtch,\n\u001b[1;32m   2402\u001b[0m         )\n\u001b[0;32m-> 2403\u001b[0m     \u001b[43mr\u001b[49m\u001b[38;5;241;43m.\u001b[39;49m\u001b[43mupdate\u001b[49m\u001b[43m(\u001b[49m\u001b[43mkwargs\u001b[49m\u001b[43m)\u001b[49m\n\u001b[1;32m   2404\u001b[0m     r\u001b[38;5;241m.\u001b[39mget_path()\u001b[38;5;241m.\u001b[39m_interpolation_steps \u001b[38;5;241m=\u001b[39m \u001b[38;5;241m100\u001b[39m\n\u001b[1;32m   2405\u001b[0m     \u001b[38;5;28;01mif\u001b[39;00m orientation \u001b[38;5;241m==\u001b[39m \u001b[38;5;124m'\u001b[39m\u001b[38;5;124mvertical\u001b[39m\u001b[38;5;124m'\u001b[39m:\n",
      "File \u001b[0;32m/opt/homebrew/anaconda3/lib/python3.9/site-packages/matplotlib/artist.py:1064\u001b[0m, in \u001b[0;36mArtist.update\u001b[0;34m(self, props)\u001b[0m\n\u001b[1;32m   1062\u001b[0m             func \u001b[38;5;241m=\u001b[39m \u001b[38;5;28mgetattr\u001b[39m(\u001b[38;5;28mself\u001b[39m, \u001b[38;5;124mf\u001b[39m\u001b[38;5;124m\"\u001b[39m\u001b[38;5;124mset_\u001b[39m\u001b[38;5;132;01m{\u001b[39;00mk\u001b[38;5;132;01m}\u001b[39;00m\u001b[38;5;124m\"\u001b[39m, \u001b[38;5;28;01mNone\u001b[39;00m)\n\u001b[1;32m   1063\u001b[0m             \u001b[38;5;28;01mif\u001b[39;00m \u001b[38;5;129;01mnot\u001b[39;00m callable(func):\n\u001b[0;32m-> 1064\u001b[0m                 \u001b[38;5;28;01mraise\u001b[39;00m \u001b[38;5;167;01mAttributeError\u001b[39;00m(\u001b[38;5;124mf\u001b[39m\u001b[38;5;124m\"\u001b[39m\u001b[38;5;132;01m{\u001b[39;00m\u001b[38;5;28mtype\u001b[39m(\u001b[38;5;28mself\u001b[39m)\u001b[38;5;241m.\u001b[39m\u001b[38;5;18m__name__\u001b[39m\u001b[38;5;132;01m!r}\u001b[39;00m\u001b[38;5;124m object \u001b[39m\u001b[38;5;124m\"\u001b[39m\n\u001b[1;32m   1065\u001b[0m                                      \u001b[38;5;124mf\u001b[39m\u001b[38;5;124m\"\u001b[39m\u001b[38;5;124mhas no property \u001b[39m\u001b[38;5;132;01m{\u001b[39;00mk\u001b[38;5;132;01m!r}\u001b[39;00m\u001b[38;5;124m\"\u001b[39m)\n\u001b[1;32m   1066\u001b[0m             ret\u001b[38;5;241m.\u001b[39mappend(func(v))\n\u001b[1;32m   1067\u001b[0m \u001b[38;5;28;01mif\u001b[39;00m ret:\n",
      "\u001b[0;31mAttributeError\u001b[0m: 'Rectangle' object has no property 'title'"
     ]
    },
    {
     "data": {
      "image/png": "[encoded data removed]",
      "text/plain": [
       "<Figure size 432x288 with 1 Axes>"
      ]
     },
     "metadata": {
      "needs_background": "light"
     },
     "output_type": "display_data"
    }
   ],
   "source": [
    "# barplot visual\n",
    "sns.barplot(data=train,x=\"sales_method\", y=\"operating_margin\", title = \"Operating margin by Sales Method\")"
   ]
  },
  {
   "cell_type": "code",
   "execution_count": 65,
   "id": "67bd85fa",
   "metadata": {},
   "outputs": [
    {
     "data": {
      "image/png": "[encoded data removed]",
      "text/plain": [
       "<Figure size 432x288 with 1 Axes>"
      ]
     },
     "metadata": {
      "needs_background": "light"
     },
     "output_type": "display_data"
    }
   ],
   "source": [
    "barplot(train,\"sales_method\", \"operating_margin\",\"Operating Margin by Sales Method\")"
   ]
  },
  {
   "cell_type": "code",
   "execution_count": null,
   "id": "be093658",
   "metadata": {},
   "outputs": [],
   "source": [
    "# create dataframes of sales-method with their operating margin \n",
    "in_store = train[train.sales_method == 'In-store'].operating_margin\n",
    "online = train[train.sales_method == 'Online'].operating_margin\n",
    "outlet = train[train.sales_method == 'Outlet'].operating_margin\n"
   ]
  },
  {
   "cell_type": "code",
   "execution_count": null,
   "id": "feb0b860",
   "metadata": {},
   "outputs": [],
   "source": [
    "# find variances of each region \n",
    "for df in (in_store,online,outlet):\n",
    "    # printing number of unique values for each categorial variable \n",
    "    print( df.var())"
   ]
  },
  {
   "cell_type": "markdown",
   "id": "eccd9fb8",
   "metadata": {},
   "source": [
    "## Hypothesis\n",
    "    \n",
    "Ho: There is not a significant difference in the mean operating margin across sales methods.<br>\n",
    "Ha: There is a significant difference in the mean operating margin across sales methods."
   ]
  },
  {
   "cell_type": "code",
   "execution_count": 69,
   "id": "167a80be",
   "metadata": {},
   "outputs": [],
   "source": [
    "# create dataframes of sales-method with their operating margin \n",
    "in_store = train[train.sales_method == 'In-store'].operating_margin\n",
    "online = train[train.sales_method == 'Online'].operating_margin\n",
    "outlet = train[train.sales_method == 'Outlet'].operating_margin"
   ]
  },
  {
   "cell_type": "code",
   "execution_count": 71,
   "id": "29894f6d",
   "metadata": {
    "scrolled": true
   },
   "outputs": [],
   "source": [
    "def anova_test_retailer(a,b,c):\n",
    "    \"\"\"this function will run ANOVA test\"\"\"   \n",
    "    # statistical test \n",
    "    results, p = stats.kruskal(a,b,c)\n",
    "    # print results of statistical test \n",
    "    print(f'Kruska Result = {results:.4f}')\n",
    "    print(f'p = {p}')"
   ]
  },
  {
   "cell_type": "code",
   "execution_count": 72,
   "id": "fb7c75fe",
   "metadata": {},
   "outputs": [
    {
     "name": "stdout",
     "output_type": "stream",
     "text": [
      "Kruska Result = 1168.4619\n",
      "p = 1.8695019652572764e-254\n"
     ]
    }
   ],
   "source": [
    "# statistical test /#pearsonr test \n",
    "results, p = stats.kruskal(in_store,online,outlet)\n",
    "\n",
    "# print results of statistical test \n",
    "print(f'Kruska Result = {results:.4f}')\n",
    "print(f'p = {p}')"
   ]
  },
  {
   "cell_type": "markdown",
   "id": "556e9b1b",
   "metadata": {},
   "source": [
    "## Takeaways \n",
    "- Online Sales appears to have the highest operating margin \n",
    "- Sales method appears to have a signficant relationship with operating margin \n",
    "- Sales method should be a feature considered for modeling "
   ]
  },
  {
   "cell_type": "markdown",
   "id": "f46aed78",
   "metadata": {},
   "source": [
    "## Is there a significant difference in the mean operating margin across products?"
   ]
  },
  {
   "cell_type": "code",
   "execution_count": null,
   "id": "7360b74a",
   "metadata": {},
   "outputs": [],
   "source": [
    "# categories of products\n",
    "# create dataframes of products with their operating margin \n",
    "men_athletic_footwear = train[train['product'] == \"Men's Athletic Footwear\"].operating_margin\n",
    "men_apparel = train[train['product'] == \"Men's Apparel\"].operating_margin\n",
    "women_street_footwear = train[train['product'] == \"Women's Street Footwear\"].operating_margin\n",
    "women_athletic_footwear = train[train['product'] == \"Women's Athletic Footwear\"].operating_margin\n",
    "men_street_footwear= train[train['product'] == \"Men's Street Footwear\"].operating_margin\n",
    "women_apparel= train[train['product'] == \"Women's Apparel\"].operating_margin"
   ]
  },
  {
   "cell_type": "code",
   "execution_count": null,
   "id": "799fc8ea",
   "metadata": {},
   "outputs": [],
   "source": [
    "# creating bar chart of operating margin \n",
    "sns.barplot(data=train,\n",
    "    x=\"operating_margin\", y=\"product\")"
   ]
  },
  {
   "cell_type": "code",
   "execution_count": null,
   "id": "42d6b9a8",
   "metadata": {},
   "outputs": [],
   "source": [
    "# find variances of each region \n",
    "for df in (men_athletic_footwear,men_apparel,women_street_footwear,women_athletic_footwear,men_street_footwear,women_apparel):\n",
    "    # printing number of unique values for each categorial variable \n",
    "    print( df.var())"
   ]
  },
  {
   "cell_type": "markdown",
   "id": "b1dbaa6b",
   "metadata": {},
   "source": [
    "## Hypothesis\n",
    "\n",
    "Null - There is not a significant difference in the operating margin mean across products\n",
    "Alternative - Is there a significant difference in the operating margin mean across the products"
   ]
  },
  {
   "cell_type": "code",
   "execution_count": null,
   "id": "53ea7c78",
   "metadata": {},
   "outputs": [],
   "source": [
    "# statistical test /#pearsonr test \n",
    "results, p = stats.kruskal(men_athletic_footwear,men_apparel,women_street_footwear,women_athletic_footwear,men_street_footwear,women_apparel)\n",
    "\n",
    "# print results of statistical test \n",
    "print(f'Kruska Result = {results:.4f}')\n",
    "print(f'p = {p}')"
   ]
  },
  {
   "cell_type": "markdown",
   "id": "7230215e",
   "metadata": {},
   "source": [
    "## Takeaways \n",
    "- there is a relationship between product and operating margin \n",
    "- Apparel will be considered for modeling \n",
    "- Women's apparel and men's street footwear appear to have the highest profit margins\n"
   ]
  },
  {
   "cell_type": "markdown",
   "id": "2043ee5c",
   "metadata": {},
   "source": [
    "## Exploration Summary\n",
    "\n",
    "- The median operating margin is 41%\n",
    "- The mean property value is 42.3%\n",
    "- There is a significant relationship between region and operating margin\n",
    "- Region should be a factor considered for modeling\n",
    "- retailer is a feature that should be considered for modeling \n",
    "- The retailer with the highest operating margin is sports_direct\n",
    "- Sales method appears to have a signficant relationship with operating margin \n",
    "- Sales method should be a feature considered for modeling \n",
    "- there is a relationship between product and operating margin \n",
    "- Product will be considered for modeling \n"
   ]
  },
  {
   "cell_type": "markdown",
   "id": "7e7cf5b0",
   "metadata": {},
   "source": [
    "## Modeling"
   ]
  },
  {
   "cell_type": "markdown",
   "id": "f14765e3",
   "metadata": {},
   "source": [
    "### Introduction\n",
    "\n",
    "- I will use Root Mean Squared error as my evaluation metric\n",
    "- My baseline model is created from the Root Mean Squared error (RMSE) of the median operating margin\n",
    "- The features chosen for the models are Region, Retailer, Sales Method, Product\n",
    "- Models will be evaluated on train and validate data sets \n",
    "- The model that performs the best will be evaluated on the test data"
   ]
  },
  {
   "cell_type": "code",
   "execution_count": null,
   "id": "d7a986a5",
   "metadata": {},
   "outputs": [],
   "source": [
    "train.info()"
   ]
  },
  {
   "cell_type": "code",
   "execution_count": null,
   "id": "2f1f23f2",
   "metadata": {},
   "outputs": [],
   "source": [
    "# creating train target variables in train, validate and test datasets\n",
    "y_train = train['operating_margin']\n",
    "y_validate = validate['operating_margin']\n",
    "y_test = test['operating_margin']"
   ]
  },
  {
   "cell_type": "code",
   "execution_count": null,
   "id": "46968978",
   "metadata": {},
   "outputs": [],
   "source": [
    "# changing y train, validate and test into a dataframe to append the new column with predicted values \n",
    "y_train = pd.DataFrame(y_train)\n",
    "y_validate= pd.DataFrame(y_validate)\n",
    "y_test= pd.DataFrame(y_test)"
   ]
  },
  {
   "cell_type": "code",
   "execution_count": null,
   "id": "327547c8",
   "metadata": {},
   "outputs": [],
   "source": [
    "from sklearn.metrics import mean_squared_error\n",
    "\n",
    "# Predict property_value_pred_mean (not used in project)\n",
    "operating_margin_pred_mean = y_train['operating_margin'].mean()\n",
    "y_train['operating_margin_pred_mean'] = operating_margin_pred_mean\n",
    "\n",
    "\n",
    "# RMSE of prop_value_pred_mean\n",
    "rmse_baseline_train = mean_squared_error(y_train.operating_margin, y_train.operating_margin_pred_mean)**(1/2)\n",
    "print(\"RMSE using mean\\nTrain/In-Sample: \", round(rmse_baseline_train, 4))\n"
   ]
  },
  {
   "cell_type": "code",
   "execution_count": null,
   "id": "e7c4c5e0",
   "metadata": {},
   "outputs": [],
   "source": [
    "## create features that will be tested in models \n",
    "x_all_significant_cols = ['region_south','retailer_sports_direct',\"product_women's_apparel\",\"product_men's_street_footwear\",'sales_method_online']\n",
    "x_region = ['region_south']\n",
    "x_sales = ['sales_method_online']\n",
    "x_region_sales =['region_south','sales_method_online']"
   ]
  },
  {
   "cell_type": "code",
   "execution_count": null,
   "id": "ed03eac6",
   "metadata": {},
   "outputs": [],
   "source": [
    "train.info()"
   ]
  },
  {
   "cell_type": "code",
   "execution_count": null,
   "id": "eadf7c70",
   "metadata": {},
   "outputs": [],
   "source": [
    "X_train = train.drop(columns=['retailer','region','state','city','product','operating_margin','sales_method'])\n",
    "X_validate = validate.drop(columns=['retailer','region','state','city','product','operating_margin','sales_method'])\n",
    "X_test = test.drop(columns=['retailer','region','state','city','product','operating_margin','sales_method'])"
   ]
  },
  {
   "cell_type": "code",
   "execution_count": null,
   "id": "567c4c17",
   "metadata": {},
   "outputs": [],
   "source": [
    "X_train"
   ]
  },
  {
   "cell_type": "markdown",
   "id": "811380b7",
   "metadata": {},
   "source": [
    "### Linear OLS Models"
   ]
  },
  {
   "cell_type": "code",
   "execution_count": null,
   "id": "4cd9eb17",
   "metadata": {},
   "outputs": [],
   "source": [
    "from sklearn.linear_model import LinearRegression, LassoLars, TweedieRegressor\n",
    "\n",
    "#metric=[]\n",
    "\n",
    "features = [x_all_significant_cols,x_region,x_sales,x_region_sales]\n",
    "\n",
    "for col in features:\n",
    "\n",
    "    # linearOLS models \n",
    "    # create the model object\n",
    "    lm = LinearRegression(normalize=True)\n",
    "\n",
    "    # fitting model to training data\n",
    "    lm.fit(X_train[col], y_train.operating_margin)\n",
    "\n",
    "    # computing predictions on x train dataset\n",
    "    y_train['operating_margin_pred_lm'] = lm.predict(X_train[col])\n",
    "\n",
    "    # evaluate: train rmse\n",
    "    rmse_linearreg_train = mean_squared_error(y_train.operating_margin, y_train.operating_margin_pred_lm)**(1/2)\n",
    "\n",
    "    # append results to dataframe \n",
    "    #metric.append\n",
    "    \n",
    "    #printing results of model \n",
    "    print(\"RMSE for OLS using LinearRegression\\nTraining/In-Sample: \", rmse_linearreg_train)\n",
    "\n",
    "    #Improvement compared to baseline \n",
    "    print([col],\"Percent Improvement Compared to Baseline: \",((rmse_baseline_train-rmse_linearreg_train)/(rmse_baseline_train)* 100))\n"
   ]
  },
  {
   "cell_type": "markdown",
   "id": "dc1c9612",
   "metadata": {},
   "source": [
    "### Takeaways\n",
    "\n",
    "- All models performed better than baseline by 8+ % "
   ]
  },
  {
   "cell_type": "markdown",
   "id": "c66e5805",
   "metadata": {},
   "source": [
    "## LassoLars \n",
    "\n"
   ]
  },
  {
   "cell_type": "code",
   "execution_count": null,
   "id": "d64dcfbe",
   "metadata": {},
   "outputs": [],
   "source": [
    "features = [x_all_significant_cols,x_region,x_sales,x_region_sales]\n",
    "\n",
    "for col in features:\n",
    "    \n",
    "   # create the model object\n",
    "    lars = LassoLars(alpha=0)\n",
    "\n",
    "    # fitting train data to model\n",
    "    lars.fit(X_train[col], y_train.operating_margin)\n",
    "\n",
    "    # predict train\n",
    "    y_train['operating_margin_pred_lars'] = lars.predict(X_train[col])\n",
    "\n",
    "    # evaluate: rmse\n",
    "    rmse_laso_lars_train = mean_squared_error(y_train.operating_margin, y_train.operating_margin_pred_lars)**(1/2)\n",
    "\n",
    "    #printing results of model \n",
    "    print(\"RMSE for Lasso + Lars\\nTraining/In-Sample: \", rmse_laso_lars_train)\n",
    "    \n",
    "    #Improvement compared to baseline \n",
    "    print(f\"{col} Percent Improvement Compared to Baseline: {((rmse_baseline_train-rmse_laso_lars_train)/(rmse_baseline_train)* 100)}\")\n"
   ]
  },
  {
   "cell_type": "markdown",
   "id": "2dcd1eb6",
   "metadata": {},
   "source": [
    "### Takeaways\n",
    "\n",
    "- performs the same as baseline "
   ]
  },
  {
   "cell_type": "markdown",
   "id": "41c40dc7",
   "metadata": {},
   "source": [
    "## TweedieRegressor(GLM) "
   ]
  },
  {
   "cell_type": "code",
   "execution_count": null,
   "id": "b619620f",
   "metadata": {},
   "outputs": [],
   "source": [
    "features = [x_all_significant_cols,x_region,x_sales,x_region_sales]\n",
    "\n",
    "for col in features:\n",
    " \n",
    "    # create the model object\n",
    "    glm = TweedieRegressor(power=1, alpha=0)\n",
    "\n",
    "    # fitting model to training data\n",
    "    glm.fit(X_train[col], y_train.operating_margin)\n",
    "\n",
    "    # computing predictions on x train dataset\n",
    "    y_train['operating_margin_pred_glm'] = glm.predict(X_train[col])\n",
    "\n",
    "    # evaluate: train rmse\n",
    "    rmse_tweedie_train = mean_squared_error(y_train.operating_margin, y_train.operating_margin_pred_glm)**(1/2)\n",
    "\n",
    "    # append results to dataframe \n",
    "    #metric.append\n",
    "    \n",
    "    #printing results of model \n",
    "    print(\"RMSE for GLM using Tweedie, power=1 & alpha=0\\nTraining/In-Sample: \", rmse_tweedie_train)\n",
    "\n",
    "    #Improvement compared to baseline \n",
    "    print([col],\"Percent Improvement Compared to Baseline: \",((rmse_baseline_train-rmse_tweedie_train)/(rmse_baseline_train)* 100))"
   ]
  },
  {
   "cell_type": "markdown",
   "id": "b521cd85",
   "metadata": {},
   "source": [
    "### Takeaways"
   ]
  },
  {
   "cell_type": "markdown",
   "id": "9e872bfc",
   "metadata": {},
   "source": [
    "## Linear regression "
   ]
  },
  {
   "cell_type": "code",
   "execution_count": null,
   "id": "50a4b5ac",
   "metadata": {},
   "outputs": [],
   "source": [
    "from sklearn.preprocessing import PolynomialFeatures\n",
    "\n",
    "\n",
    "features = [x_all_significant_cols,x_region,x_sales,x_region_sales]\n",
    "\n",
    "for col in features:\n",
    "\n",
    "    # create the model object\n",
    "    lm2 = LinearRegression(normalize=True)\n",
    "\n",
    "    # fit train data to model \n",
    "    lm2.fit(X_train[col], y_train.operating_margin)\n",
    "\n",
    "    # predict train\n",
    "    y_train['operating_margin_lm2'] = lm2.predict(X_train[col])\n",
    "\n",
    "    # evaluate: rmse\n",
    "    rmse_polynomial_reg_train = mean_squared_error(y_train.operating_margin, y_train.operating_margin_lm2)**(1/2)\n",
    "\n",
    "    # evaluate: rmse\n",
    "    #rmse_linear_validate = mean_squared_error(y_validate.property_value, y_validate.property_value_pred_lm2)**(1/2)\n",
    "\n",
    "    # print results of model\n",
    "    print(\"RMSE for Linear Regression Model, degrees=1\\nTraining/In-Sample: \", rmse_polynomial_reg_train)\n",
    "    \n",
    "    #Improvement compared to baseline \n",
    "    print([col],\"Percent Improvement Compared to Baseline: \",((rmse_baseline_train-rmse_polynomial_reg_train)/(rmse_baseline_train)* 100))"
   ]
  },
  {
   "cell_type": "markdown",
   "id": "14701c3b",
   "metadata": {},
   "source": [
    "## Decision Tree Regressor  "
   ]
  },
  {
   "cell_type": "code",
   "execution_count": null,
   "id": "6cc6320f",
   "metadata": {},
   "outputs": [],
   "source": [
    "from sklearn.tree import DecisionTreeRegressor\n",
    "\n",
    "features = [x_all_significant_cols,x_region,x_sales,x_region_sales]\n",
    "\n",
    "for col in features:\n",
    "\n",
    "    # create a regressor object\n",
    "    reg = DecisionTreeRegressor(random_state = 100) \n",
    "\n",
    "    # fit the regressor with X and Y data\n",
    "    reg.fit(X_train[col], y_train.operating_margin)\n",
    "\n",
    "    # predict train\n",
    "    y_train['operating_margin_reg'] = reg.predict(X_train[col])\n",
    "\n",
    "    # evaluate: rmse\n",
    "    rmse_tree_reg_train = mean_squared_error(y_train.operating_margin, y_train.operating_margin_reg)**(1/2)\n",
    "\n",
    "    # print results of model\n",
    "    print(\"RMSE for Decion Tree Regressor Model\\nTraining/In-Sample: \", rmse_tree_reg_train)\n",
    "    \n",
    "    #Improvement compared to baseline \n",
    "    print([col],\"Percent Improvement Compared to Baseline: \",((rmse_baseline_train-rmse_tree_reg_train)/(rmse_baseline_train)* 100))"
   ]
  },
  {
   "cell_type": "markdown",
   "id": "3543bd69",
   "metadata": {},
   "source": [
    "## Tweedie Regressor "
   ]
  },
  {
   "cell_type": "code",
   "execution_count": null,
   "id": "2c74d397",
   "metadata": {},
   "outputs": [],
   "source": [
    "from sklearn import linear_model\n",
    "\n",
    "features = [x_all_significant_cols,x_region,x_sales,x_region_sales]\n",
    "\n",
    "for col in features:\n",
    "\n",
    "    # create a regressor object\n",
    "    model = linear_model.TweedieRegressor()\n",
    "\n",
    "    # fit the regressor with X and Y data\n",
    "    model.fit(X_train[col], y_train.operating_margin)\n",
    "    \n",
    "    model.score(X_train[col], y_train.operating_margin)\n",
    "\n",
    "    # predict train\n",
    "    y_train['operating_margin_tw_reg'] = model.predict(X_train[col])\n",
    "\n",
    "    # evaluate: rmse\n",
    "    rmse_tw_reg_train = mean_squared_error(y_train.operating_margin, y_train.operating_margin_reg)**(1/2)\n",
    "\n",
    "    # print results of model\n",
    "    print(\"RMSE for Tweedie Regressor Model, degrees=1\\nTraining/In-Sample: \", rmse_tree_reg_train)\n",
    "    \n",
    "    #Improvement compared to baseline \n",
    "    print([col],\"Percent Improvement Compared to Baseline: \",((rmse_baseline_train-rmse_tw_reg_train)/(rmse_baseline_train)* 100))"
   ]
  },
  {
   "cell_type": "markdown",
   "id": "08e69d40",
   "metadata": {},
   "source": [
    "## Validate Stage Modeling "
   ]
  },
  {
   "cell_type": "code",
   "execution_count": null,
   "id": "f7072d5a",
   "metadata": {},
   "outputs": [],
   "source": [
    "Decision Tree Regressor, Linear Regression Model, Tweedie Regressor, "
   ]
  },
  {
   "cell_type": "code",
   "execution_count": null,
   "id": "2565657b",
   "metadata": {},
   "outputs": [],
   "source": [
    "# Confirm correct X_validate for models \n",
    "\n",
    "X_validate[x_all_significant_cols]"
   ]
  },
  {
   "cell_type": "code",
   "execution_count": null,
   "id": "10368e6e",
   "metadata": {},
   "outputs": [],
   "source": [
    "X_train[x_all_significant_cols]\n",
    "\n",
    "X_train = X_train[x_all_significant_cols]\n",
    "\n",
    "X_validate = X_validate[x_all_significant_cols]"
   ]
  },
  {
   "cell_type": "code",
   "execution_count": null,
   "id": "fc89e70a",
   "metadata": {},
   "outputs": [],
   "source": [
    "y_train.operating_margin"
   ]
  },
  {
   "cell_type": "markdown",
   "id": "596265ef",
   "metadata": {},
   "source": [
    "### Decision Tree Regressor Model\n"
   ]
  },
  {
   "cell_type": "code",
   "execution_count": null,
   "id": "af2734d0",
   "metadata": {},
   "outputs": [],
   "source": [
    "from sklearn.tree import DecisionTreeRegressor\n",
    "\n",
    "# create a regressor object\n",
    "reg = DecisionTreeRegressor(random_state = 100) \n",
    "\n",
    "# fit the regressor with X and Y data\n",
    "reg.fit(X_train, y_train.operating_margin)\n",
    "\n",
    "# predict train\n",
    "y_validate['operating_margin_validate_reg'] = reg.predict(X_validate)\n",
    "\n",
    "# evaluate: rmse\n",
    "rmse_tree_reg_validate = mean_squared_error(y_validate.operating_margin, y_validate.operating_margin_validate_reg)**(1/2)\n",
    "\n",
    "# print results of model\n",
    "print(\"RMSE for Decion Tree Regressor Model\\nValidate/In-Sample: \", rmse_tree_reg_validate)\n",
    "    \n",
    "#Improvement compared to baseline \n",
    "print(\"Percent Improvement Compared to Baseline: \",((rmse_baseline_train-rmse_tree_reg_validate)/(rmse_baseline_train)* 100))"
   ]
  },
  {
   "cell_type": "markdown",
   "id": "88419d76",
   "metadata": {},
   "source": [
    "### Linear Regression Model"
   ]
  },
  {
   "cell_type": "code",
   "execution_count": null,
   "id": "e7d14cca",
   "metadata": {},
   "outputs": [],
   "source": [
    "\n",
    "# create the model object\n",
    "lm2 = LinearRegression(normalize=True)\n",
    "\n",
    "# fit train data to model \n",
    "lm2.fit(X_train, y_train.operating_margin)\n",
    "\n",
    "# predict train\n",
    "y_validate['operating_margin_lm2'] = lm2.predict(X_validate)\n",
    "\n",
    "# evaluate: rmse\n",
    "rmse_linear_validate_reg_validate = mean_squared_error(y_validate.operating_margin, y_validate.operating_margin_lm2)**(1/2)\n",
    "\n",
    "# print results of model\n",
    "print(\"RMSE for Linear Regression Model,\\nValidate/In-Sample: \", rmse_linear_validate_reg_validate)\n",
    "    \n",
    "#Improvement compared to baseline \n",
    "print(\"Percent Improvement Compared to Baseline: \",((rmse_baseline_train-rmse_linear_validate_reg_validate)/(rmse_baseline_train)* 100))"
   ]
  },
  {
   "cell_type": "markdown",
   "id": "ec6f2b6d",
   "metadata": {},
   "source": [
    "### Tweedie Regressor "
   ]
  },
  {
   "cell_type": "code",
   "execution_count": null,
   "id": "684fa00f",
   "metadata": {},
   "outputs": [],
   "source": [
    "# create a regressor object\n",
    "model = linear_model.TweedieRegressor()\n",
    "\n",
    "# fit the regressor with X and Y data\n",
    "model.fit(X_train, y_train.operating_margin)\n",
    "    \n",
    "model.score(X_validate, y_validate.operating_margin)\n",
    "\n",
    "# predict train\n",
    "y_validate['operating_margin_tw_reg'] = model.predict(X_validate)\n",
    "\n",
    "# evaluate: rmse\n",
    "rmse_tw_reg_validate = mean_squared_error(y_validate.operating_margin, y_validate.operating_margin_tw_reg)**(1/2)\n",
    "\n",
    "# print results of model\n",
    "print(\"RMSE for Tweedie Regressor Model, degrees=1\\nTraining/In-Sample: \", rmse_tree_reg_validate)\n",
    "    \n",
    "#Improvement compared to baseline \n",
    "print(\"Percent Improvement Compared to Baseline: \",((rmse_baseline_train-rmse_tw_reg_validate)/(rmse_baseline_train)* 100))"
   ]
  },
  {
   "cell_type": "markdown",
   "id": "99254e41",
   "metadata": {},
   "source": [
    "## Test Model"
   ]
  },
  {
   "cell_type": "code",
   "execution_count": null,
   "id": "59136a18",
   "metadata": {},
   "outputs": [],
   "source": [
    "# create a regressor object\n",
    "reg = DecisionTreeRegressor(random_state = 100) \n",
    "\n",
    "# fit the regressor with X and Y data\n",
    "reg.fit(X_train, y_train.operating_margin)\n",
    "\n",
    "# predict train\n",
    "y_test['operating_margin_test_reg'] = reg.predict(X_test[x_all_significant_cols])\n",
    "\n",
    "# evaluate: rmse\n",
    "rmse_tree_reg_test = mean_squared_error(y_test.operating_margin, y_test.operating_margin_test_reg)**(1/2)\n",
    "\n",
    "# print results of model\n",
    "print(\"RMSE for Decion Tree Regressor Model\\nTest/In-Sample: \", rmse_tree_reg_test)\n",
    "    \n",
    "#Improvement compared to baseline \n",
    "print(\"Percent Improvement Compared to Baseline: \",((rmse_baseline_train-rmse_tree_reg_test)/(rmse_baseline_train)* 100))"
   ]
  },
  {
   "cell_type": "code",
   "execution_count": null,
   "id": "7993263b",
   "metadata": {},
   "outputs": [],
   "source": []
  },
  {
   "cell_type": "markdown",
   "id": "bb2e3d6c",
   "metadata": {},
   "source": [
    "## Conclusion\n",
    "\n",
    "### Summary\n",
    "- Operating margin has a relationship with region,retailer,sale method and product \n",
    "- Women's apparel and men's street footwear appear to have the highest profit margins\n",
    "- Online Sales appears to have the highest operating margin \n",
    "- The retailer with the highest operating margin is sports direct\n",
    "- Walmart appears to be underperforming relative to its peers \n",
    "- South region has the highest operating margin \n",
    "- The target variable does not have drastic outliers considering the median and mean are approximately 1% \n",
    "\n",
    "\n",
    "\n",
    "### Modeling Summary \n",
    "- The best combination of features for modeling were south (region), online sales (method),  sports direct(retailer) and women's apparel and men's street footwear (products)  \n",
    "- The best performing model was a Decision Tree Regressor which beat the baseline by ~17%\n",
    "\n",
    "\n",
    "### Recommendations\n",
    "* Provide Walmart less inventory and shift inventory to higher performing retailer or online sales inventory\n",
    "* The sales department reach out to the retailer sports direct to find out if they are opening more locations\n",
    "\n",
    "\n",
    "### Next Steps\n",
    "* Research if data supports decreasing the number of stores in certain cities or states based on how much of their operating margin comes from online sales  \n"
   ]
  },
  {
   "cell_type": "code",
   "execution_count": null,
   "id": "195ff753",
   "metadata": {},
   "outputs": [],
   "source": []
  }
 ],
 "metadata": {
  "kernelspec": {
   "display_name": "Python 3 (ipykernel)",
   "language": "python",
   "name": "python3"
  },
  "language_info": {
   "codemirror_mode": {
    "name": "ipython",
    "version": 3
   },
   "file_extension": ".py",
   "mimetype": "text/x-python",
   "name": "python",
   "nbconvert_exporter": "python",
   "pygments_lexer": "ipython3",
   "version": "3.9.12"
  }
 },
 "nbformat": 4,
 "nbformat_minor": 5
}
