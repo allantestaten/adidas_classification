{
 "cells": [
  {
   "cell_type": "code",
   "execution_count": 1,
   "id": "49dfb344",
   "metadata": {},
   "outputs": [],
   "source": [
    "#all imports for project \n",
    "from pathlib import Path \n",
    "from tabulate import tabulate\n",
    "\n",
    "import matplotlib.pyplot as plt\n",
    "import numpy as np\n",
    "import pandas as pd\n",
    "import seaborn as sns\n",
    "from scipy import stats\n",
    "from sklearn.model_selection import train_test_split\n",
    "from sklearn.ensemble import RandomForestClassifier\n",
    "from sklearn.neighbors import KNeighborsClassifier\n",
    "from sklearn.tree import DecisionTreeClassifier, plot_tree, export_text\n",
    "from sklearn.metrics import classification_report, confusion_matrix, plot_confusion_matrix\n",
    "from sklearn.linear_model import LogisticRegression\n",
    "from sklearn.linear_model import LinearRegression, LassoLars, TweedieRegressor\n",
    "from sklearn.preprocessing import PolynomialFeatures\n",
    "from sklearn.tree import DecisionTreeRegressor\n",
    "from sklearn import linear_model\n",
    "\n",
    "import warnings\n",
    "warnings.filterwarnings(\"ignore\")\n",
    "\n",
    "\n",
    "np.random.seed(100)\n"
   ]
  },
  {
   "cell_type": "code",
   "execution_count": 2,
   "id": "10d1e44e",
   "metadata": {},
   "outputs": [],
   "source": [
    "def get_split_data():\n",
    "    '''this function will retrieve, clean and split the data'''\n",
    "    # reading data into python from excel \n",
    "    df = pd.read_excel('Adidas_US_Sales_Datasets.xlsx')\n",
    "\n",
    "    #replace spaces with underscore\n",
    "    df.columns = [column.replace(' ','_').lower() for column in df]\n",
    "    # dropping columns \n",
    "    df = df.drop(columns= ['unnamed:_0','invoice_date','operating_profit','price_per_unit','units_sold','retailer_id','total_sales'])\n",
    "    # have to get dummys for categorical variables \n",
    "\n",
    "    # Uses one-hot encoding to create dummies of string columns for future modeling \n",
    "    dummy_df = pd.get_dummies(df[['region','retailer','product','sales_method']], dummy_na=False, drop_first=[False])\n",
    "    df = pd.concat([df, dummy_df], axis=1)\n",
    "\n",
    "    #replace spaces with underscore\n",
    "    df.columns = [column.replace(' ','_').lower() for column in df]\n",
    "    \n",
    "    # split data/ train, validate, test \n",
    "    train_validate, test = train_test_split(df, test_size=.2, random_state=123)\n",
    "    train, validate = train_test_split(train_validate, test_size=.3, random_state=123) \n",
    "    \n",
    "    return train,validate,test\n",
    "\n"
   ]
  },
  {
   "cell_type": "code",
   "execution_count": 3,
   "id": "120e85dd",
   "metadata": {},
   "outputs": [],
   "source": [
    "#creating data set ready for statistical questions\n",
    "train,validate, test = get_split_data()"
   ]
  },
  {
   "cell_type": "markdown",
   "id": "7196190b",
   "metadata": {},
   "source": [
    "## Target variable - Operating Margin\n",
    "How much profit company makes on a dollar of sales after paying variable costs but before paying interest or tax."
   ]
  },
  {
   "cell_type": "markdown",
   "id": "ab5bbb7f",
   "metadata": {},
   "source": [
    "## Data Dictionary \n",
    "\n",
    "| Feature | Definition |\n",
    "|:--------|:-----------|\n",
    "|Retailer| Specific store: Amazon, Foot Locker, Kohl's, Sports Direct, Walmart, West Gear|\n",
    "|Region| Geographic Region in United States: Northeast, Midwest South, Southeast, West |\n",
    "|Product| Products sold by retailer: men and women's footwear and apparel|\n",
    "|Operating Margin| operating income/revenue|\n",
    "|Sales Method | The method of sale: In Store, Online and Outlet |"
   ]
  },
  {
   "cell_type": "markdown",
   "id": "80c4f1b8",
   "metadata": {},
   "source": [
    "## What are the median and mean Operating Margins? "
   ]
  },
  {
   "cell_type": "code",
   "execution_count": 4,
   "id": "b88ec151",
   "metadata": {},
   "outputs": [],
   "source": [
    "def table():\n",
    "    ''' This function will create a table of information '''\n",
    "    #calculating median of property values \n",
    "    median = train.operating_margin.median() \n",
    "\n",
    "    #calculating mean of property values \n",
    "    mean = train.operating_margin.mean()\n",
    "\n",
    "    # difference between mean and median \n",
    "    difference = mean - median\n",
    "\n",
    "    #provides data for table\n",
    "    df = [[\"Median\", median], \n",
    "        [\"Mean\", mean],\n",
    "        [\"Difference\", difference]]\n",
    "        \n",
    "    #define header names\n",
    "    col_names = [\"Metric\", \"Value\"]\n",
    "  \n",
    "    #display table\n",
    "    print(tabulate(df, headers=col_names))   "
   ]
  },
  {
   "cell_type": "code",
   "execution_count": 5,
   "id": "22629750",
   "metadata": {
    "scrolled": true
   },
   "outputs": [
    {
     "name": "stdout",
     "output_type": "stream",
     "text": [
      "Metric         Value\n",
      "----------  --------\n",
      "Median      0.41\n",
      "Mean        0.423395\n",
      "Difference  0.013395\n"
     ]
    }
   ],
   "source": [
    "table()"
   ]
  },
  {
   "cell_type": "markdown",
   "id": "0ff0b6ef",
   "metadata": {},
   "source": [
    "## Takeaways \n",
    "- Median and mean are not too far apart \n",
    "- For performance evaluation, significantly exceeding .423 is exceptional \n",
    "\n"
   ]
  },
  {
   "cell_type": "markdown",
   "id": "f0028fc4",
   "metadata": {},
   "source": [
    "## Does region have a relationship with operating margin? "
   ]
  },
  {
   "cell_type": "code",
   "execution_count": 6,
   "id": "1785867c",
   "metadata": {
    "scrolled": true
   },
   "outputs": [],
   "source": [
    "def barplot(data,x,y,title):\n",
    "    '''this function will create a barplot'''\n",
    "    # barplot of region and operating margin \n",
    "    sns.barplot(data=data, x=x, y=y).set(title= title)\n"
   ]
  },
  {
   "cell_type": "code",
   "execution_count": 7,
   "id": "eee2c579",
   "metadata": {},
   "outputs": [
    {
     "data": {
      "image/png": "[encoded data removed]",
      "text/plain": [
       "<Figure size 432x288 with 1 Axes>"
      ]
     },
     "metadata": {
      "needs_background": "light"
     },
     "output_type": "display_data"
    }
   ],
   "source": [
    "# barplot visual\n",
    "barplot(train,\"region\",\"operating_margin\",\"Region with Operating Margin\")"
   ]
  },
  {
   "cell_type": "code",
   "execution_count": 8,
   "id": "3de0538e",
   "metadata": {},
   "outputs": [],
   "source": [
    "# create dataframes of regions with their operating margin \n",
    "n_east = train[train.region == 'Northeast'].operating_margin\n",
    "midwest = train[train.region == 'Midwest'].operating_margin\n",
    "south = train[train.region == 'South'].operating_margin\n",
    "west = train[train.region == 'West'].operating_margin\n",
    "s_east= train[train.region == 'Southeast'].operating_margin\n"
   ]
  },
  {
   "cell_type": "markdown",
   "id": "f64dfbfe",
   "metadata": {},
   "source": [
    "## Hypothesis\n",
    "\n",
    "Ho: There is not a significant difference in the operating margin mean across Regions.<br>\n",
    "Ha: Is there a significant difference in the operating margin mean across the Regions."
   ]
  },
  {
   "cell_type": "code",
   "execution_count": 9,
   "id": "57348bd5",
   "metadata": {},
   "outputs": [],
   "source": [
    "def anova_test(a,b,c,d,e):\n",
    "    '''this function will provide the results of the ANOVA test'''\n",
    "    # statistical test /#pearsonr test \n",
    "    results, p = stats.kruskal(a,b,c,d,e)\n",
    "\n",
    "    # print results of statistical test \n",
    "    print(f'Kruska Result = {results:.4f}')\n",
    "    print(f'p = {p}')"
   ]
  },
  {
   "cell_type": "code",
   "execution_count": 10,
   "id": "bdae4ba9",
   "metadata": {},
   "outputs": [
    {
     "name": "stdout",
     "output_type": "stream",
     "text": [
      "Kruska Result = 309.2166\n",
      "p = 1.113012461973387e-65\n"
     ]
    }
   ],
   "source": [
    "# statistical test evaluation\n",
    "anova_test(n_east,midwest,south,west,s_east)"
   ]
  },
  {
   "cell_type": "markdown",
   "id": "1e4d3e47",
   "metadata": {},
   "source": [
    "##  Takeaways \n",
    "\n",
    "- South region has the highest operating margin \n",
    "- There is a significant relationship between region and operating margin\n",
    "- Region should be a factor considered for modeling\n",
    "- Business takeaway, south region may be best region to continue to expand in\n",
    "\n",
    "\n",
    "## come backs \n",
    "- place values on the bar charts \n",
    "- figure out how to better present region names next to variances "
   ]
  },
  {
   "cell_type": "markdown",
   "id": "3ff3ac92",
   "metadata": {},
   "source": [
    "## Is there a relationship between operating margin and Retailers? "
   ]
  },
  {
   "cell_type": "code",
   "execution_count": 11,
   "id": "04829440",
   "metadata": {},
   "outputs": [],
   "source": [
    "# barplot visualbarplot(train,\"retailer\", \"operating_margin\",\"Retailer Operating Margins\")\n"
   ]
  },
  {
   "cell_type": "code",
   "execution_count": 12,
   "id": "c732d580",
   "metadata": {},
   "outputs": [],
   "source": [
    "# create dataframes of retailers with their operating margin \n",
    "sports_direct = train[train.retailer == 'Sports Direct'].operating_margin\n",
    "walmart = train[train.retailer == 'Walmart'].operating_margin\n",
    "foot_locker = train[train.retailer == 'Foot Locker'].operating_margin\n",
    "amazon = train[train.retailer == 'Amazon'].operating_margin\n",
    "west_gear= train[train.retailer == 'West Gear'].operating_margin\n",
    "kohls= train[train['retailer'] == \"Kohl's\"].operating_margin"
   ]
  },
  {
   "cell_type": "markdown",
   "id": "450ec9f0",
   "metadata": {},
   "source": [
    "## Hypothesis\n",
    "\n",
    "Ho: There is not a significant difference in the mean operating margin across Retailers.<br>\n",
    "Ha: Is there a significant difference in the operating margin mean across Retailers."
   ]
  },
  {
   "cell_type": "code",
   "execution_count": 13,
   "id": "f23745af",
   "metadata": {},
   "outputs": [],
   "source": [
    "def anova_test_six(a,b,c,d,e,f):\n",
    "    \"\"\"this function will run ANOVA test\"\"\"\n",
    "    # statistical test \n",
    "    results, p = stats.kruskal(a,b,c,d,e,f)\n",
    "    # print results of statistical test \n",
    "    print(f'Kruska Result = {results:.4f}')\n",
    "    print(f'p = {p}')"
   ]
  },
  {
   "cell_type": "code",
   "execution_count": 14,
   "id": "6a38a82c",
   "metadata": {},
   "outputs": [
    {
     "name": "stdout",
     "output_type": "stream",
     "text": [
      "Kruska Result = 48.8301\n",
      "p = 2.403965243243204e-09\n"
     ]
    }
   ],
   "source": [
    "anova_test_six(sports_direct,walmart,foot_locker,amazon,west_gear,kohls)"
   ]
  },
  {
   "cell_type": "markdown",
   "id": "1a86c941",
   "metadata": {},
   "source": [
    "## Takeaways \n",
    "- The retailer with the highest operating margin is sports_direct\n",
    "- The remaining retailers have a similar operating margin \n",
    "- Walmart appears to be underperforming relative to its peers \n",
    "- retailer is a feature that should be considered for modeling \n",
    "\n"
   ]
  },
  {
   "cell_type": "markdown",
   "id": "5b7242ef",
   "metadata": {},
   "source": [
    "## Is there a relationship between operating margin and sales method?"
   ]
  },
  {
   "cell_type": "code",
   "execution_count": 15,
   "id": "67bd85fa",
   "metadata": {},
   "outputs": [
    {
     "data": {
      "image/png": "[encoded data removed]",
      "text/plain": [
       "<Figure size 432x288 with 1 Axes>"
      ]
     },
     "metadata": {
      "needs_background": "light"
     },
     "output_type": "display_data"
    }
   ],
   "source": [
    "# barplot visual\n",
    "barplot(train,\"sales_method\", \"operating_margin\",\"Operating Margin by Sales Method\")"
   ]
  },
  {
   "cell_type": "code",
   "execution_count": 16,
   "id": "be093658",
   "metadata": {},
   "outputs": [],
   "source": [
    "# create dataframes of sales-method with their operating margin \n",
    "in_store = train[train.sales_method == 'In-store'].operating_margin\n",
    "online = train[train.sales_method == 'Online'].operating_margin\n",
    "outlet = train[train.sales_method == 'Outlet'].operating_margin\n"
   ]
  },
  {
   "cell_type": "code",
   "execution_count": 17,
   "id": "feb0b860",
   "metadata": {},
   "outputs": [
    {
     "name": "stdout",
     "output_type": "stream",
     "text": [
      "0.00519943845734698\n",
      "0.00785635451027821\n",
      "0.008511333987704333\n"
     ]
    }
   ],
   "source": [
    "# find variances of each region \n",
    "for df in (in_store,online,outlet):\n",
    "    # printing number of unique values for each categorial variable \n",
    "    print( df.var())"
   ]
  },
  {
   "cell_type": "markdown",
   "id": "eccd9fb8",
   "metadata": {},
   "source": [
    "## Hypothesis\n",
    "    \n",
    "Ho: There is not a significant difference in the mean operating margin across sales methods.<br>\n",
    "Ha: There is a significant difference in the mean operating margin across sales methods."
   ]
  },
  {
   "cell_type": "code",
   "execution_count": 18,
   "id": "e49c087c",
   "metadata": {},
   "outputs": [],
   "source": [
    "# create dataframes of sales-method with their operating margin \n",
    "in_store = train[train.sales_method == 'In-store'].operating_margin\n",
    "online = train[train.sales_method == 'Online'].operating_margin\n",
    "outlet = train[train.sales_method == 'Outlet'].operating_margin"
   ]
  },
  {
   "cell_type": "code",
   "execution_count": 19,
   "id": "81a492ec",
   "metadata": {
    "scrolled": true
   },
   "outputs": [],
   "source": [
    "def anova_test_retailer(a,b,c):\n",
    "    \"\"\"this function will run ANOVA test\"\"\"   \n",
    "    # statistical test \n",
    "    results, p = stats.kruskal(a,b,c)\n",
    "    # print results of statistical test \n",
    "    print(f'Kruska Result = {results:.4f}')\n",
    "    print(f'p = {p}')"
   ]
  },
  {
   "cell_type": "code",
   "execution_count": 20,
   "id": "1c46ca72",
   "metadata": {},
   "outputs": [
    {
     "name": "stdout",
     "output_type": "stream",
     "text": [
      "Kruska Result = 1168.4619\n",
      "p = 1.8695019652572764e-254\n"
     ]
    }
   ],
   "source": [
    "anova_test_retailer(in_store,online,outlet)"
   ]
  },
  {
   "cell_type": "markdown",
   "id": "556e9b1b",
   "metadata": {},
   "source": [
    "## Takeaways \n",
    "- Online Sales appears to have the highest operating margin \n",
    "- Sales method appears to have a signficant relationship with operating margin \n",
    "- Sales method should be a feature considered for modeling "
   ]
  },
  {
   "cell_type": "markdown",
   "id": "f46aed78",
   "metadata": {},
   "source": [
    "## Is there a significant difference in the mean operating margin across products?"
   ]
  },
  {
   "cell_type": "code",
   "execution_count": 21,
   "id": "7360b74a",
   "metadata": {},
   "outputs": [],
   "source": [
    "# categories of products\n",
    "# create dataframes of products with their operating margin \n",
    "men_athletic_footwear = train[train['product'] == \"Men's Athletic Footwear\"].operating_margin\n",
    "men_apparel = train[train['product'] == \"Men's Apparel\"].operating_margin\n",
    "women_street_footwear = train[train['product'] == \"Women's Street Footwear\"].operating_margin\n",
    "women_athletic_footwear = train[train['product'] == \"Women's Athletic Footwear\"].operating_margin\n",
    "men_street_footwear= train[train['product'] == \"Men's Street Footwear\"].operating_margin\n",
    "women_apparel= train[train['product'] == \"Women's Apparel\"].operating_margin"
   ]
  },
  {
   "cell_type": "code",
   "execution_count": 22,
   "id": "799fc8ea",
   "metadata": {},
   "outputs": [
    {
     "data": {
      "image/png": "[encoded data removed]",
      "text/plain": [
       "<Figure size 432x288 with 1 Axes>"
      ]
     },
     "metadata": {
      "needs_background": "light"
     },
     "output_type": "display_data"
    }
   ],
   "source": [
    "# barplot visual\n",
    "barplot(train,\"operating_margin\",\"product\",\"Operating Margin by Product\")"
   ]
  },
  {
   "cell_type": "code",
   "execution_count": 23,
   "id": "42d6b9a8",
   "metadata": {},
   "outputs": [
    {
     "name": "stdout",
     "output_type": "stream",
     "text": [
      "0.006873635895635922\n",
      "0.010847679758434843\n",
      "0.006440051395693449\n",
      "0.007837634332371796\n",
      "0.006645535681142026\n",
      "0.016536256603682378\n"
     ]
    }
   ],
   "source": [
    "# find variances of each region \n",
    "for df in (men_athletic_footwear,men_apparel,women_street_footwear,women_athletic_footwear,men_street_footwear,women_apparel):\n",
    "    # printing number of unique values for each categorial variable \n",
    "    print( df.var())"
   ]
  },
  {
   "cell_type": "markdown",
   "id": "b1dbaa6b",
   "metadata": {},
   "source": [
    "## Hypothesis\n",
    "\n",
    "Ho: There is not a significant difference in the operating margin mean across products.<br>\n",
    "Ha: Is there a significant difference in the operating margin mean across the products"
   ]
  },
  {
   "cell_type": "code",
   "execution_count": 24,
   "id": "9a689b9a",
   "metadata": {},
   "outputs": [
    {
     "name": "stdout",
     "output_type": "stream",
     "text": [
      "Kruska Result = 167.5372\n",
      "p = 2.4462474817537047e-34\n"
     ]
    }
   ],
   "source": [
    "# statistical test \n",
    "anova_test_six(men_athletic_footwear,men_apparel,women_street_footwear,women_athletic_footwear,men_street_footwear,women_apparel)"
   ]
  },
  {
   "cell_type": "markdown",
   "id": "7230215e",
   "metadata": {},
   "source": [
    "## Takeaways \n",
    "- there is a relationship between product and operating margin \n",
    "- Apparel will be considered for modeling \n",
    "- Women's apparel and men's street footwear appear to have the highest profit margins\n"
   ]
  },
  {
   "cell_type": "markdown",
   "id": "2043ee5c",
   "metadata": {},
   "source": [
    "## Exploration Summary\n",
    "\n",
    "- The median operating margin is 41%\n",
    "- The mean property value is 42.3%\n",
    "- There is a significant relationship between region and operating margin\n",
    "- Region should be a factor considered for modeling\n",
    "- retailer is a feature that should be considered for modeling \n",
    "- The retailer with the highest operating margin is sports_direct\n",
    "- Sales method appears to have a signficant relationship with operating margin \n",
    "- Sales method should be a feature considered for modeling \n",
    "- there is a relationship between product and operating margin \n",
    "- Product will be considered for modeling \n"
   ]
  },
  {
   "cell_type": "markdown",
   "id": "7e7cf5b0",
   "metadata": {},
   "source": [
    "## Modeling"
   ]
  },
  {
   "cell_type": "markdown",
   "id": "f14765e3",
   "metadata": {},
   "source": [
    "### Introduction\n",
    "\n",
    "- I will use Root Mean Squared error as my evaluation metric\n",
    "- My baseline model is created from the Root Mean Squared error (RMSE) of the median operating margin\n",
    "- The best combination of features for modeling were south (region), online sales (method),  sports direct(retailer) and women's apparel and men's street footwear (products)  \n",
    "- Models will be evaluated on train and validate data sets \n",
    "- The model that performs the best will be evaluated on the test data"
   ]
  },
  {
   "cell_type": "code",
   "execution_count": 25,
   "id": "d7a986a5",
   "metadata": {},
   "outputs": [
    {
     "name": "stdout",
     "output_type": "stream",
     "text": [
      "<class 'pandas.core.frame.DataFrame'>\n",
      "Int64Index: 5402 entries, 3508 to 8653\n",
      "Data columns (total 23 columns):\n",
      " #   Column                             Non-Null Count  Dtype  \n",
      "---  ------                             --------------  -----  \n",
      " 0   retailer                           5402 non-null   object \n",
      " 1   region                             5402 non-null   object \n",
      " 2   state                              5402 non-null   object \n",
      " 3   city                               5402 non-null   object \n",
      " 4   product                            5402 non-null   object \n",
      " 5   operating_margin                   5402 non-null   float64\n",
      " 6   sales_method                       5402 non-null   object \n",
      " 7   region_northeast                   5402 non-null   uint8  \n",
      " 8   region_south                       5402 non-null   uint8  \n",
      " 9   region_southeast                   5402 non-null   uint8  \n",
      " 10  region_west                        5402 non-null   uint8  \n",
      " 11  retailer_foot_locker               5402 non-null   uint8  \n",
      " 12  retailer_kohl's                    5402 non-null   uint8  \n",
      " 13  retailer_sports_direct             5402 non-null   uint8  \n",
      " 14  retailer_walmart                   5402 non-null   uint8  \n",
      " 15  retailer_west_gear                 5402 non-null   uint8  \n",
      " 16  product_men's_athletic_footwear    5402 non-null   uint8  \n",
      " 17  product_men's_street_footwear      5402 non-null   uint8  \n",
      " 18  product_women's_apparel            5402 non-null   uint8  \n",
      " 19  product_women's_athletic_footwear  5402 non-null   uint8  \n",
      " 20  product_women's_street_footwear    5402 non-null   uint8  \n",
      " 21  sales_method_online                5402 non-null   uint8  \n",
      " 22  sales_method_outlet                5402 non-null   uint8  \n",
      "dtypes: float64(1), object(6), uint8(16)\n",
      "memory usage: 422.0+ KB\n"
     ]
    }
   ],
   "source": [
    "train.info()"
   ]
  },
  {
   "cell_type": "code",
   "execution_count": 26,
   "id": "2f1f23f2",
   "metadata": {},
   "outputs": [],
   "source": [
    "# creating train target variables in train, validate and test datasets\n",
    "y_train = train['operating_margin']\n",
    "y_validate = validate['operating_margin']\n",
    "y_test = test['operating_margin']"
   ]
  },
  {
   "cell_type": "code",
   "execution_count": 27,
   "id": "46968978",
   "metadata": {},
   "outputs": [],
   "source": [
    "# changing y train, validate and test into a dataframe to append the new column with predicted values \n",
    "y_train = pd.DataFrame(y_train)\n",
    "y_validate= pd.DataFrame(y_validate)\n",
    "y_test= pd.DataFrame(y_test)"
   ]
  },
  {
   "cell_type": "markdown",
   "id": "46478d6c",
   "metadata": {},
   "source": [
    "## Baseline Model"
   ]
  },
  {
   "cell_type": "code",
   "execution_count": 49,
   "id": "327547c8",
   "metadata": {},
   "outputs": [],
   "source": [
    "from sklearn.metrics import mean_squared_error\n",
    "def baseline_model():\n",
    "    '''this function will create a baseline model'''\n",
    "    # Predict property_value_pred_mean (not used in project)\n",
    "    operating_margin_pred_mean = y_train['operating_margin'].mean()\n",
    "    y_train['operating_margin_pred_mean'] = operating_margin_pred_mean\n",
    "\n",
    "\n",
    "    # RMSE of prop_value_pred_mean\n",
    "    rmse_baseline_train = mean_squared_error(y_train.operating_margin, y_train.operating_margin_pred_mean)**(1/2)\n",
    "    print(\"RMSE using mean\\nTrain/In-Sample: \", round(rmse_baseline_train, 4))\n"
   ]
  },
  {
   "cell_type": "code",
   "execution_count": 52,
   "id": "2ad5f569",
   "metadata": {},
   "outputs": [
    {
     "name": "stdout",
     "output_type": "stream",
     "text": [
      "RMSE using mean\n",
      "Train/In-Sample:  0.0975\n"
     ]
    }
   ],
   "source": [
    "baseline_model()"
   ]
  },
  {
   "cell_type": "code",
   "execution_count": 29,
   "id": "e7c4c5e0",
   "metadata": {},
   "outputs": [],
   "source": [
    "## create features that will be tested in models \n",
    "#x_all_significant_cols = ['region_south','retailer_sports_direct',\"product_women's_apparel\",\"product_men's_street_footwear\",'sales_method_online']\n",
    "#x_region = ['region_south']\n",
    "#x_sales = ['sales_method_online']\n",
    "#x_region_sales =['region_south','sales_method_online']"
   ]
  },
  {
   "cell_type": "code",
   "execution_count": 30,
   "id": "ed03eac6",
   "metadata": {},
   "outputs": [
    {
     "name": "stdout",
     "output_type": "stream",
     "text": [
      "<class 'pandas.core.frame.DataFrame'>\n",
      "Int64Index: 5402 entries, 3508 to 8653\n",
      "Data columns (total 23 columns):\n",
      " #   Column                             Non-Null Count  Dtype  \n",
      "---  ------                             --------------  -----  \n",
      " 0   retailer                           5402 non-null   object \n",
      " 1   region                             5402 non-null   object \n",
      " 2   state                              5402 non-null   object \n",
      " 3   city                               5402 non-null   object \n",
      " 4   product                            5402 non-null   object \n",
      " 5   operating_margin                   5402 non-null   float64\n",
      " 6   sales_method                       5402 non-null   object \n",
      " 7   region_northeast                   5402 non-null   uint8  \n",
      " 8   region_south                       5402 non-null   uint8  \n",
      " 9   region_southeast                   5402 non-null   uint8  \n",
      " 10  region_west                        5402 non-null   uint8  \n",
      " 11  retailer_foot_locker               5402 non-null   uint8  \n",
      " 12  retailer_kohl's                    5402 non-null   uint8  \n",
      " 13  retailer_sports_direct             5402 non-null   uint8  \n",
      " 14  retailer_walmart                   5402 non-null   uint8  \n",
      " 15  retailer_west_gear                 5402 non-null   uint8  \n",
      " 16  product_men's_athletic_footwear    5402 non-null   uint8  \n",
      " 17  product_men's_street_footwear      5402 non-null   uint8  \n",
      " 18  product_women's_apparel            5402 non-null   uint8  \n",
      " 19  product_women's_athletic_footwear  5402 non-null   uint8  \n",
      " 20  product_women's_street_footwear    5402 non-null   uint8  \n",
      " 21  sales_method_online                5402 non-null   uint8  \n",
      " 22  sales_method_outlet                5402 non-null   uint8  \n",
      "dtypes: float64(1), object(6), uint8(16)\n",
      "memory usage: 422.0+ KB\n"
     ]
    }
   ],
   "source": [
    "train.info()"
   ]
  },
  {
   "cell_type": "code",
   "execution_count": 31,
   "id": "eadf7c70",
   "metadata": {},
   "outputs": [],
   "source": [
    "X_train = train.drop(columns=['retailer','region','state','city','product','operating_margin','sales_method'])\n",
    "X_validate = validate.drop(columns=['retailer','region','state','city','product','operating_margin','sales_method'])\n",
    "X_test = test.drop(columns=['retailer','region','state','city','product','operating_margin','sales_method'])"
   ]
  },
  {
   "cell_type": "markdown",
   "id": "9e872bfc",
   "metadata": {},
   "source": [
    "## Linear regression -Train"
   ]
  },
  {
   "cell_type": "code",
   "execution_count": 32,
   "id": "50a4b5ac",
   "metadata": {},
   "outputs": [],
   "source": [
    "\n",
    "def linear_reg_model_train():\n",
    "    # create the model object\n",
    "    lm2 = LinearRegression(normalize=True)\n",
    "    \n",
    "    # fit train data to model \n",
    "    lm2.fit(X_train, y_train.operating_margin)\n",
    "\n",
    "    # predict train\n",
    "    y_train['operating_margin_lm2'] = lm2.predict(X_train)\n",
    "\n",
    "    # evaluate: rmse\n",
    "    rmse_polynomial_reg_train = mean_squared_error(y_train.operating_margin, y_train.operating_margin_lm2)**(1/2)\n",
    "\n",
    "    # print results of model\n",
    "    print(\"RMSE for Linear Regression Model,\\nTraining/In-Sample: \", rmse_polynomial_reg_train)\n",
    "    \n",
    "    #Improvement compared to baseline \n",
    "    print(\"Percent Improvement Compared to Baseline: \",((rmse_baseline_train-rmse_polynomial_reg_train)/(rmse_baseline_train)* 100))"
   ]
  },
  {
   "cell_type": "code",
   "execution_count": 33,
   "id": "e7147874",
   "metadata": {},
   "outputs": [
    {
     "name": "stdout",
     "output_type": "stream",
     "text": [
      "RMSE for Linear Regression Model,\n",
      "Training/In-Sample:  0.08171954010526856\n",
      "Percent Improvement Compared to Baseline:  16.151258846001035\n"
     ]
    }
   ],
   "source": [
    "linear_reg_model_train()"
   ]
  },
  {
   "cell_type": "markdown",
   "id": "14701c3b",
   "metadata": {},
   "source": [
    "## Decision Tree Regressor  - train"
   ]
  },
  {
   "cell_type": "code",
   "execution_count": 34,
   "id": "c65c4959",
   "metadata": {},
   "outputs": [
    {
     "data": {
      "text/html": [
       "<div>\n",
       "<style scoped>\n",
       "    .dataframe tbody tr th:only-of-type {\n",
       "        vertical-align: middle;\n",
       "    }\n",
       "\n",
       "    .dataframe tbody tr th {\n",
       "        vertical-align: top;\n",
       "    }\n",
       "\n",
       "    .dataframe thead th {\n",
       "        text-align: right;\n",
       "    }\n",
       "</style>\n",
       "<table border=\"1\" class=\"dataframe\">\n",
       "  <thead>\n",
       "    <tr style=\"text-align: right;\">\n",
       "      <th></th>\n",
       "      <th>region_northeast</th>\n",
       "      <th>region_south</th>\n",
       "      <th>region_southeast</th>\n",
       "      <th>region_west</th>\n",
       "      <th>retailer_foot_locker</th>\n",
       "      <th>retailer_kohl's</th>\n",
       "      <th>retailer_sports_direct</th>\n",
       "      <th>retailer_walmart</th>\n",
       "      <th>retailer_west_gear</th>\n",
       "      <th>product_men's_athletic_footwear</th>\n",
       "      <th>product_men's_street_footwear</th>\n",
       "      <th>product_women's_apparel</th>\n",
       "      <th>product_women's_athletic_footwear</th>\n",
       "      <th>product_women's_street_footwear</th>\n",
       "      <th>sales_method_online</th>\n",
       "      <th>sales_method_outlet</th>\n",
       "    </tr>\n",
       "  </thead>\n",
       "  <tbody>\n",
       "    <tr>\n",
       "      <th>3508</th>\n",
       "      <td>1</td>\n",
       "      <td>0</td>\n",
       "      <td>0</td>\n",
       "      <td>0</td>\n",
       "      <td>0</td>\n",
       "      <td>0</td>\n",
       "      <td>1</td>\n",
       "      <td>0</td>\n",
       "      <td>0</td>\n",
       "      <td>1</td>\n",
       "      <td>0</td>\n",
       "      <td>0</td>\n",
       "      <td>0</td>\n",
       "      <td>0</td>\n",
       "      <td>0</td>\n",
       "      <td>0</td>\n",
       "    </tr>\n",
       "    <tr>\n",
       "      <th>2959</th>\n",
       "      <td>0</td>\n",
       "      <td>0</td>\n",
       "      <td>0</td>\n",
       "      <td>0</td>\n",
       "      <td>0</td>\n",
       "      <td>0</td>\n",
       "      <td>1</td>\n",
       "      <td>0</td>\n",
       "      <td>0</td>\n",
       "      <td>0</td>\n",
       "      <td>0</td>\n",
       "      <td>0</td>\n",
       "      <td>0</td>\n",
       "      <td>0</td>\n",
       "      <td>1</td>\n",
       "      <td>0</td>\n",
       "    </tr>\n",
       "    <tr>\n",
       "      <th>7826</th>\n",
       "      <td>1</td>\n",
       "      <td>0</td>\n",
       "      <td>0</td>\n",
       "      <td>0</td>\n",
       "      <td>0</td>\n",
       "      <td>0</td>\n",
       "      <td>0</td>\n",
       "      <td>1</td>\n",
       "      <td>0</td>\n",
       "      <td>0</td>\n",
       "      <td>0</td>\n",
       "      <td>0</td>\n",
       "      <td>0</td>\n",
       "      <td>1</td>\n",
       "      <td>0</td>\n",
       "      <td>1</td>\n",
       "    </tr>\n",
       "    <tr>\n",
       "      <th>323</th>\n",
       "      <td>0</td>\n",
       "      <td>0</td>\n",
       "      <td>0</td>\n",
       "      <td>0</td>\n",
       "      <td>1</td>\n",
       "      <td>0</td>\n",
       "      <td>0</td>\n",
       "      <td>0</td>\n",
       "      <td>0</td>\n",
       "      <td>0</td>\n",
       "      <td>0</td>\n",
       "      <td>0</td>\n",
       "      <td>1</td>\n",
       "      <td>0</td>\n",
       "      <td>0</td>\n",
       "      <td>1</td>\n",
       "    </tr>\n",
       "    <tr>\n",
       "      <th>9493</th>\n",
       "      <td>1</td>\n",
       "      <td>0</td>\n",
       "      <td>0</td>\n",
       "      <td>0</td>\n",
       "      <td>0</td>\n",
       "      <td>0</td>\n",
       "      <td>0</td>\n",
       "      <td>0</td>\n",
       "      <td>0</td>\n",
       "      <td>0</td>\n",
       "      <td>0</td>\n",
       "      <td>0</td>\n",
       "      <td>0</td>\n",
       "      <td>0</td>\n",
       "      <td>0</td>\n",
       "      <td>1</td>\n",
       "    </tr>\n",
       "    <tr>\n",
       "      <th>...</th>\n",
       "      <td>...</td>\n",
       "      <td>...</td>\n",
       "      <td>...</td>\n",
       "      <td>...</td>\n",
       "      <td>...</td>\n",
       "      <td>...</td>\n",
       "      <td>...</td>\n",
       "      <td>...</td>\n",
       "      <td>...</td>\n",
       "      <td>...</td>\n",
       "      <td>...</td>\n",
       "      <td>...</td>\n",
       "      <td>...</td>\n",
       "      <td>...</td>\n",
       "      <td>...</td>\n",
       "      <td>...</td>\n",
       "    </tr>\n",
       "    <tr>\n",
       "      <th>8588</th>\n",
       "      <td>0</td>\n",
       "      <td>0</td>\n",
       "      <td>0</td>\n",
       "      <td>1</td>\n",
       "      <td>0</td>\n",
       "      <td>0</td>\n",
       "      <td>0</td>\n",
       "      <td>0</td>\n",
       "      <td>1</td>\n",
       "      <td>0</td>\n",
       "      <td>0</td>\n",
       "      <td>1</td>\n",
       "      <td>0</td>\n",
       "      <td>0</td>\n",
       "      <td>0</td>\n",
       "      <td>1</td>\n",
       "    </tr>\n",
       "    <tr>\n",
       "      <th>3995</th>\n",
       "      <td>0</td>\n",
       "      <td>1</td>\n",
       "      <td>0</td>\n",
       "      <td>0</td>\n",
       "      <td>0</td>\n",
       "      <td>0</td>\n",
       "      <td>0</td>\n",
       "      <td>1</td>\n",
       "      <td>0</td>\n",
       "      <td>0</td>\n",
       "      <td>0</td>\n",
       "      <td>0</td>\n",
       "      <td>1</td>\n",
       "      <td>0</td>\n",
       "      <td>1</td>\n",
       "      <td>0</td>\n",
       "    </tr>\n",
       "    <tr>\n",
       "      <th>7003</th>\n",
       "      <td>0</td>\n",
       "      <td>0</td>\n",
       "      <td>0</td>\n",
       "      <td>0</td>\n",
       "      <td>0</td>\n",
       "      <td>0</td>\n",
       "      <td>0</td>\n",
       "      <td>0</td>\n",
       "      <td>1</td>\n",
       "      <td>0</td>\n",
       "      <td>0</td>\n",
       "      <td>0</td>\n",
       "      <td>0</td>\n",
       "      <td>0</td>\n",
       "      <td>1</td>\n",
       "      <td>0</td>\n",
       "    </tr>\n",
       "    <tr>\n",
       "      <th>4451</th>\n",
       "      <td>0</td>\n",
       "      <td>0</td>\n",
       "      <td>0</td>\n",
       "      <td>1</td>\n",
       "      <td>0</td>\n",
       "      <td>0</td>\n",
       "      <td>0</td>\n",
       "      <td>0</td>\n",
       "      <td>1</td>\n",
       "      <td>0</td>\n",
       "      <td>0</td>\n",
       "      <td>0</td>\n",
       "      <td>1</td>\n",
       "      <td>0</td>\n",
       "      <td>1</td>\n",
       "      <td>0</td>\n",
       "    </tr>\n",
       "    <tr>\n",
       "      <th>8653</th>\n",
       "      <td>0</td>\n",
       "      <td>0</td>\n",
       "      <td>0</td>\n",
       "      <td>1</td>\n",
       "      <td>0</td>\n",
       "      <td>0</td>\n",
       "      <td>0</td>\n",
       "      <td>0</td>\n",
       "      <td>1</td>\n",
       "      <td>0</td>\n",
       "      <td>0</td>\n",
       "      <td>0</td>\n",
       "      <td>0</td>\n",
       "      <td>0</td>\n",
       "      <td>0</td>\n",
       "      <td>1</td>\n",
       "    </tr>\n",
       "  </tbody>\n",
       "</table>\n",
       "<p>5402 rows × 16 columns</p>\n",
       "</div>"
      ],
      "text/plain": [
       "      region_northeast  region_south  region_southeast  region_west  \\\n",
       "3508                 1             0                 0            0   \n",
       "2959                 0             0                 0            0   \n",
       "7826                 1             0                 0            0   \n",
       "323                  0             0                 0            0   \n",
       "9493                 1             0                 0            0   \n",
       "...                ...           ...               ...          ...   \n",
       "8588                 0             0                 0            1   \n",
       "3995                 0             1                 0            0   \n",
       "7003                 0             0                 0            0   \n",
       "4451                 0             0                 0            1   \n",
       "8653                 0             0                 0            1   \n",
       "\n",
       "      retailer_foot_locker  retailer_kohl's  retailer_sports_direct  \\\n",
       "3508                     0                0                       1   \n",
       "2959                     0                0                       1   \n",
       "7826                     0                0                       0   \n",
       "323                      1                0                       0   \n",
       "9493                     0                0                       0   \n",
       "...                    ...              ...                     ...   \n",
       "8588                     0                0                       0   \n",
       "3995                     0                0                       0   \n",
       "7003                     0                0                       0   \n",
       "4451                     0                0                       0   \n",
       "8653                     0                0                       0   \n",
       "\n",
       "      retailer_walmart  retailer_west_gear  product_men's_athletic_footwear  \\\n",
       "3508                 0                   0                                1   \n",
       "2959                 0                   0                                0   \n",
       "7826                 1                   0                                0   \n",
       "323                  0                   0                                0   \n",
       "9493                 0                   0                                0   \n",
       "...                ...                 ...                              ...   \n",
       "8588                 0                   1                                0   \n",
       "3995                 1                   0                                0   \n",
       "7003                 0                   1                                0   \n",
       "4451                 0                   1                                0   \n",
       "8653                 0                   1                                0   \n",
       "\n",
       "      product_men's_street_footwear  product_women's_apparel  \\\n",
       "3508                              0                        0   \n",
       "2959                              0                        0   \n",
       "7826                              0                        0   \n",
       "323                               0                        0   \n",
       "9493                              0                        0   \n",
       "...                             ...                      ...   \n",
       "8588                              0                        1   \n",
       "3995                              0                        0   \n",
       "7003                              0                        0   \n",
       "4451                              0                        0   \n",
       "8653                              0                        0   \n",
       "\n",
       "      product_women's_athletic_footwear  product_women's_street_footwear  \\\n",
       "3508                                  0                                0   \n",
       "2959                                  0                                0   \n",
       "7826                                  0                                1   \n",
       "323                                   1                                0   \n",
       "9493                                  0                                0   \n",
       "...                                 ...                              ...   \n",
       "8588                                  0                                0   \n",
       "3995                                  1                                0   \n",
       "7003                                  0                                0   \n",
       "4451                                  1                                0   \n",
       "8653                                  0                                0   \n",
       "\n",
       "      sales_method_online  sales_method_outlet  \n",
       "3508                    0                    0  \n",
       "2959                    1                    0  \n",
       "7826                    0                    1  \n",
       "323                     0                    1  \n",
       "9493                    0                    1  \n",
       "...                   ...                  ...  \n",
       "8588                    0                    1  \n",
       "3995                    1                    0  \n",
       "7003                    1                    0  \n",
       "4451                    1                    0  \n",
       "8653                    0                    1  \n",
       "\n",
       "[5402 rows x 16 columns]"
      ]
     },
     "execution_count": 34,
     "metadata": {},
     "output_type": "execute_result"
    }
   ],
   "source": [
    "X_train"
   ]
  },
  {
   "cell_type": "code",
   "execution_count": 35,
   "id": "6cc6320f",
   "metadata": {},
   "outputs": [],
   "source": [
    "def tree_reg_model_train():\n",
    "    '''this function will create a decision tree regressor model and print results'''\n",
    "\n",
    "    # create a regressor object\n",
    "    reg = DecisionTreeRegressor(random_state = 100) \n",
    "\n",
    "    # fit the regressor with X and Y data\n",
    "    reg.fit(X_train, y_train.operating_margin)\n",
    "\n",
    "    # predict train\n",
    "    y_train['operating_margin_reg'] = reg.predict(X_train)\n",
    "\n",
    "    # evaluate: rmse\n",
    "    rmse_tree_reg_train = mean_squared_error(y_train.operating_margin, y_train.operating_margin_reg)**(1/2)\n",
    "\n",
    "    # print results of model\n",
    "    print(\"RMSE for Decion Tree Regressor Model\\nTraining/In-Sample: \", rmse_tree_reg_train)\n",
    "    \n",
    "    #Improvement compared to baseline \n",
    "    print(\"Percent Improvement Compared to Baseline: \",((rmse_baseline_train-rmse_tree_reg_train)/(rmse_baseline_train)* 100))\n",
    "\n"
   ]
  },
  {
   "cell_type": "code",
   "execution_count": null,
   "id": "72b1ab3b",
   "metadata": {},
   "outputs": [],
   "source": []
  },
  {
   "cell_type": "code",
   "execution_count": 36,
   "id": "86214f38",
   "metadata": {
    "scrolled": true
   },
   "outputs": [
    {
     "name": "stdout",
     "output_type": "stream",
     "text": [
      "RMSE for Decion Tree Regressor Model\n",
      "Training/In-Sample:  0.06438244783474624\n",
      "Percent Improvement Compared to Baseline:  33.94006872282389\n"
     ]
    }
   ],
   "source": [
    "tree_reg_model_train()"
   ]
  },
  {
   "cell_type": "markdown",
   "id": "3543bd69",
   "metadata": {},
   "source": [
    "## Tweedie Regressor - Train"
   ]
  },
  {
   "cell_type": "code",
   "execution_count": 37,
   "id": "2c74d397",
   "metadata": {},
   "outputs": [],
   "source": [
    "def tweedie_model_train():\n",
    "    '''this function will create a Tweedie Regressor model and print results'''\n",
    "\n",
    "    # create a regressor object\n",
    "    glm = TweedieRegressor(power=1, alpha=0)\n",
    "\n",
    "    # fit the regressor with X and Y data\n",
    "    glm.fit(X_train, y_train.operating_margin)\n",
    "    \n",
    "    # predict train\n",
    "    y_train['operating_margin_tw_reg'] = glm.predict(X_train)\n",
    "\n",
    "    # evaluate: rmse\n",
    "    rmse_tree_reg_train = mean_squared_error(y_train.operating_margin, y_train.operating_margin_tw_reg)**(1/2)\n",
    "\n",
    "    # print results of model\n",
    "    print(\"RMSE for Tweedie Regressor Model\\nTraining/In-Sample: \", rmse_tree_reg_train)\n",
    "    \n",
    "    #Improvement compared to baseline \n",
    "    print(\"Percent Improvement Compared to Baseline: \",((rmse_baseline_train-rmse_tree_reg_train)/(rmse_baseline_train)* 100))"
   ]
  },
  {
   "cell_type": "code",
   "execution_count": 38,
   "id": "0bce38da",
   "metadata": {},
   "outputs": [
    {
     "name": "stdout",
     "output_type": "stream",
     "text": [
      "RMSE for Tweedie Regressor Model\n",
      "Training/In-Sample:  0.08178153082540356\n",
      "Percent Improvement Compared to Baseline:  16.08765295884292\n"
     ]
    }
   ],
   "source": [
    "tweedie_model_train()"
   ]
  },
  {
   "cell_type": "markdown",
   "id": "08e69d40",
   "metadata": {},
   "source": [
    "## Validate Stage Modeling "
   ]
  },
  {
   "cell_type": "code",
   "execution_count": 39,
   "id": "10368e6e",
   "metadata": {},
   "outputs": [],
   "source": [
    "#X_train = X_train[x_all_significant_cols]\n",
    "#X_validate = X_validate[x_all_significant_cols]\n",
    "#X_test = X_test[x_all_significant_cols]"
   ]
  },
  {
   "cell_type": "code",
   "execution_count": 40,
   "id": "fc89e70a",
   "metadata": {},
   "outputs": [
    {
     "data": {
      "text/plain": [
       "3508    0.35\n",
       "2959    0.35\n",
       "7826    0.39\n",
       "323     0.40\n",
       "9493    0.29\n",
       "        ... \n",
       "8588    0.57\n",
       "3995    0.60\n",
       "7003    0.61\n",
       "4451    0.41\n",
       "8653    0.42\n",
       "Name: operating_margin, Length: 5402, dtype: float64"
      ]
     },
     "execution_count": 40,
     "metadata": {},
     "output_type": "execute_result"
    }
   ],
   "source": [
    "y_train.operating_margin"
   ]
  },
  {
   "cell_type": "markdown",
   "id": "596265ef",
   "metadata": {},
   "source": [
    "### Decision Tree Regressor Model\n"
   ]
  },
  {
   "cell_type": "code",
   "execution_count": 41,
   "id": "af2734d0",
   "metadata": {
    "scrolled": true
   },
   "outputs": [],
   "source": [
    "def tree_reg_model_validate():\n",
    "    '''this function will create a Tweedie Regressor model and print results'''\n",
    "\n",
    "    # create a regressor object\n",
    "    reg = DecisionTreeRegressor(random_state = 100) \n",
    "\n",
    "    # fit the regressor with X and Y data\n",
    "    reg.fit(X_train, y_train.operating_margin)\n",
    "\n",
    "    # predict train\n",
    "    y_validate['operating_margin_validate_reg'] = reg.predict(X_validate)\n",
    "\n",
    "    # evaluate: rmse\n",
    "    rmse_tree_reg_validate = mean_squared_error(y_validate.operating_margin, y_validate.operating_margin_validate_reg)**(1/2)\n",
    "\n",
    "    # print results of model\n",
    "    print(\"RMSE for Decision Tree Regressor Model\\nValidate/Out-of-Sample: \", rmse_tree_reg_validate)\n",
    "    \n",
    "    #Improvement compared to baseline \n",
    "    print(\"Percent Improvement Compared to Baseline: \",((rmse_baseline_train-rmse_tree_reg_validate)/(rmse_baseline_train)* 100))"
   ]
  },
  {
   "cell_type": "code",
   "execution_count": 42,
   "id": "791dfbe4",
   "metadata": {},
   "outputs": [
    {
     "name": "stdout",
     "output_type": "stream",
     "text": [
      "RMSE for Decision Tree Regressor Model\n",
      "Validate/Out-of-Sample:  0.06749690026163832\n",
      "Percent Improvement Compared to Baseline:  30.744469297735076\n"
     ]
    }
   ],
   "source": [
    "tree_reg_model_validate()\n"
   ]
  },
  {
   "cell_type": "markdown",
   "id": "88419d76",
   "metadata": {},
   "source": [
    "### Linear Regression Model"
   ]
  },
  {
   "cell_type": "code",
   "execution_count": 43,
   "id": "e7d14cca",
   "metadata": {},
   "outputs": [],
   "source": [
    "def linear_reg_model_validate():\n",
    "    '''this function will create a linear regression model and print results'''\n",
    "\n",
    "    # create the model object\n",
    "    lm2 = LinearRegression(normalize=True)\n",
    "\n",
    "    # fit train data to model \n",
    "    lm2.fit(X_train, y_train.operating_margin)\n",
    "\n",
    "    # predict train\n",
    "    y_validate['operating_margin_lm2'] = lm2.predict(X_validate)\n",
    "\n",
    "    # evaluate: rmse\n",
    "    rmse_linear_validate_reg_validate = mean_squared_error(y_validate.operating_margin, y_validate.operating_margin_lm2)**(1/2)\n",
    "\n",
    "    # print results of model\n",
    "    print(\"RMSE for Linear Regression Model,\\nValidate/Out-of-Sample: \", rmse_linear_validate_reg_validate)\n",
    "    \n",
    "    #Improvement compared to baseline \n",
    "    print(\"Percent Improvement Compared to Baseline: \",((rmse_baseline_train-rmse_linear_validate_reg_validate)/(rmse_baseline_train)* 100))"
   ]
  },
  {
   "cell_type": "code",
   "execution_count": 44,
   "id": "b08bb4ab",
   "metadata": {
    "scrolled": true
   },
   "outputs": [
    {
     "name": "stdout",
     "output_type": "stream",
     "text": [
      "RMSE for Linear Regression Model,\n",
      "Validate/Out-of-Sample:  0.08123598819149196\n",
      "Percent Improvement Compared to Baseline:  16.647409695608687\n"
     ]
    }
   ],
   "source": [
    "linear_reg_model_validate()"
   ]
  },
  {
   "cell_type": "markdown",
   "id": "ec6f2b6d",
   "metadata": {},
   "source": [
    "### Tweedie Regressor -Validate"
   ]
  },
  {
   "cell_type": "code",
   "execution_count": 45,
   "id": "684fa00f",
   "metadata": {
    "scrolled": true
   },
   "outputs": [],
   "source": [
    "def tweedie_model_validate():\n",
    "    '''this function will create a tweedie regressor model and print results'''\n",
    "    # create a regressor object\n",
    "    glm = TweedieRegressor(power=1, alpha=0)\n",
    "\n",
    "    # fit the regressor with X and Y data\n",
    "    glm.fit(X_train, y_train.operating_margin)\n",
    "    \n",
    "    # predict train\n",
    "    y_validate['operating_margin_pred_glm_validate'] = glm.predict(X_validate)\n",
    "\n",
    "    # evaluate: rmse\n",
    "    rmse_tweedie_validate = mean_squared_error(y_validate.operating_margin, y_validate.operating_margin_pred_glm_validate)**(1/2)\n",
    "\n",
    "    # print results of model\n",
    "    print(\"RMSE for Tweedie Regressor Model\\nValidate/Out-of-Sample: \", rmse_tweedie_validate)\n",
    "    \n",
    "    #Improvement compared to baseline \n",
    "    print(\"Percent Improvement Compared to Baseline: \",((rmse_baseline_train-rmse_tweedie_validate)/(rmse_baseline_train)* 100))"
   ]
  },
  {
   "cell_type": "code",
   "execution_count": 46,
   "id": "365de58d",
   "metadata": {},
   "outputs": [
    {
     "name": "stdout",
     "output_type": "stream",
     "text": [
      "RMSE for Tweedie Regressor Model\n",
      "Training/In-Sample:  0.08178153082540356\n",
      "Percent Improvement Compared to Baseline:  16.08765295884292\n"
     ]
    }
   ],
   "source": [
    "tweedie_model_validate()"
   ]
  },
  {
   "cell_type": "markdown",
   "id": "99254e41",
   "metadata": {},
   "source": [
    "## Test Model"
   ]
  },
  {
   "cell_type": "code",
   "execution_count": 47,
   "id": "59136a18",
   "metadata": {},
   "outputs": [],
   "source": [
    "def test_model():\n",
    "    '''this function will create the test model and results'''\n",
    "    # create a regressor object\n",
    "    reg = DecisionTreeRegressor(random_state = 100) \n",
    "\n",
    "    # fit the regressor with X and Y data\n",
    "    reg.fit(X_train, y_train.operating_margin)\n",
    "\n",
    "    # predict train\n",
    "    y_test['operating_margin_reg'] = reg.predict(X_test)\n",
    "\n",
    "    # evaluate: rmse\n",
    "    rmse_tree_reg_test = mean_squared_error(y_test.operating_margin, y_test.operating_margin_reg)**(1/2)\n",
    "\n",
    "    # print results of model\n",
    "    print(\"RMSE for Decion Tree Regressor Model\\nTraining/In-Sample: \", rmse_tree_reg_test)\n",
    "    \n",
    "    #Improvement compared to baseline \n",
    "    print(\"Percent Improvement Compared to Baseline: \",((rmse_baseline_train-rmse_tree_reg_test)/(rmse_baseline_train)* 100))"
   ]
  },
  {
   "cell_type": "code",
   "execution_count": 48,
   "id": "15a4de4a",
   "metadata": {},
   "outputs": [
    {
     "name": "stdout",
     "output_type": "stream",
     "text": [
      "RMSE for Decion Tree Regressor Model\n",
      "Training/In-Sample:  0.06793813276341196\n",
      "Percent Improvement Compared to Baseline:  30.291740491597757\n"
     ]
    }
   ],
   "source": [
    "# test model results \n",
    "test_model()"
   ]
  },
  {
   "cell_type": "markdown",
   "id": "bb2e3d6c",
   "metadata": {},
   "source": [
    "## Conclusion\n",
    "\n",
    "### Summary\n",
    "- Operating margin has a relationship with region,retailer,sale method and product \n",
    "- Women's apparel and men's street footwear appear to have the highest profit margins\n",
    "- Online Sales appears to have the highest operating margin \n",
    "- The retailer with the highest operating margin is sports direct\n",
    "- Walmart appears to be underperforming relative to its peers\n",
    "- South region has the highest operating margin \n",
    "- Operating Margin has few outliers considering the difference median and mean are approximately 1% \n",
    "\n",
    "\n",
    "\n",
    "### Modeling Summary \n",
    "- The best combination of features for modeling were each region, each sales method,  each retailer and each product\n",
    "- The best performing model was a Decision Tree Regressor which beat the baseline by 30%\n",
    "\n",
    "\n",
    "### Recommendations\n",
    "* Provide Walmart less inventory and shift inventory to higher performing retailer or online sales inventory\n",
    "* The sales department reach out to the retailer sports direct to find out if they are opening more locations\n",
    "\n",
    "\n",
    "### Next Steps\n",
    "* Research if data supports decreasing the number of stores in certain cities or states based on how much of their operating margin comes from online sales  \n"
   ]
  },
  {
   "cell_type": "code",
   "execution_count": null,
   "id": "195ff753",
   "metadata": {},
   "outputs": [],
   "source": []
  }
 ],
 "metadata": {
  "kernelspec": {
   "display_name": "Python 3 (ipykernel)",
   "language": "python",
   "name": "python3"
  },
  "language_info": {
   "codemirror_mode": {
    "name": "ipython",
    "version": 3
   },
   "file_extension": ".py",
   "mimetype": "text/x-python",
   "name": "python",
   "nbconvert_exporter": "python",
   "pygments_lexer": "ipython3",
   "version": "3.9.12"
  }
 },
 "nbformat": 4,
 "nbformat_minor": 5
}
