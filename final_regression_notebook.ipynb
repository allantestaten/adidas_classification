{
 "cells": [
  {
   "cell_type": "code",
   "execution_count": 1,
   "id": "49dfb344",
   "metadata": {},
   "outputs": [],
   "source": [
    "#all imports for project \n",
    "from tabulate import tabulate\n",
    "import matplotlib.pyplot as plt\n",
    "import numpy as np\n",
    "import pandas as pd\n",
    "import seaborn as sns\n",
    "from scipy import stats\n",
    "from sklearn.model_selection import train_test_split\n",
    "from sklearn.linear_model import LinearRegression, LassoLars, TweedieRegressor\n",
    "from sklearn.preprocessing import PolynomialFeatures\n",
    "from sklearn.tree import DecisionTreeRegressor\n",
    "from sklearn import linear_model\n",
    "\n",
    "import modeling as m\n",
    "import explore as e\n",
    "import wrangle as w\n",
    "\n",
    "import warnings\n",
    "warnings.filterwarnings(\"ignore\")\n",
    "\n",
    "\n",
    "np.random.seed(100)\n"
   ]
  },
  {
   "cell_type": "markdown",
   "id": "c0195b02",
   "metadata": {},
   "source": [
    "# Project Description\n",
    "Adidas United States Sales Team has asked me to provide a recommendation of how to grow sales in the United States market. \n",
    " "
   ]
  },
  {
   "cell_type": "markdown",
   "id": "75152353",
   "metadata": {},
   "source": [
    "# Executive Summary \n",
    "* Mean operating margin is 42%\n",
    "* 3 Models were created, Best model performs 30% better than baseline model \n",
    "* drivers of target variable : region, product, retailer and sale method \n",
    "* Recommend shifting some inventory from walmart to better performing retailers"
   ]
  },
  {
   "cell_type": "markdown",
   "id": "ab5bbb7f",
   "metadata": {},
   "source": [
    "## Data Dictionary \n",
    "\n",
    "| Feature | Definition |\n",
    "|:--------|:-----------|\n",
    "|Retailer| Specific store: Amazon, Foot Locker, Kohl's, Sports Direct, Walmart, West Gear|\n",
    "|Region| Geographic Region in United States: Northeast, Midwest South, Southeast, West |\n",
    "|Product| Category of Products sold by retailer: men and women's footwear and apparel|\n",
    "|Operating Margin| operating income/revenue|\n",
    "|Sales Method | The method of sale: In Store, Online and Outlet |"
   ]
  },
  {
   "cell_type": "markdown",
   "id": "7196190b",
   "metadata": {},
   "source": [
    "## Target variable - Operating Margin\n",
    "How much profit company makes on a dollar of sales after paying variable costs but before paying interest or tax"
   ]
  },
  {
   "cell_type": "code",
   "execution_count": 2,
   "id": "120e85dd",
   "metadata": {},
   "outputs": [],
   "source": [
    "# get data clean data set \n",
    "df = w.get_clean_data()"
   ]
  },
  {
   "cell_type": "code",
   "execution_count": 3,
   "id": "2356d83a",
   "metadata": {},
   "outputs": [],
   "source": [
    "# split data for exploration \n",
    "train,validate,test= w.split_data(df)"
   ]
  },
  {
   "cell_type": "markdown",
   "id": "80c4f1b8",
   "metadata": {},
   "source": [
    "## What is the central tendency of the data? "
   ]
  },
  {
   "cell_type": "code",
   "execution_count": 4,
   "id": "22629750",
   "metadata": {
    "scrolled": true
   },
   "outputs": [
    {
     "name": "stdout",
     "output_type": "stream",
     "text": [
      "Metric         Value\n",
      "----------  --------\n",
      "Median      0.41\n",
      "Mean        0.423395\n",
      "Difference  0.013395\n"
     ]
    }
   ],
   "source": [
    "#table of median and mean\n",
    "e.table(train)"
   ]
  },
  {
   "cell_type": "markdown",
   "id": "0ff0b6ef",
   "metadata": {},
   "source": [
    "## Takeaways \n",
    "- Minimal outliers if any considering the mean and median are not far apart\n",
    "- For performance evaluation, exceeding .423 is above average and potentially exceptional \n",
    "\n"
   ]
  },
  {
   "cell_type": "markdown",
   "id": "f0028fc4",
   "metadata": {},
   "source": [
    "## Does region have a relationship with operating margin? "
   ]
  },
  {
   "cell_type": "code",
   "execution_count": 5,
   "id": "eee2c579",
   "metadata": {},
   "outputs": [
    {
     "data": {
      "image/png": "[encoded data removed]",
      "text/plain": [
       "<Figure size 432x288 with 1 Axes>"
      ]
     },
     "metadata": {
      "needs_background": "light"
     },
     "output_type": "display_data"
    }
   ],
   "source": [
    "# barplot visual\n",
    "e.barplot(train,\"region\",\"operating_margin\",\"Region with Operating Margin\")"
   ]
  },
  {
   "cell_type": "markdown",
   "id": "f64dfbfe",
   "metadata": {},
   "source": [
    "## Hypothesis\n",
    "\n",
    "Ho: There is not a significant difference in the mean operating margin across Regions.<br>\n",
    "Ha: There is a significant difference in the mean operating margin across Regions."
   ]
  },
  {
   "cell_type": "code",
   "execution_count": 6,
   "id": "d95da06e",
   "metadata": {},
   "outputs": [],
   "source": [
    "#create region dataframes for statistical testing \n",
    "n_east,midwest,south,west,s_east = w.region_data_frames(train)"
   ]
  },
  {
   "cell_type": "code",
   "execution_count": 7,
   "id": "bdae4ba9",
   "metadata": {},
   "outputs": [
    {
     "name": "stdout",
     "output_type": "stream",
     "text": [
      "Kruska Result = 309.2166\n",
      "p = 1.113012461973387e-65\n"
     ]
    }
   ],
   "source": [
    "# statistical test evaluation\n",
    "e.anova_test(n_east,midwest,south,west,s_east)"
   ]
  },
  {
   "cell_type": "markdown",
   "id": "1e4d3e47",
   "metadata": {},
   "source": [
    "##  Takeaways \n",
    "\n",
    "- South region has the highest operating margin \n",
    "- There is a significant relationship between region and operating margin\n",
    "- Region should be a factor considered for modeling\n",
    "- Business takeaway, south region may be best region to continue to expand in"
   ]
  },
  {
   "cell_type": "markdown",
   "id": "3ff3ac92",
   "metadata": {},
   "source": [
    "## Is there a relationship between operating margin and Retailers? "
   ]
  },
  {
   "cell_type": "code",
   "execution_count": 8,
   "id": "04829440",
   "metadata": {},
   "outputs": [
    {
     "data": {
      "image/png": "[encoded data removed]",
      "text/plain": [
       "<Figure size 432x288 with 1 Axes>"
      ]
     },
     "metadata": {
      "needs_background": "light"
     },
     "output_type": "display_data"
    }
   ],
   "source": [
    "# barplot visual\n",
    "e.barplot(train,\"retailer\", \"operating_margin\",\"Retailer Operating Margins\")\n"
   ]
  },
  {
   "cell_type": "markdown",
   "id": "450ec9f0",
   "metadata": {},
   "source": [
    "## Hypothesis\n",
    "\n",
    "Ho: There is not a significant difference in the mean operating margin across Retailers.<br>\n",
    "Ha: There is a significant difference in the mean operating margin across Retailers."
   ]
  },
  {
   "cell_type": "code",
   "execution_count": 9,
   "id": "67b1736c",
   "metadata": {},
   "outputs": [],
   "source": [
    "#creating retail dataframes for statistical test \n",
    "sports_direct,walmart,foot_locker,amazon,west_gear,kohls = w.retailer_data_frames(train)"
   ]
  },
  {
   "cell_type": "code",
   "execution_count": 10,
   "id": "6a38a82c",
   "metadata": {},
   "outputs": [
    {
     "name": "stdout",
     "output_type": "stream",
     "text": [
      "Kruska Result = 48.8301\n",
      "p = 2.403965243243204e-09\n"
     ]
    }
   ],
   "source": [
    "# statistical test results \n",
    "e.anova_test_six(sports_direct,walmart,foot_locker,amazon,west_gear,kohls)"
   ]
  },
  {
   "cell_type": "markdown",
   "id": "1a86c941",
   "metadata": {},
   "source": [
    "## Takeaways \n",
    "- The retailer with the highest operating margin is Sports Direct\n",
    "- The remaining retailers have a similar operating margin, except Walmart\n",
    "- Walmart appears to be underperforming relative to its peers \n",
    "- Retailer is a feature that should be considered for modeling \n",
    "\n"
   ]
  },
  {
   "cell_type": "markdown",
   "id": "5b7242ef",
   "metadata": {},
   "source": [
    "## Is there a relationship between operating margin and sales method?"
   ]
  },
  {
   "cell_type": "code",
   "execution_count": 11,
   "id": "67bd85fa",
   "metadata": {},
   "outputs": [
    {
     "data": {
      "image/png": "[encoded data removed]",
      "text/plain": [
       "<Figure size 432x288 with 1 Axes>"
      ]
     },
     "metadata": {
      "needs_background": "light"
     },
     "output_type": "display_data"
    }
   ],
   "source": [
    "# barplot visual\n",
    "e.barplot(train,\"sales_method\", \"operating_margin\",\"Operating Margin by Sales Method\")"
   ]
  },
  {
   "cell_type": "markdown",
   "id": "eccd9fb8",
   "metadata": {},
   "source": [
    "## Hypothesis\n",
    "    \n",
    "Ho: There is not a significant difference in the mean operating margin across sales methods.<br>\n",
    "Ha: There is a significant difference in the mean operating margin across sales methods."
   ]
  },
  {
   "cell_type": "code",
   "execution_count": 12,
   "id": "1c46ca72",
   "metadata": {
    "scrolled": true
   },
   "outputs": [
    {
     "name": "stdout",
     "output_type": "stream",
     "text": [
      "Kruska Result = 1168.4619\n",
      "p = 1.8695019652572764e-254\n"
     ]
    }
   ],
   "source": [
    "#statistical test results \n",
    "e.anova_test_sales(train)"
   ]
  },
  {
   "cell_type": "markdown",
   "id": "556e9b1b",
   "metadata": {},
   "source": [
    "## Takeaways \n",
    "- Online Sales appears to have the highest operating margin \n",
    "- Sales method appears to have a signficant relationship with operating margin \n",
    "- Sales method should be a feature considered for modeling "
   ]
  },
  {
   "cell_type": "markdown",
   "id": "f46aed78",
   "metadata": {},
   "source": [
    "## Is there a relationship between products sold and operating margin?"
   ]
  },
  {
   "cell_type": "code",
   "execution_count": 13,
   "id": "799fc8ea",
   "metadata": {},
   "outputs": [
    {
     "data": {
      "image/png": "[encoded data removed]",
      "text/plain": [
       "<Figure size 432x288 with 1 Axes>"
      ]
     },
     "metadata": {
      "needs_background": "light"
     },
     "output_type": "display_data"
    }
   ],
   "source": [
    "# barplot visual\n",
    "e.barplot(train,\"operating_margin\",\"product\",\"Operating Margin by Product\")"
   ]
  },
  {
   "cell_type": "markdown",
   "id": "b1dbaa6b",
   "metadata": {},
   "source": [
    "## Hypothesis\n",
    "\n",
    "Ho: There is not a significant difference in the mean operating margin across products.<br>\n",
    "Ha: There is a significant difference in the mean operating margin across the products"
   ]
  },
  {
   "cell_type": "code",
   "execution_count": 14,
   "id": "9a689b9a",
   "metadata": {},
   "outputs": [
    {
     "name": "stdout",
     "output_type": "stream",
     "text": [
      "Kruska Result = 167.5372\n",
      "p = 2.4462474817537047e-34\n"
     ]
    }
   ],
   "source": [
    "#statistical test results \n",
    "e.anova_test_products(train)"
   ]
  },
  {
   "cell_type": "markdown",
   "id": "7230215e",
   "metadata": {},
   "source": [
    "## Takeaways \n",
    "- There is a relationship between product and operating margin \n",
    "- Apparel will be considered for modeling \n",
    "- Women's apparel and Men's street footwear appear to have the highest profit margins\n"
   ]
  },
  {
   "cell_type": "markdown",
   "id": "2043ee5c",
   "metadata": {},
   "source": [
    "## Exploration Summary\n",
    "\n",
    "- The median operating margin is 41%\n",
    "- The mean property value is 42.3%\n",
    "- There is a significant relationship between region and operating margin\n",
    "- Region should be a factor considered for modeling\n",
    "- Retailer is a feature that should be considered for modeling \n",
    "- The retailer with the highest operating margin is Sports Direct\n",
    "- Sales method appears to have a signficant relationship with operating margin \n",
    "- Sales method should be a feature considered for modeling \n",
    "- There is a relationship between product and operating margin \n",
    "- Product will be considered for modeling \n"
   ]
  },
  {
   "cell_type": "markdown",
   "id": "7e7cf5b0",
   "metadata": {},
   "source": [
    "## Modeling"
   ]
  },
  {
   "cell_type": "markdown",
   "id": "f14765e3",
   "metadata": {},
   "source": [
    "### Introduction\n",
    "\n",
    "- I will use Root Mean Squared Error as my evaluation metric\n",
    "- My baseline model is created from the Root Mean Squared Error (RMSE) of the mean operating margin\n",
    "- The best combination of features for modeling were each region, each sales method,  each retailer and each product\n",
    "- Models will be evaluated on train and validate data sets \n",
    "- The model that performs the best will be evaluated on the test data"
   ]
  },
  {
   "cell_type": "code",
   "execution_count": 15,
   "id": "72957547",
   "metadata": {},
   "outputs": [],
   "source": [
    "# preparing dataframes for modeling\n",
    "X_train, X_validate, X_test, y_train, y_validate, y_test = w.dataframe_prep(train,validate,test)"
   ]
  },
  {
   "cell_type": "markdown",
   "id": "3d10f908",
   "metadata": {},
   "source": [
    "## Baseline Model"
   ]
  },
  {
   "cell_type": "code",
   "execution_count": 16,
   "id": "9d6e3a35",
   "metadata": {},
   "outputs": [
    {
     "name": "stdout",
     "output_type": "stream",
     "text": [
      "RMSE for Baseline Model using Mean\n",
      "Train/In-Sample:  0.0975\n"
     ]
    }
   ],
   "source": [
    "# model performance\n",
    "rmse_baseline_train = m.baseline_model(y_train)"
   ]
  },
  {
   "cell_type": "markdown",
   "id": "9e872bfc",
   "metadata": {},
   "source": [
    "### Linear regression"
   ]
  },
  {
   "cell_type": "code",
   "execution_count": 17,
   "id": "d409632b",
   "metadata": {},
   "outputs": [
    {
     "name": "stdout",
     "output_type": "stream",
     "text": [
      "RMSE for Linear Regression Model\n",
      "Training/In-Sample:  0.08171954010526856\n",
      "Percent Improvement Compared to Baseline:  16.151258846001035\n"
     ]
    }
   ],
   "source": [
    "# model performance\n",
    "m.linear_reg_model_train(X_train,y_train,rmse_baseline_train)"
   ]
  },
  {
   "cell_type": "markdown",
   "id": "14701c3b",
   "metadata": {},
   "source": [
    "### Decision Tree Regressor"
   ]
  },
  {
   "cell_type": "code",
   "execution_count": 18,
   "id": "12357d98",
   "metadata": {
    "scrolled": true
   },
   "outputs": [
    {
     "name": "stdout",
     "output_type": "stream",
     "text": [
      "RMSE for Decion Tree Regressor Model\n",
      "Training/In-Sample:  0.06438244783474624\n",
      "Percent Improvement Compared to Baseline:  33.94006872282389\n"
     ]
    }
   ],
   "source": [
    "# model performance\n",
    "m.tree_reg_model_train(X_train,y_train,rmse_baseline_train)"
   ]
  },
  {
   "cell_type": "markdown",
   "id": "3543bd69",
   "metadata": {},
   "source": [
    "### Tweedie Regressor "
   ]
  },
  {
   "cell_type": "code",
   "execution_count": 19,
   "id": "d28b7405",
   "metadata": {},
   "outputs": [
    {
     "name": "stdout",
     "output_type": "stream",
     "text": [
      "RMSE for Tweedie Regressor Model\n",
      "Training/In-Sample:  0.08178153082540356\n",
      "Percent Improvement Compared to Baseline:  16.08765295884292\n"
     ]
    }
   ],
   "source": [
    "# model performance\n",
    "m.tweedie_regressor_train(X_train,y_train,rmse_baseline_train)"
   ]
  },
  {
   "cell_type": "markdown",
   "id": "08e69d40",
   "metadata": {},
   "source": [
    "## Validate Stage of Modeling "
   ]
  },
  {
   "cell_type": "markdown",
   "id": "596265ef",
   "metadata": {},
   "source": [
    "### Decision Tree Regressor Model\n"
   ]
  },
  {
   "cell_type": "code",
   "execution_count": 20,
   "id": "2c26ba0c",
   "metadata": {},
   "outputs": [
    {
     "name": "stdout",
     "output_type": "stream",
     "text": [
      "RMSE for Tweedie Regressor Model\n",
      "Validate/Out-of-Sample:  0.06749690026163832\n",
      "Percent Improvement Compared to Baseline:  30.744469297735076\n"
     ]
    }
   ],
   "source": [
    "# model performance\n",
    "m.tree_reg_model_validate(X_train,y_train,X_validate,y_validate,rmse_baseline_train)"
   ]
  },
  {
   "cell_type": "markdown",
   "id": "88419d76",
   "metadata": {},
   "source": [
    "### Linear Regression Model"
   ]
  },
  {
   "cell_type": "code",
   "execution_count": 21,
   "id": "79e68edb",
   "metadata": {
    "scrolled": true
   },
   "outputs": [
    {
     "name": "stdout",
     "output_type": "stream",
     "text": [
      "RMSE for Linear Regression Model\n",
      "Validate/Out-of-Sample:  0.08123598819149196\n",
      "Percent Improvement Compared to Baseline:  16.647409695608687\n"
     ]
    }
   ],
   "source": [
    "# model performance\n",
    "m.linear_reg_model_validate(X_train,y_train,X_validate,y_validate,rmse_baseline_train)"
   ]
  },
  {
   "cell_type": "markdown",
   "id": "ec6f2b6d",
   "metadata": {},
   "source": [
    "### Tweedie Regressor Model"
   ]
  },
  {
   "cell_type": "code",
   "execution_count": 22,
   "id": "3d6443c3",
   "metadata": {},
   "outputs": [
    {
     "name": "stdout",
     "output_type": "stream",
     "text": [
      "RMSE for Tweedie Regressor Model\n",
      "Validate/Out-of-Sample:  0.08131789632677168\n",
      "Percent Improvement Compared to Baseline:  16.563367445436583\n"
     ]
    }
   ],
   "source": [
    "# model performance\n",
    "m.tweedie_model_validate(X_train,y_train,X_validate,y_validate,rmse_baseline_train)"
   ]
  },
  {
   "cell_type": "markdown",
   "id": "99254e41",
   "metadata": {},
   "source": [
    "## Test Model"
   ]
  },
  {
   "cell_type": "code",
   "execution_count": 23,
   "id": "219a47b1",
   "metadata": {},
   "outputs": [
    {
     "name": "stdout",
     "output_type": "stream",
     "text": [
      "RMSE for Decion Tree Regressor Model\n",
      "Test/Out-of-Sample:  0.06793813276341196\n",
      "Percent Improvement Compared to Baseline:  30.291740491597757\n"
     ]
    }
   ],
   "source": [
    "# model performance\n",
    "m.test_model(X_train,y_train,X_test,y_test,rmse_baseline_train)"
   ]
  },
  {
   "cell_type": "markdown",
   "id": "bb2e3d6c",
   "metadata": {},
   "source": [
    "## Conclusion\n",
    "\n",
    "### Summary\n",
    "- Operating margin has a relationship with region,retailer,sale method and product \n",
    "- Women's apparel and Men's street footwear appear to have the highest profit margins\n",
    "- Online Sales appears to have the highest operating margin of sales methods\n",
    "- The retailer with the highest operating margin is sports direct\n",
    "- Walmart appears to be underperforming relative to its peers\n",
    "- South region has the highest operating margin \n",
    "- Operating Margin has few outliers considering the difference median and mean is approximately 1% \n",
    "\n",
    "\n",
    "\n",
    "### Modeling Summary \n",
    "- The best combination of features for modeling are each region, sales method, retailer and product\n",
    "- The best performing model was a Decision Tree Regressor which beat the baseline by 30%\n",
    "\n",
    "\n",
    "### Recommendations\n",
    "* Provide Walmart less inventory and shift inventory to better performing retailer\n",
    "* Sales department reach out to the retailer sports direct to find out if they are opening more locations\n",
    "\n",
    "\n",
    "### Next Steps\n",
    "* Research if data supports decreasing the number of stores in certain cities or states based on how much of their operating margin comes from online sales  \n"
   ]
  },
  {
   "cell_type": "code",
   "execution_count": null,
   "id": "195ff753",
   "metadata": {},
   "outputs": [],
   "source": []
  }
 ],
 "metadata": {
  "kernelspec": {
   "display_name": "Python 3 (ipykernel)",
   "language": "python",
   "name": "python3"
  },
  "language_info": {
   "codemirror_mode": {
    "name": "ipython",
    "version": 3
   },
   "file_extension": ".py",
   "mimetype": "text/x-python",
   "name": "python",
   "nbconvert_exporter": "python",
   "pygments_lexer": "ipython3",
   "version": "3.9.12"
  }
 },
 "nbformat": 4,
 "nbformat_minor": 5
}
